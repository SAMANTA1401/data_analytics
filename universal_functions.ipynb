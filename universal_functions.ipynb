{
 "cells": [
  {
   "cell_type": "code",
   "execution_count": 1,
   "id": "188f9d52",
   "metadata": {},
   "outputs": [],
   "source": [
    "def checkIfNotNumberic(*arg):\n",
    "    retValue = True\n",
    "    for x in args:\n",
    "        if not(isinstance(x,(int,float))):\n",
    "            return True\n",
    "def addAllNumberics(*args):\n",
    "    s = 0\n",
    "    for x in args:\n",
    "        s+=x\n",
    "    return s\n",
    "\n",
    "myName = \"Python Course\""
   ]
  },
  {
   "cell_type": "code",
   "execution_count": null,
   "id": "58e6098b",
   "metadata": {},
   "outputs": [],
   "source": []
  }
 ],
 "metadata": {
  "kernelspec": {
   "display_name": "Python 3 (ipykernel)",
   "language": "python",
   "name": "python3"
  },
  "language_info": {
   "codemirror_mode": {
    "name": "ipython",
    "version": 3
   },
   "file_extension": ".py",
   "mimetype": "text/x-python",
   "name": "python",
   "nbconvert_exporter": "python",
   "pygments_lexer": "ipython3",
   "version": "3.9.12"
  }
 },
 "nbformat": 4,
 "nbformat_minor": 5
}
