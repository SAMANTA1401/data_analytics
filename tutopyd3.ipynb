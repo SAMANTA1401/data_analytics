{
 "cells": [
  {
   "cell_type": "code",
   "execution_count": 1,
   "id": "4e5fe5f1",
   "metadata": {},
   "outputs": [],
   "source": [
    "import numpy as np\n",
    "from numpy.random import randn\n",
    "import matplotlib.pyplot as plt"
   ]
  },
  {
   "cell_type": "code",
   "execution_count": 2,
   "id": "7aa1fb6d",
   "metadata": {},
   "outputs": [],
   "source": [
    "data = {i : randn() for i in range(7)}"
   ]
  },
  {
   "cell_type": "code",
   "execution_count": 3,
   "id": "4da373a6",
   "metadata": {},
   "outputs": [
    {
     "name": "stdout",
     "output_type": "stream",
     "text": [
      "{0: 0.6246298752961604, 1: -1.0095866730039598, 2: 0.09553944552830192, 3: 1.5988565990659902, 4: 0.8962700000502389, 5: 0.864038079954948, 6: 0.13502293807513477}\n"
     ]
    }
   ],
   "source": [
    "print(data)"
   ]
  },
  {
   "cell_type": "code",
   "execution_count": 4,
   "id": "43212dc9",
   "metadata": {},
   "outputs": [],
   "source": [
    "b = [1,2,3]\n",
    "b.append(6)"
   ]
  },
  {
   "cell_type": "code",
   "execution_count": 5,
   "id": "99ba4839",
   "metadata": {},
   "outputs": [
    {
     "data": {
      "text/plain": [
       "[1, 2, 3, 6]"
      ]
     },
     "execution_count": 5,
     "metadata": {},
     "output_type": "execute_result"
    }
   ],
   "source": [
    "b"
   ]
  },
  {
   "cell_type": "code",
   "execution_count": 6,
   "id": "1afba6d0",
   "metadata": {},
   "outputs": [],
   "source": [
    "# object introspection\n",
    "b?\n"
   ]
  },
  {
   "cell_type": "code",
   "execution_count": 7,
   "id": "756b07fd",
   "metadata": {},
   "outputs": [],
   "source": [
    "# define\n",
    "\n",
    "def add_numb(x,y):\n",
    "    z=x+y\n",
    "    return z"
   ]
  },
  {
   "cell_type": "code",
   "execution_count": 8,
   "id": "d1288433",
   "metadata": {},
   "outputs": [
    {
     "data": {
      "text/plain": [
       "14"
      ]
     },
     "execution_count": 8,
     "metadata": {},
     "output_type": "execute_result"
    }
   ],
   "source": [
    "add_numb(5,9)"
   ]
  },
  {
   "cell_type": "code",
   "execution_count": 9,
   "id": "4ad3684b",
   "metadata": {},
   "outputs": [],
   "source": [
    "add_numb??"
   ]
  },
  {
   "cell_type": "code",
   "execution_count": 10,
   "id": "2543eaf1",
   "metadata": {},
   "outputs": [],
   "source": [
    "# wilcard *\n",
    "np.*load*?"
   ]
  },
  {
   "cell_type": "code",
   "execution_count": 11,
   "id": "b3e8d0ce",
   "metadata": {},
   "outputs": [],
   "source": [
    "# a file can be run as a python program inside the enviroment of your ipython session using the %run command suppose you had the following simple script stored in ipython_script_test.py\n",
    "def f(x,y,z):\n",
    "    return(x+y)/z"
   ]
  },
  {
   "cell_type": "code",
   "execution_count": 12,
   "id": "b36440c1",
   "metadata": {},
   "outputs": [
    {
     "data": {
      "text/plain": [
       "1.1666666666666667"
      ]
     },
     "execution_count": 12,
     "metadata": {},
     "output_type": "execute_result"
    }
   ],
   "source": [
    "f(3,4,6)"
   ]
  },
  {
   "cell_type": "code",
   "execution_count": 13,
   "id": "f511d4b0",
   "metadata": {},
   "outputs": [],
   "source": [
    "a=4\n",
    "b=5\n",
    "c=3"
   ]
  },
  {
   "cell_type": "code",
   "execution_count": 14,
   "id": "0dbaf47b",
   "metadata": {},
   "outputs": [
    {
     "data": {
      "text/plain": [
       "3.0"
      ]
     },
     "execution_count": 14,
     "metadata": {},
     "output_type": "execute_result"
    }
   ],
   "source": [
    "f(a,b,c)"
   ]
  },
  {
   "cell_type": "code",
   "execution_count": 15,
   "id": "639ad9f0",
   "metadata": {},
   "outputs": [],
   "source": [
    "x=5\n",
    "y=7\n",
    "\n",
    "if x>5:\n",
    "    x+=1\n",
    "    y=9"
   ]
  },
  {
   "cell_type": "code",
   "execution_count": 16,
   "id": "d860fe19",
   "metadata": {},
   "outputs": [
    {
     "name": "stdout",
     "output_type": "stream",
     "text": [
      "5 7\n"
     ]
    }
   ],
   "source": [
    "print(x,y)"
   ]
  },
  {
   "cell_type": "code",
   "execution_count": 17,
   "id": "4bc9f5b5",
   "metadata": {},
   "outputs": [],
   "source": [
    "# magic function\n",
    "# %run\n",
    "# %paste\n",
    "# %cpaste"
   ]
  },
  {
   "cell_type": "code",
   "execution_count": 18,
   "id": "3138ba92",
   "metadata": {},
   "outputs": [
    {
     "name": "stderr",
     "output_type": "stream",
     "text": [
      "UsageError: Line magic function `%cpaste` not found.\n"
     ]
    }
   ],
   "source": [
    "# %cpaste\n",
    "# x=5\n",
    "# y=7\n",
    "\n",
    "# if x>5:\n",
    "#     x+=1\n",
    "#     y=9\n",
    "    "
   ]
  },
  {
   "cell_type": "code",
   "execution_count": 23,
   "id": "22876084",
   "metadata": {},
   "outputs": [],
   "source": [
    "# short cut"
   ]
  },
  {
   "cell_type": "code",
   "execution_count": 24,
   "id": "49534221",
   "metadata": {},
   "outputs": [],
   "source": [
    "# exception and traceback\n"
   ]
  },
  {
   "cell_type": "code",
   "execution_count": 25,
   "id": "19754bbc",
   "metadata": {},
   "outputs": [
    {
     "data": {
      "text/plain": [
       "array([[ 0.65031334,  1.1949988 , -1.2849533 , ..., -0.80625722,\n",
       "        -0.14495162, -0.45377019],\n",
       "       [ 0.38884723, -0.28881463,  1.31268828, ..., -1.57878319,\n",
       "        -0.58459256, -0.94693933],\n",
       "       [-0.26074216, -0.68704647, -0.52381886, ..., -1.0119199 ,\n",
       "        -0.80799159, -0.84344333],\n",
       "       ...,\n",
       "       [-0.16446672,  1.72050435, -0.9629588 , ..., -0.49776852,\n",
       "        -0.70630532,  0.14019074],\n",
       "       [-0.6651194 ,  0.02199875,  0.39697006, ..., -0.36173284,\n",
       "        -1.11280061, -1.38112377],\n",
       "       [ 1.08895584, -2.25711537,  1.07264488, ...,  0.38421405,\n",
       "         1.99766309, -0.1019343 ]])"
      ]
     },
     "execution_count": 25,
     "metadata": {},
     "output_type": "execute_result"
    }
   ],
   "source": [
    "# %magic command  : which are designed to faciliate common tasks and enable you to easily control the behavior of the ipython system\n",
    "a = np.random.randn(100,100)\n",
    "a"
   ]
  },
  {
   "cell_type": "code",
   "execution_count": 26,
   "id": "b16860bf",
   "metadata": {},
   "outputs": [
    {
     "data": {
      "text/plain": [
       "array([[-16.05895067,   9.31651707,  -1.77692748, ...,  10.92373981,\n",
       "          9.28937789,  14.11491556],\n",
       "       [ -8.6980186 ,   6.49976532, -15.29705293, ..., -25.20414162,\n",
       "         -1.79297817, -17.07932837],\n",
       "       [ -9.40423669, -22.87420529, -11.35048091, ...,  -0.29778261,\n",
       "          6.1498894 ,  -5.51987207],\n",
       "       ...,\n",
       "       [ 16.97586704,  11.02061101,   2.5349889 , ...,  -6.92045372,\n",
       "        -19.43850405,   4.38872282],\n",
       "       [-10.60850786, -11.36577056, -14.11151012, ...,   4.23497639,\n",
       "         -5.80271417,   3.85074775],\n",
       "       [  3.34498518, -10.74665397,  -6.78539271, ..., -15.98965732,\n",
       "          7.18778842,  -3.14248499]])"
      ]
     },
     "execution_count": 26,
     "metadata": {},
     "output_type": "execute_result"
    }
   ],
   "source": [
    "%timeit\n",
    "np.dot(a, a)"
   ]
  },
  {
   "cell_type": "code",
   "execution_count": 27,
   "id": "f0bd82eb",
   "metadata": {},
   "outputs": [],
   "source": [
    "img = plt.imread('D:/stinkbug.JPG')"
   ]
  },
  {
   "cell_type": "code",
   "execution_count": 28,
   "id": "c6a27707",
   "metadata": {},
   "outputs": [],
   "source": [
    "plt.show()"
   ]
  },
  {
   "cell_type": "code",
   "execution_count": 29,
   "id": "c676db17",
   "metadata": {},
   "outputs": [
    {
     "data": {
      "image/png": "[encoded data removed]",
      "text/plain": [
       "<Figure size 432x288 with 1 Axes>"
      ]
     },
     "metadata": {
      "needs_background": "light"
     },
     "output_type": "display_data"
    }
   ],
   "source": [
    "import matplotlib.image as mpi\n",
    "img = mpi.imread('D:/stinkbug.JPG')\n",
    "imgplot = plt.imshow(img)\n",
    "plt.show()"
   ]
  },
  {
   "cell_type": "code",
   "execution_count": 30,
   "id": "d97aecad",
   "metadata": {},
   "outputs": [],
   "source": [
    "# plot(randn(1000).cumsum())"
   ]
  },
  {
   "cell_type": "code",
   "execution_count": 31,
   "id": "f6eae236",
   "metadata": {},
   "outputs": [],
   "source": [
    "# timing code: %time and %timeit\n",
    "# test your code which take more time by time function"
   ]
  },
  {
   "cell_type": "code",
   "execution_count": 32,
   "id": "94881739",
   "metadata": {},
   "outputs": [],
   "source": [
    "import time "
   ]
  },
  {
   "cell_type": "code",
   "execution_count": 35,
   "id": "612cf7ec",
   "metadata": {},
   "outputs": [],
   "source": [
    "# start = time.time()\n",
    "# for i in range(iterations):\n",
    "    \n",
    "# elapsed_per = (time.time()-start)/iterations\n"
   ]
  },
  {
   "cell_type": "code",
   "execution_count": 36,
   "id": "c45eb723",
   "metadata": {},
   "outputs": [],
   "source": [
    "# wanted to compare different methods of selecting all strings starting with a parting prefix\n",
    "strings = ['foo','foobar','baz','qux','python','guido van rossam']*100000"
   ]
  },
  {
   "cell_type": "code",
   "execution_count": 38,
   "id": "36083dde",
   "metadata": {},
   "outputs": [
    {
     "data": {
      "text/plain": [
       "['foo',\n",
       " 'foobar',\n",
       " 'baz',\n",
       " 'qux',\n",
       " 'python',\n",
       " 'guido van rossam',\n",
       " 'foo',\n",
       " 'foobar',\n",
       " 'baz',\n",
       " 'qux',\n",
       " 'python',\n",
       " 'guido van rossam',\n",
       " 'foo',\n",
       " 'foobar',\n",
       " 'baz',\n",
       " 'qux',\n",
       " 'python',\n",
       " 'guido van rossam',\n",
       " 'foo',\n",
       " 'foobar']"
      ]
     },
     "execution_count": 38,
     "metadata": {},
     "output_type": "execute_result"
    }
   ],
   "source": [
    "strings[:20]"
   ]
  },
  {
   "cell_type": "code",
   "execution_count": 41,
   "id": "d5d37231",
   "metadata": {},
   "outputs": [],
   "source": [
    "method1 = [x for x in strings if x.startswith('foo')]"
   ]
  },
  {
   "cell_type": "code",
   "execution_count": 43,
   "id": "abcd61f9",
   "metadata": {},
   "outputs": [
    {
     "data": {
      "text/plain": [
       "['foo',\n",
       " 'foobar',\n",
       " 'foo',\n",
       " 'foobar',\n",
       " 'foo',\n",
       " 'foobar',\n",
       " 'foo',\n",
       " 'foobar',\n",
       " 'foo',\n",
       " 'foobar',\n",
       " 'foo',\n",
       " 'foobar',\n",
       " 'foo',\n",
       " 'foobar',\n",
       " 'foo',\n",
       " 'foobar',\n",
       " 'foo',\n",
       " 'foobar',\n",
       " 'foo',\n",
       " 'foobar']"
      ]
     },
     "execution_count": 43,
     "metadata": {},
     "output_type": "execute_result"
    }
   ],
   "source": [
    "method1[:20]"
   ]
  },
  {
   "cell_type": "code",
   "execution_count": 44,
   "id": "8975a07e",
   "metadata": {},
   "outputs": [],
   "source": [
    "method2 = [x for x in strings if x[:3]=='foo']"
   ]
  },
  {
   "cell_type": "code",
   "execution_count": 46,
   "id": "feee180a",
   "metadata": {
    "scrolled": false
   },
   "outputs": [
    {
     "data": {
      "text/plain": [
       "['foo',\n",
       " 'foobar',\n",
       " 'foo',\n",
       " 'foobar',\n",
       " 'foo',\n",
       " 'foobar',\n",
       " 'foo',\n",
       " 'foobar',\n",
       " 'foo',\n",
       " 'foobar',\n",
       " 'foo',\n",
       " 'foobar',\n",
       " 'foo',\n",
       " 'foobar',\n",
       " 'foo',\n",
       " 'foobar',\n",
       " 'foo',\n",
       " 'foobar',\n",
       " 'foo',\n",
       " 'foobar']"
      ]
     },
     "execution_count": 46,
     "metadata": {},
     "output_type": "execute_result"
    }
   ],
   "source": [
    "method2[:20]"
   ]
  },
  {
   "cell_type": "code",
   "execution_count": 49,
   "id": "c4b074af",
   "metadata": {},
   "outputs": [
    {
     "name": "stdout",
     "output_type": "stream",
     "text": [
      "Wall time: 74.9 ms\n"
     ]
    }
   ],
   "source": [
    "%time method1 = [x for x in strings if x.startswith('foo')]\n"
   ]
  },
  {
   "cell_type": "code",
   "execution_count": 50,
   "id": "f6e97cf9",
   "metadata": {},
   "outputs": [
    {
     "name": "stdout",
     "output_type": "stream",
     "text": [
      "Wall time: 69.1 ms\n"
     ]
    }
   ],
   "source": [
    "%time method2 = [x for x in strings if x[:3]=='foo']"
   ]
  },
  {
   "cell_type": "code",
   "execution_count": 51,
   "id": "5ec056e5",
   "metadata": {},
   "outputs": [
    {
     "name": "stdout",
     "output_type": "stream",
     "text": [
      "73.5 ms ± 203 µs per loop (mean ± std. dev. of 7 runs, 10 loops each)\n"
     ]
    }
   ],
   "source": [
    "%timeit method1 = [x for x in strings if x.startswith('foo')]\n"
   ]
  },
  {
   "cell_type": "code",
   "execution_count": 52,
   "id": "bdb687b7",
   "metadata": {},
   "outputs": [
    {
     "name": "stdout",
     "output_type": "stream",
     "text": [
      "61.9 ms ± 848 µs per loop (mean ± std. dev. of 7 runs, 10 loops each)\n"
     ]
    }
   ],
   "source": [
    "%timeit method2 = [x for x in strings if x[:3]=='foo']"
   ]
  },
  {
   "cell_type": "code",
   "execution_count": 53,
   "id": "17d0e275",
   "metadata": {},
   "outputs": [],
   "source": [
    "x = 'footbar'\n",
    "y = 'foo'"
   ]
  },
  {
   "cell_type": "code",
   "execution_count": 54,
   "id": "d33a2634",
   "metadata": {},
   "outputs": [
    {
     "name": "stdout",
     "output_type": "stream",
     "text": [
      "140 ns ± 1.4 ns per loop (mean ± std. dev. of 7 runs, 10000000 loops each)\n"
     ]
    }
   ],
   "source": [
    "%timeit x.startswith(y)"
   ]
  },
  {
   "cell_type": "code",
   "execution_count": 55,
   "id": "9ce32d3d",
   "metadata": {},
   "outputs": [
    {
     "name": "stdout",
     "output_type": "stream",
     "text": [
      "134 ns ± 1.15 ns per loop (mean ± std. dev. of 7 runs, 10000000 loops each)\n"
     ]
    }
   ],
   "source": [
    "%timeit x[:3]==y"
   ]
  },
  {
   "cell_type": "code",
   "execution_count": null,
   "id": "f8432750",
   "metadata": {},
   "outputs": [],
   "source": [
    "page79"
   ]
  }
 ],
 "metadata": {
  "kernelspec": {
   "display_name": "Python 3 (ipykernel)",
   "language": "python",
   "name": "python3"
  },
  "language_info": {
   "codemirror_mode": {
    "name": "ipython",
    "version": 3
   },
   "file_extension": ".py",
   "mimetype": "text/x-python",
   "name": "python",
   "nbconvert_exporter": "python",
   "pygments_lexer": "ipython3",
   "version": "3.9.12"
  }
 },
 "nbformat": 4,
 "nbformat_minor": 5
}
