{
 "cells": [
  {
   "cell_type": "code",
   "execution_count": 1,
   "id": "6bb32012",
   "metadata": {},
   "outputs": [],
   "source": [
    "# l = [56,34,7,8,-5,89]\n",
    "# minValue = l[1]\n",
    "# idx = 1\n",
    "# n=len(L)\n",
    "# counter = 2\n",
    "\n",
    "# while(counter<=n):\n",
    "#           v = l[counter]\n",
    "#           if(v<minValue):\n",
    "#             minValue = v\n",
    "#             idx = counter\n",
    "#           else:\n",
    "#              pass\n",
    "# counter=counter+1\n",
    "# # return minValue, idx\n",
    "# print(minValue, idx)\n",
    "                       \n",
    "        "
   ]
  },
  {
   "cell_type": "code",
   "execution_count": 7,
   "id": "91a0317f",
   "metadata": {},
   "outputs": [
    {
     "name": "stdout",
     "output_type": "stream",
     "text": [
      "Enter a real number:-34.67\n",
      "-34\n",
      "Even\n"
     ]
    }
   ],
   "source": [
    "\"\"\"user enter a floating point number let saay 238.915. take only integer\"\"\"\n",
    "\n",
    "x=float(input(\"Enter a real number:\"))\n",
    "y=round(x)\n",
    "if x>0:\n",
    "    if y>x:\n",
    "        intportion = y-1 # 29.6\n",
    "    else:\n",
    "        intportion = y\n",
    "else:\n",
    "    if y<x:\n",
    "        intportion = y+1\n",
    "    else:\n",
    "        intportion = y\n",
    "print(intportion)\n",
    "\n",
    "if intportion%2 ==0:\n",
    "    print(\"Even\")\n",
    "else:\n",
    "    print(\"odd\")\n",
    "    \n"
   ]
  },
  {
   "cell_type": "code",
   "execution_count": 3,
   "id": "719b2838",
   "metadata": {
    "scrolled": true
   },
   "outputs": [
    {
     "name": "stdout",
     "output_type": "stream",
     "text": [
      "34\n",
      "1\n",
      "this is iteration number : 1\n",
      "4\n",
      "this is iteration number : 2\n",
      "9\n",
      "this is iteration number : 3\n",
      "16\n",
      "this is iteration number : 4\n",
      "25\n",
      "this is iteration number : 5\n",
      "36\n",
      "this is iteration number : 6\n",
      "49\n",
      "this is iteration number : 7\n",
      "64\n",
      "this is iteration number : 8\n",
      "81\n",
      "this is iteration number : 9\n",
      "100\n",
      "this is iteration number : 10\n",
      "121\n",
      "this is iteration number : 11\n",
      "144\n",
      "this is iteration number : 12\n",
      "169\n",
      "this is iteration number : 13\n",
      "196\n",
      "this is iteration number : 14\n",
      "225\n",
      "this is iteration number : 15\n",
      "256\n",
      "this is iteration number : 16\n",
      "289\n",
      "this is iteration number : 17\n",
      "324\n",
      "this is iteration number : 18\n",
      "361\n",
      "this is iteration number : 19\n",
      "400\n",
      "this is iteration number : 20\n",
      "441\n",
      "this is iteration number : 21\n",
      "484\n",
      "this is iteration number : 22\n",
      "529\n",
      "this is iteration number : 23\n",
      "576\n",
      "this is iteration number : 24\n",
      "625\n",
      "this is iteration number : 25\n",
      "676\n",
      "this is iteration number : 26\n",
      "729\n",
      "this is iteration number : 27\n",
      "784\n",
      "this is iteration number : 28\n",
      "841\n",
      "this is iteration number : 29\n",
      "900\n",
      "this is iteration number : 30\n",
      "961\n",
      "this is iteration number : 31\n",
      "1024\n",
      "this is iteration number : 32\n",
      "1089\n",
      "this is iteration number : 33\n",
      "loop done\n"
     ]
    }
   ],
   "source": [
    "n=int(input())\n",
    "i=1\n",
    "while i<n:\n",
    "    print(i**2)\n",
    "    print(\"this is iteration number :\", i)\n",
    "    i+=1 #i=i+1\n",
    "print(\"loop done\")"
   ]
  },
  {
   "cell_type": "code",
   "execution_count": 4,
   "id": "99c048fc",
   "metadata": {},
   "outputs": [
    {
     "name": "stdout",
     "output_type": "stream",
     "text": [
      "inside else\n",
      "inside else\n",
      "inside else\n",
      "inside else\n",
      "inside else\n",
      "inside else\n",
      "inside else\n",
      "inside else\n",
      "inside if\n",
      "done\n"
     ]
    }
   ],
   "source": [
    "n = 10\n",
    "i = 1\n",
    "while True:\n",
    "    if i%9 ==0:\n",
    "        print(\"inside if\")\n",
    "        break\n",
    "    else:\n",
    "        print(\"inside else\")\n",
    "        i = i+1\n",
    "print(\"done\")"
   ]
  },
  {
   "cell_type": "code",
   "execution_count": 5,
   "id": "fdceecce",
   "metadata": {},
   "outputs": [
    {
     "name": "stdout",
     "output_type": "stream",
     "text": [
      "inside if\n",
      "inside if\n",
      "inside if\n",
      "inside if\n",
      "inside if\n",
      "inside if\n",
      "inside if\n",
      "inside if\n",
      "sonmthing else\n",
      "done\n"
     ]
    }
   ],
   "source": [
    "n = 10\n",
    "i = 1\n",
    "while True:\n",
    "    if i%9 !=0:\n",
    "        print(\"inside if\")\n",
    "        i +=1\n",
    "        continue\n",
    "    print(\"sonmthing else\")\n",
    "  \n",
    "    break\n",
    "#     else:\n",
    "#         print(\"inside else\")\n",
    "#         i = i+1\n",
    "print(\"done\")"
   ]
  },
  {
   "cell_type": "code",
   "execution_count": 6,
   "id": "5c850d84",
   "metadata": {},
   "outputs": [
    {
     "name": "stdout",
     "output_type": "stream",
     "text": [
      "1\n",
      "3\n",
      "5\n",
      "7\n",
      "9\n",
      "[0, 4, 16, 36, 64]\n"
     ]
    }
   ],
   "source": [
    "L = []\n",
    "for i in range(0,10,2):\n",
    "    print(i+1)\n",
    "    L.append(i**2)\n",
    "print(L)\n"
   ]
  },
  {
   "cell_type": "code",
   "execution_count": 7,
   "id": "ef76f931",
   "metadata": {},
   "outputs": [
    {
     "name": "stdout",
     "output_type": "stream",
     "text": [
      "cherry\n",
      "apple\n",
      "Out side the loop\n"
     ]
    }
   ],
   "source": [
    "S = {\"apple\",4.9,\"cherry\"}\n",
    "i = 1\n",
    "for x in S:\n",
    "    print(x)\n",
    "    i+=1\n",
    "    if i==3:\n",
    "        break\n",
    "    else:\n",
    "        pass\n",
    "else:\n",
    "    print(\"Loop terminates with success\")\n",
    "print(\"Out side the loop\")"
   ]
  },
  {
   "cell_type": "code",
   "execution_count": 8,
   "id": "6686c26a",
   "metadata": {
    "scrolled": true
   },
   "outputs": [
    {
     "name": "stdout",
     "output_type": "stream",
     "text": [
      "A 10\n",
      "B -19\n",
      "C abc\n"
     ]
    }
   ],
   "source": [
    "D = {\"A\":10,\"B\":-19,\"C\":\"abc\"}\n",
    "for x in D:\n",
    "    print(x,D[x])"
   ]
  },
  {
   "cell_type": "code",
   "execution_count": 15,
   "id": "01989544",
   "metadata": {},
   "outputs": [
    {
     "name": "stdout",
     "output_type": "stream",
     "text": [
      "O\n",
      "p\n",
      "p\n",
      "p\n",
      "p\n",
      "p\n",
      "p\n",
      "p\n",
      "p\n",
      "y\n",
      "O\n",
      "p\n",
      "d\n",
      "p\n",
      "p\n",
      "d\n",
      "p\n",
      "d\n",
      "p\n",
      "p\n",
      "p\n",
      "y\n",
      "O\n",
      "p\n",
      "p\n",
      "d\n",
      "p\n",
      "p\n",
      "d\n",
      "p\n",
      "p\n",
      "y\n",
      "O\n",
      "p\n",
      "d\n",
      "p\n",
      "p\n",
      "p\n",
      "p\n",
      "y\n",
      "O\n",
      "p\n",
      "d\n",
      "p\n",
      "d\n",
      "p\n",
      "p\n",
      "y\n",
      "O\n",
      "p\n",
      "p\n",
      "d\n",
      "p\n",
      "y\n",
      "O\n",
      "p\n",
      "d\n",
      "p\n",
      "y\n",
      "O\n",
      "p\n",
      "y\n",
      "[10, 9, 8, 7, 4, 3, 2, -5]\n"
     ]
    }
   ],
   "source": [
    "\"\"\"selection sort: sort small to big\"\"\"\n",
    "L=[10,2,4,-5,7,9,8,3]\n",
    "for j in range(len(L)):\n",
    "    m =L[j]\n",
    "    idx=j\n",
    "    c=j\n",
    "    print(\"O\")\n",
    "    for i in range(j,len(L)):\n",
    "        if L[i]>m: #<\n",
    "            m=L[i]\n",
    "            idx=c\n",
    "            print(\"d\")\n",
    "        c+=1\n",
    "        print(\"p\")\n",
    "    tmp = L[j]\n",
    "    L[j]=m\n",
    "    L[idx]=tmp\n",
    "    print(\"y\")\n",
    "print(L)"
   ]
  },
  {
   "cell_type": "code",
   "execution_count": 10,
   "id": "244a4f79",
   "metadata": {},
   "outputs": [
    {
     "data": {
      "text/plain": [
       "[9, 8, 7, 4, 3, 2, 1, -5]"
      ]
     },
     "execution_count": 10,
     "metadata": {},
     "output_type": "execute_result"
    }
   ],
   "source": [
    "L"
   ]
  },
  {
   "cell_type": "code",
   "execution_count": 11,
   "id": "5fcd93a5",
   "metadata": {},
   "outputs": [],
   "source": [
    " def printSuccess():\n",
    "        print(\"I am done\")\n",
    "        print(\"send me another task\")"
   ]
  },
  {
   "cell_type": "code",
   "execution_count": 12,
   "id": "744c89b5",
   "metadata": {},
   "outputs": [
    {
     "name": "stdout",
     "output_type": "stream",
     "text": [
      "I am done\n",
      "send me another task\n"
     ]
    }
   ],
   "source": [
    "printSuccess()"
   ]
  },
  {
   "cell_type": "code",
   "execution_count": 13,
   "id": "3ced3150",
   "metadata": {},
   "outputs": [],
   "source": [
    "def printSuccess2():\n",
    "    print(\"hello\")\n"
   ]
  },
  {
   "cell_type": "code",
   "execution_count": 14,
   "id": "0f318071",
   "metadata": {},
   "outputs": [
    {
     "name": "stdout",
     "output_type": "stream",
     "text": [
      "Help on function printSuccess2 in module __main__:\n",
      "\n",
      "printSuccess2()\n",
      "\n"
     ]
    }
   ],
   "source": [
    "help(printSuccess2)"
   ]
  },
  {
   "cell_type": "code",
   "execution_count": 15,
   "id": "af3576b7",
   "metadata": {},
   "outputs": [],
   "source": [
    "def printMsg(msg):\n",
    "    \"\"\"thi function prints the msg supplied by the user or prints that msg\"\"\"\n",
    "    if isinstance(msg,str):\n",
    "        print(msg)\n",
    "    else:\n",
    "        print(\"your input argument is not a string\")\n",
    "        print(\"here is what you have supplied \", type(msg))"
   ]
  },
  {
   "cell_type": "code",
   "execution_count": 16,
   "id": "371cdc2a",
   "metadata": {},
   "outputs": [
    {
     "name": "stdout",
     "output_type": "stream",
     "text": [
      "this is the massage\n"
     ]
    }
   ],
   "source": [
    "printMsg(\"this is the massage\")"
   ]
  },
  {
   "cell_type": "code",
   "execution_count": 17,
   "id": "d2fc41e2",
   "metadata": {},
   "outputs": [
    {
     "name": "stdout",
     "output_type": "stream",
     "text": [
      "your input argument is not a string\n",
      "here is what you have supplied  <class 'int'>\n"
     ]
    }
   ],
   "source": [
    "printMsg(345)"
   ]
  },
  {
   "cell_type": "code",
   "execution_count": 18,
   "id": "fa2cbe35",
   "metadata": {},
   "outputs": [
    {
     "name": "stdout",
     "output_type": "stream",
     "text": [
      "hello there\n"
     ]
    }
   ],
   "source": [
    "y=\"hello there\"\n",
    "printMsg(y)"
   ]
  },
  {
   "cell_type": "code",
   "execution_count": 19,
   "id": "280640c2",
   "metadata": {},
   "outputs": [],
   "source": [
    "def mypow(a,b):\n",
    "    c=a**b\n",
    "    print(c)"
   ]
  },
  {
   "cell_type": "code",
   "execution_count": 20,
   "id": "54705e01",
   "metadata": {},
   "outputs": [],
   "source": [
    "mypow?"
   ]
  },
  {
   "cell_type": "code",
   "execution_count": 21,
   "id": "4d7c9a7e",
   "metadata": {},
   "outputs": [
    {
     "name": "stdout",
     "output_type": "stream",
     "text": [
      "81\n"
     ]
    }
   ],
   "source": [
    "mypow(3,4)"
   ]
  },
  {
   "cell_type": "code",
   "execution_count": 22,
   "id": "a292d64c",
   "metadata": {},
   "outputs": [],
   "source": [
    "def checkAgs(a,b,c):\n",
    "    if isinstance(a,(int,float)) and isinstance(b,(int,float)) and isinstance(c,(int,float)):\n",
    "        print((a+b+c)**2)\n",
    "    else:\n",
    "        print(\"Error: the input arguments are not of the expected types\")"
   ]
  },
  {
   "cell_type": "code",
   "execution_count": 23,
   "id": "b2e4fc2a",
   "metadata": {
    "scrolled": false
   },
   "outputs": [
    {
     "name": "stdout",
     "output_type": "stream",
     "text": [
      "144\n"
     ]
    }
   ],
   "source": [
    "checkAgs(3,4,5)"
   ]
  },
  {
   "cell_type": "code",
   "execution_count": 24,
   "id": "07555d10",
   "metadata": {
    "scrolled": false
   },
   "outputs": [
    {
     "name": "stdout",
     "output_type": "stream",
     "text": [
      "Error: the input arguments are not of the expected types\n"
     ]
    }
   ],
   "source": [
    "checkAgs(3,4,\"g\")"
   ]
  },
  {
   "cell_type": "code",
   "execution_count": 25,
   "id": "26e06c85",
   "metadata": {},
   "outputs": [],
   "source": [
    "def f(a,b,c):\n",
    "    print(\"A is :\", a)\n",
    "    print(\"B is :\", b)\n",
    "    print(\"C is :\", c)\n",
    "    "
   ]
  },
  {
   "cell_type": "code",
   "execution_count": 26,
   "id": "cffb3b8e",
   "metadata": {},
   "outputs": [
    {
     "name": "stdout",
     "output_type": "stream",
     "text": [
      "A is : 3\n",
      "B is : 4\n",
      "C is : g\n"
     ]
    }
   ],
   "source": [
    "f(3,4,\"g\")"
   ]
  },
  {
   "cell_type": "code",
   "execution_count": 27,
   "id": "dd6d3807",
   "metadata": {
    "scrolled": false
   },
   "outputs": [
    {
     "name": "stdout",
     "output_type": "stream",
     "text": [
      "A is : 4\n",
      "B is : g\n",
      "C is : 3\n"
     ]
    }
   ],
   "source": [
    "f(c=3,a=4,b=\"g\")"
   ]
  },
  {
   "cell_type": "code",
   "execution_count": 28,
   "id": "a3b567b7",
   "metadata": {},
   "outputs": [],
   "source": [
    "def myadd(a,b):\n",
    "    sumValue = a+b\n",
    "    return sumValue"
   ]
  },
  {
   "cell_type": "code",
   "execution_count": 29,
   "id": "5869f59d",
   "metadata": {},
   "outputs": [
    {
     "name": "stdout",
     "output_type": "stream",
     "text": [
      "5\n"
     ]
    }
   ],
   "source": [
    "d=myadd(2,3)\n",
    "print(d)"
   ]
  },
  {
   "cell_type": "code",
   "execution_count": 30,
   "id": "75d8be0c",
   "metadata": {},
   "outputs": [],
   "source": [
    " variableOutsideSideTheFunction = 3"
   ]
  },
  {
   "cell_type": "code",
   "execution_count": 31,
   "id": "aafd9420",
   "metadata": {},
   "outputs": [],
   "source": [
    "def g():\n",
    "    variableOutsideSideTheFunction = 5\n",
    "    print(variableOutsideSideTheFunction)"
   ]
  },
  {
   "cell_type": "code",
   "execution_count": 32,
   "id": "46a679de",
   "metadata": {},
   "outputs": [
    {
     "name": "stdout",
     "output_type": "stream",
     "text": [
      "5\n"
     ]
    }
   ],
   "source": [
    "g()"
   ]
  },
  {
   "cell_type": "code",
   "execution_count": 33,
   "id": "3e6deece",
   "metadata": {},
   "outputs": [
    {
     "name": "stdout",
     "output_type": "stream",
     "text": [
      "3\n"
     ]
    }
   ],
   "source": [
    "print(variableOutsideSideTheFunction)"
   ]
  },
  {
   "cell_type": "code",
   "execution_count": 34,
   "id": "609c0e1e",
   "metadata": {},
   "outputs": [],
   "source": [
    "def h():\n",
    "    print(\"A\")\n",
    "    a = 2\n",
    "    b = 5\n",
    "    c = a+b\n",
    "    print(\"something\")\n",
    "    return  #break\n",
    "    print(\"B\")"
   ]
  },
  {
   "cell_type": "code",
   "execution_count": 35,
   "id": "d0d86104",
   "metadata": {},
   "outputs": [
    {
     "name": "stdout",
     "output_type": "stream",
     "text": [
      "A\n",
      "something\n"
     ]
    }
   ],
   "source": [
    "h()"
   ]
  },
  {
   "cell_type": "code",
   "execution_count": 36,
   "id": "2b1fb5b4",
   "metadata": {
    "scrolled": false
   },
   "outputs": [
    {
     "name": "stdout",
     "output_type": "stream",
     "text": [
      "A\n",
      "something\n",
      "None\n"
     ]
    }
   ],
   "source": [
    "print(h())"
   ]
  },
  {
   "cell_type": "code",
   "execution_count": 37,
   "id": "9825e407",
   "metadata": {
    "scrolled": false
   },
   "outputs": [
    {
     "name": "stdout",
     "output_type": "stream",
     "text": [
      "A\n",
      "something\n",
      "<class 'NoneType'>\n"
     ]
    }
   ],
   "source": [
    "print(type(h()))"
   ]
  },
  {
   "cell_type": "code",
   "execution_count": 38,
   "id": "59f16eb2",
   "metadata": {},
   "outputs": [],
   "source": [
    "def h():\n",
    "    print(\"A\")\n",
    "    a = 2\n",
    "    b = 5\n",
    "    c = a+b\n",
    "    print(\"something\")\n",
    "    return c"
   ]
  },
  {
   "cell_type": "code",
   "execution_count": 39,
   "id": "33429038",
   "metadata": {
    "scrolled": true
   },
   "outputs": [
    {
     "name": "stdout",
     "output_type": "stream",
     "text": [
      "A\n",
      "something\n",
      "<class 'int'>\n"
     ]
    }
   ],
   "source": [
    "print(type(h()))"
   ]
  },
  {
   "cell_type": "code",
   "execution_count": 40,
   "id": "a5872ea8",
   "metadata": {},
   "outputs": [],
   "source": [
    "def r():\n",
    "    print(\"A\")\n",
    "    a = 2\n",
    "    b = 5\n",
    "    c = a+b\n",
    "    d = \"something\"\n",
    "    return a,b, c,d"
   ]
  },
  {
   "cell_type": "code",
   "execution_count": 41,
   "id": "812f9817",
   "metadata": {
    "scrolled": false
   },
   "outputs": [
    {
     "name": "stdout",
     "output_type": "stream",
     "text": [
      "A\n",
      "2 5 7 something\n"
     ]
    }
   ],
   "source": [
    "x,y,z,w  = r()\n",
    "print(x,y,z,w)"
   ]
  },
  {
   "cell_type": "code",
   "execution_count": 42,
   "id": "cfaac45d",
   "metadata": {},
   "outputs": [],
   "source": [
    "def myAddUniversal(*args):\n",
    "    s= 0\n",
    "    for i in range(len(args)):\n",
    "        s += args[i] # s = s+args[i]\n",
    "    return s"
   ]
  },
  {
   "cell_type": "code",
   "execution_count": 43,
   "id": "f5889182",
   "metadata": {
    "scrolled": false
   },
   "outputs": [
    {
     "name": "stdout",
     "output_type": "stream",
     "text": [
      "11\n"
     ]
    }
   ],
   "source": [
    "print(myAddUniversal(2,4,5))"
   ]
  },
  {
   "cell_type": "code",
   "execution_count": 44,
   "id": "d5337e27",
   "metadata": {},
   "outputs": [
    {
     "name": "stdout",
     "output_type": "stream",
     "text": [
      "32\n"
     ]
    }
   ],
   "source": [
    "print(myAddUniversal(2,4,5,6,7,8))"
   ]
  },
  {
   "cell_type": "code",
   "execution_count": 45,
   "id": "e510bf18",
   "metadata": {},
   "outputs": [],
   "source": [
    "def printAllVariableNamesAndValues(**args):\n",
    "    for x in args:\n",
    "        print(\"variable name is :\", x,\" And the value is:\", args[x])\n",
    "        "
   ]
  },
  {
   "cell_type": "code",
   "execution_count": 46,
   "id": "251b695e",
   "metadata": {
    "scrolled": true
   },
   "outputs": [
    {
     "name": "stdout",
     "output_type": "stream",
     "text": [
      "variable name is : a  And the value is: 3\n",
      "variable name is : b  And the value is: b\n",
      "variable name is : c  And the value is: ccc\n",
      "variable name is : y  And the value is: 6.7\n"
     ]
    }
   ],
   "source": [
    "printAllVariableNamesAndValues(a= 3,b=\"b\",c=\"ccc\",y=6.7)"
   ]
  },
  {
   "cell_type": "code",
   "execution_count": 47,
   "id": "427fe3fd",
   "metadata": {},
   "outputs": [],
   "source": [
    "def gg(s=4):\n",
    "    print(s)"
   ]
  },
  {
   "cell_type": "code",
   "execution_count": 48,
   "id": "91240862",
   "metadata": {},
   "outputs": [
    {
     "name": "stdout",
     "output_type": "stream",
     "text": [
      "4\n"
     ]
    }
   ],
   "source": [
    "gg()"
   ]
  },
  {
   "cell_type": "code",
   "execution_count": 49,
   "id": "bb569271",
   "metadata": {},
   "outputs": [
    {
     "name": "stdout",
     "output_type": "stream",
     "text": [
      "23\n"
     ]
    }
   ],
   "source": [
    "gg(23)"
   ]
  },
  {
   "cell_type": "code",
   "execution_count": 50,
   "id": "69f861e9",
   "metadata": {},
   "outputs": [
    {
     "name": "stdout",
     "output_type": "stream",
     "text": [
      "[-9, 2, 3]\n"
     ]
    }
   ],
   "source": [
    "L=[1,2,3]\n",
    "L2=L\n",
    "L2[0]=-9\n",
    "print(L)"
   ]
  },
  {
   "cell_type": "code",
   "execution_count": 51,
   "id": "134869de",
   "metadata": {},
   "outputs": [],
   "source": [
    "def ff(L=[1,2]):\n",
    "    for i in L:\n",
    "        print(i)"
   ]
  },
  {
   "cell_type": "code",
   "execution_count": 52,
   "id": "abf37ade",
   "metadata": {
    "scrolled": true
   },
   "outputs": [
    {
     "name": "stdout",
     "output_type": "stream",
     "text": [
      "1\n",
      "2\n"
     ]
    }
   ],
   "source": [
    "L2 = [12,3,4]\n",
    "ff()"
   ]
  },
  {
   "cell_type": "code",
   "execution_count": 53,
   "id": "664b4369",
   "metadata": {
    "scrolled": true
   },
   "outputs": [
    {
     "name": "stdout",
     "output_type": "stream",
     "text": [
      "12\n",
      "3\n",
      "4\n"
     ]
    }
   ],
   "source": [
    "ff(L2)"
   ]
  },
  {
   "cell_type": "code",
   "execution_count": 54,
   "id": "65ac7332",
   "metadata": {},
   "outputs": [],
   "source": [
    "def checkIfNotNumberic(*arg):\n",
    "    retValue = True\n",
    "    for x in args:\n",
    "        if not(isinstance(x,(int,float))):\n",
    "            return True\n",
    "def addAllNumberics(*args):\n",
    "    s = 0\n",
    "    for x in args:\n",
    "        s+=x\n",
    "    return s\n",
    "\n",
    "myName = \"Python Course\""
   ]
  },
  {
   "cell_type": "code",
   "execution_count": 55,
   "id": "a4297605",
   "metadata": {},
   "outputs": [],
   "source": [
    "import sys\n",
    "sys.path.append('D:/Python/')"
   ]
  },
  {
   "cell_type": "code",
   "execution_count": 56,
   "id": "c7f23e85",
   "metadata": {},
   "outputs": [],
   "source": [
    "import universal_functions as uf\n",
    "from universal_functions import addAllNumberics"
   ]
  },
  {
   "cell_type": "code",
   "execution_count": 57,
   "id": "4f38a484",
   "metadata": {},
   "outputs": [
    {
     "data": {
      "text/plain": [
       "9"
      ]
     },
     "execution_count": 57,
     "metadata": {},
     "output_type": "execute_result"
    }
   ],
   "source": [
    "uf.addAllNumberics(2,3,4)"
   ]
  },
  {
   "cell_type": "code",
   "execution_count": 58,
   "id": "377f3196",
   "metadata": {
    "scrolled": true
   },
   "outputs": [
    {
     "data": {
      "text/plain": [
       "9"
      ]
     },
     "execution_count": 58,
     "metadata": {},
     "output_type": "execute_result"
    }
   ],
   "source": [
    "addAllNumberics(2,3,4)"
   ]
  },
  {
   "cell_type": "code",
   "execution_count": 1,
   "id": "894ea97f",
   "metadata": {},
   "outputs": [],
   "source": [
    "def findMin(L):\n",
    "    m = L[0]\n",
    "    idx = 0\n",
    "    i = 0\n",
    "    for x in L:\n",
    "        if x<m:\n",
    "            m = x\n",
    "            idx = i\n",
    "        else:\n",
    "            pass\n",
    "        i+=1\n",
    "    return m,idx"
   ]
  },
  {
   "cell_type": "code",
   "execution_count": 2,
   "id": "365306cd",
   "metadata": {},
   "outputs": [],
   "source": [
    "a,b = findMin([2,3,4,5,0])"
   ]
  },
  {
   "cell_type": "code",
   "execution_count": 3,
   "id": "8be2a65f",
   "metadata": {
    "scrolled": true
   },
   "outputs": [
    {
     "name": "stdout",
     "output_type": "stream",
     "text": [
      "0 4\n"
     ]
    }
   ],
   "source": [
    "print(a,b)"
   ]
  },
  {
   "cell_type": "code",
   "execution_count": 62,
   "id": "10629631",
   "metadata": {},
   "outputs": [],
   "source": [
    "def swapValues(L, idx1, idx2):\n",
    "    tmp = L[idx1]\n",
    "    L[idx1] = L[idx2]\n",
    "    L[idx2]= tmp\n",
    "    return L"
   ]
  },
  {
   "cell_type": "code",
   "execution_count": 63,
   "id": "2cdf73f5",
   "metadata": {},
   "outputs": [
    {
     "name": "stdout",
     "output_type": "stream",
     "text": [
      "[2, 7, 6, 3]\n"
     ]
    }
   ],
   "source": [
    "L = [2,3,6,7]\n",
    "L2 = swapValues(L,1,3)\n",
    "print(L2)"
   ]
  },
  {
   "cell_type": "code",
   "execution_count": 64,
   "id": "b5804383",
   "metadata": {},
   "outputs": [],
   "source": [
    "def findMin2(L,startIndex):\n",
    "    m= L[startIndex]\n",
    "    idx = startIndex\n",
    "    for i in range(startIndex,len(L)):\n",
    "        x = L[i]\n",
    "        if x<m:\n",
    "            m = x\n",
    "            idx = i\n",
    "        else:\n",
    "            pass\n",
    "        return\n",
    "        "
   ]
  },
  {
   "cell_type": "code",
   "execution_count": 65,
   "id": "4d09e124",
   "metadata": {},
   "outputs": [],
   "source": [
    "def checkIfNotNumberic2(L):\n",
    "    for x in L:\n",
    "        if not(isinstance(x,(0int,float))):\n",
    "            return False\n",
    "    return True"
   ]
  },
  {
   "cell_type": "code",
   "execution_count": 66,
   "id": "562fdf33",
   "metadata": {},
   "outputs": [],
   "source": [
    "from universal_functions import checkIfNotNumberic\n",
    "def sortList(L):\n",
    "    if not(checkIfNotNumberic2(L)):\n",
    "        print(\"Error: List does not contain numeric values\")\n",
    "        return\n",
    "    else:\n",
    "        c = 0\n",
    "        for x in L:\n",
    "            m,idx = findMin2(L,c)\n",
    "            L= swapValues(L,c,idx)\n",
    "            c+=1\n",
    "           \n",
    "    return L\n",
    "           \n",
    "        \n",
    "    "
   ]
  },
  {
   "cell_type": "code",
   "execution_count": 67,
   "id": "807297fe",
   "metadata": {},
   "outputs": [],
   "source": [
    "# L2 = sortList([2,3,5,-5])\n",
    "# print(L2)"
   ]
  },
  {
   "cell_type": "code",
   "execution_count": 68,
   "id": "0f528396",
   "metadata": {},
   "outputs": [
    {
     "name": "stdout",
     "output_type": "stream",
     "text": [
      "45\n"
     ]
    }
   ],
   "source": [
    "price=45\n",
    "print(str(price))"
   ]
  },
  {
   "cell_type": "code",
   "execution_count": 69,
   "id": "a4179ee4",
   "metadata": {},
   "outputs": [],
   "source": [
    "s=\"you are the boss \""
   ]
  },
  {
   "cell_type": "code",
   "execution_count": 70,
   "id": "d10435f7",
   "metadata": {},
   "outputs": [
    {
     "data": {
      "text/plain": [
       "' ssob eht era uoy'"
      ]
     },
     "execution_count": 70,
     "metadata": {},
     "output_type": "execute_result"
    }
   ],
   "source": [
    "s[::-1]"
   ]
  },
  {
   "cell_type": "code",
   "execution_count": 71,
   "id": "3f3012df",
   "metadata": {},
   "outputs": [
    {
     "data": {
      "text/plain": [
       "'yow are the boss '"
      ]
     },
     "execution_count": 71,
     "metadata": {},
     "output_type": "execute_result"
    }
   ],
   "source": [
    "s.replace(\"u\", \"w\")"
   ]
  },
  {
   "cell_type": "code",
   "execution_count": 72,
   "id": "ae819fe0",
   "metadata": {},
   "outputs": [
    {
     "data": {
      "text/plain": [
       "['you', 'are', 'the', 'boss', '']"
      ]
     },
     "execution_count": 72,
     "metadata": {},
     "output_type": "execute_result"
    }
   ],
   "source": [
    "s.split(\" \")"
   ]
  },
  {
   "cell_type": "code",
   "execution_count": 73,
   "id": "8433c561",
   "metadata": {},
   "outputs": [
    {
     "name": "stdout",
     "output_type": "stream",
     "text": [
      "we are learning \"string\" here\n"
     ]
    }
   ],
   "source": [
    "print(\"we are learning \\\"string\\\" here\")"
   ]
  },
  {
   "cell_type": "code",
   "execution_count": 74,
   "id": "f5e699a1",
   "metadata": {},
   "outputs": [
    {
     "name": "stdout",
     "output_type": "stream",
     "text": [
      "we are learning \"string\" here\n"
     ]
    }
   ],
   "source": [
    "print('we are learning \"string\" here')"
   ]
  },
  {
   "cell_type": "code",
   "execution_count": 75,
   "id": "b0cd8a16",
   "metadata": {},
   "outputs": [
    {
     "name": "stdout",
     "output_type": "stream",
     "text": [
      "we are \t now on another line\n"
     ]
    }
   ],
   "source": [
    "print(\"we are \\t now on another line\")"
   ]
  },
  {
   "cell_type": "code",
   "execution_count": 4,
   "id": "c962476f",
   "metadata": {},
   "outputs": [],
   "source": [
    "L = [1,2,3,4.5,'name',3]"
   ]
  },
  {
   "cell_type": "code",
   "execution_count": 5,
   "id": "a05db089",
   "metadata": {},
   "outputs": [
    {
     "data": {
      "text/plain": [
       "[1, 2, 3, 4.5, 'name', 3]"
      ]
     },
     "execution_count": 5,
     "metadata": {},
     "output_type": "execute_result"
    }
   ],
   "source": [
    "L"
   ]
  },
  {
   "cell_type": "code",
   "execution_count": 6,
   "id": "35c6e342",
   "metadata": {},
   "outputs": [
    {
     "data": {
      "text/plain": [
       "[3, 'name', 4.5, 3, 2, 1]"
      ]
     },
     "execution_count": 6,
     "metadata": {},
     "output_type": "execute_result"
    }
   ],
   "source": [
    "L[::-1]"
   ]
  },
  {
   "cell_type": "code",
   "execution_count": 7,
   "id": "a67b68dc",
   "metadata": {},
   "outputs": [],
   "source": [
    "L = L +[\"how\", \"are\", 6 , \"you\"]"
   ]
  },
  {
   "cell_type": "code",
   "execution_count": 8,
   "id": "b9721366",
   "metadata": {},
   "outputs": [
    {
     "data": {
      "text/plain": [
       "[1, 2, 3, 4.5, 'name', 3, 'how', 'are', 6, 'you']"
      ]
     },
     "execution_count": 8,
     "metadata": {},
     "output_type": "execute_result"
    }
   ],
   "source": [
    "L"
   ]
  },
  {
   "cell_type": "code",
   "execution_count": 9,
   "id": "964a49ff",
   "metadata": {},
   "outputs": [],
   "source": [
    "L.append(6.8)"
   ]
  },
  {
   "cell_type": "code",
   "execution_count": 10,
   "id": "39992e75",
   "metadata": {},
   "outputs": [
    {
     "data": {
      "text/plain": [
       "[1, 2, 3, 4.5, 'name', 3, 'how', 'are', 6, 'you', 6.8]"
      ]
     },
     "execution_count": 10,
     "metadata": {},
     "output_type": "execute_result"
    }
   ],
   "source": [
    "L"
   ]
  },
  {
   "cell_type": "code",
   "execution_count": 11,
   "id": "95a3597e",
   "metadata": {},
   "outputs": [],
   "source": [
    "T = (3,4,5)"
   ]
  },
  {
   "cell_type": "code",
   "execution_count": 12,
   "id": "64a9aa1f",
   "metadata": {},
   "outputs": [],
   "source": [
    "T2 = ('a','b',54)\n",
    "T3 = T+T2"
   ]
  },
  {
   "cell_type": "code",
   "execution_count": 13,
   "id": "614ee91b",
   "metadata": {},
   "outputs": [
    {
     "data": {
      "text/plain": [
       "(3, 4, 5, 'a', 'b', 54)"
      ]
     },
     "execution_count": 13,
     "metadata": {},
     "output_type": "execute_result"
    }
   ],
   "source": [
    "T3"
   ]
  },
  {
   "cell_type": "code",
   "execution_count": 14,
   "id": "08238fdb",
   "metadata": {},
   "outputs": [],
   "source": [
    "S = {1,3,4.9,'name'}"
   ]
  },
  {
   "cell_type": "code",
   "execution_count": 15,
   "id": "b2f076d3",
   "metadata": {},
   "outputs": [],
   "source": [
    "S.add(56)"
   ]
  },
  {
   "cell_type": "code",
   "execution_count": 26,
   "id": "b3302dd1",
   "metadata": {},
   "outputs": [
    {
     "data": {
      "text/plain": [
       "{1, 23, 3, 4.9, 56, 'name'}"
      ]
     },
     "execution_count": 26,
     "metadata": {},
     "output_type": "execute_result"
    }
   ],
   "source": [
    "S"
   ]
  },
  {
   "cell_type": "code",
   "execution_count": 27,
   "id": "cb1e9699",
   "metadata": {},
   "outputs": [],
   "source": [
    "S.update({23,\"game\",1})"
   ]
  },
  {
   "cell_type": "code",
   "execution_count": 28,
   "id": "95e0b04f",
   "metadata": {},
   "outputs": [
    {
     "data": {
      "text/plain": [
       "{1, 23, 3, 4.9, 56, 'game', 'name'}"
      ]
     },
     "execution_count": 28,
     "metadata": {},
     "output_type": "execute_result"
    }
   ],
   "source": [
    "S"
   ]
  },
  {
   "cell_type": "code",
   "execution_count": 29,
   "id": "9f9a6623",
   "metadata": {},
   "outputs": [],
   "source": [
    "D={23:'throw', 'B':34, 'c':'ccd'}"
   ]
  },
  {
   "cell_type": "code",
   "execution_count": 30,
   "id": "aee0eedb",
   "metadata": {},
   "outputs": [
    {
     "data": {
      "text/plain": [
       "{23: 'throw', 'B': 34, 'c': 'ccd'}"
      ]
     },
     "execution_count": 30,
     "metadata": {},
     "output_type": "execute_result"
    }
   ],
   "source": [
    "D"
   ]
  },
  {
   "cell_type": "code",
   "execution_count": 31,
   "id": "cebda2b0",
   "metadata": {},
   "outputs": [],
   "source": [
    "D2={\"y\":\"YY\",\"z\":10}"
   ]
  },
  {
   "cell_type": "code",
   "execution_count": 32,
   "id": "8671cfa7",
   "metadata": {},
   "outputs": [],
   "source": [
    "del L[3]"
   ]
  },
  {
   "cell_type": "code",
   "execution_count": 33,
   "id": "36121823",
   "metadata": {},
   "outputs": [
    {
     "data": {
      "text/plain": [
       "[1, 2, 3, 3, 'how', 'are', 6, 'you', 6.8]"
      ]
     },
     "execution_count": 33,
     "metadata": {},
     "output_type": "execute_result"
    }
   ],
   "source": [
    "L"
   ]
  },
  {
   "cell_type": "code",
   "execution_count": 34,
   "id": "f355f52e",
   "metadata": {},
   "outputs": [],
   "source": [
    "S.remove('game')"
   ]
  },
  {
   "cell_type": "code",
   "execution_count": 35,
   "id": "22c9ea56",
   "metadata": {},
   "outputs": [],
   "source": [
    "# helper"
   ]
  },
  {
   "cell_type": "code",
   "execution_count": 36,
   "id": "9c76543e",
   "metadata": {},
   "outputs": [
    {
     "name": "stdout",
     "output_type": "stream",
     "text": [
      "Help on built-in function append:\n",
      "\n",
      "append(object, /) method of builtins.list instance\n",
      "    Append object to the end of the list.\n",
      "\n"
     ]
    }
   ],
   "source": [
    "help(L.append)"
   ]
  },
  {
   "cell_type": "code",
   "execution_count": 37,
   "id": "9998ed8c",
   "metadata": {},
   "outputs": [],
   "source": [
    "L.clear?"
   ]
  },
  {
   "cell_type": "code",
   "execution_count": 38,
   "id": "bcdd6314",
   "metadata": {},
   "outputs": [],
   "source": [
    "L.pop?"
   ]
  },
  {
   "cell_type": "code",
   "execution_count": 39,
   "id": "662209a9",
   "metadata": {},
   "outputs": [],
   "source": [
    "L.reverse()"
   ]
  },
  {
   "cell_type": "code",
   "execution_count": 40,
   "id": "98970006",
   "metadata": {
    "scrolled": true
   },
   "outputs": [
    {
     "data": {
      "text/plain": [
       "[6.8, 'you', 6, 'are', 'how', 3, 3, 2, 1]"
      ]
     },
     "execution_count": 40,
     "metadata": {},
     "output_type": "execute_result"
    }
   ],
   "source": [
    "L"
   ]
  },
  {
   "cell_type": "code",
   "execution_count": 103,
   "id": "32ad553d",
   "metadata": {},
   "outputs": [
    {
     "data": {
      "text/plain": [
       "[1, 2, 3, 'name', 3, 'how', 'are', 6, 'you', 6.8]"
      ]
     },
     "execution_count": 103,
     "metadata": {},
     "output_type": "execute_result"
    }
   ],
   "source": [
    "L[::-1]"
   ]
  },
  {
   "cell_type": "code",
   "execution_count": 104,
   "id": "9d822ffc",
   "metadata": {
    "scrolled": true
   },
   "outputs": [
    {
     "data": {
      "text/plain": [
       "dict_items([(23, 'throw'), ('B', 34), ('c', 'ccd')])"
      ]
     },
     "execution_count": 104,
     "metadata": {},
     "output_type": "execute_result"
    }
   ],
   "source": [
    "D.items()"
   ]
  },
  {
   "cell_type": "code",
   "execution_count": 105,
   "id": "1f0f5080",
   "metadata": {},
   "outputs": [
    {
     "data": {
      "text/plain": [
       "{23: 'throw', 'B': 34, 'c': 'ccd'}"
      ]
     },
     "execution_count": 105,
     "metadata": {},
     "output_type": "execute_result"
    }
   ],
   "source": [
    "D"
   ]
  },
  {
   "cell_type": "code",
   "execution_count": 106,
   "id": "ad7777c3",
   "metadata": {},
   "outputs": [],
   "source": [
    "D2 = {'A':L,'B':T,'c':S,'D':D}"
   ]
  },
  {
   "cell_type": "code",
   "execution_count": 107,
   "id": "7f92a335",
   "metadata": {
    "scrolled": false
   },
   "outputs": [
    {
     "data": {
      "text/plain": [
       "'are'"
      ]
     },
     "execution_count": 107,
     "metadata": {},
     "output_type": "execute_result"
    }
   ],
   "source": [
    "D2['A'][3]"
   ]
  },
  {
   "cell_type": "code",
   "execution_count": 108,
   "id": "224d6c24",
   "metadata": {},
   "outputs": [],
   "source": [
    "k = D2['D']"
   ]
  },
  {
   "cell_type": "code",
   "execution_count": 109,
   "id": "e225fda4",
   "metadata": {
    "scrolled": true
   },
   "outputs": [
    {
     "data": {
      "text/plain": [
       "{23: 'throw', 'B': 34, 'c': 'ccd'}"
      ]
     },
     "execution_count": 109,
     "metadata": {},
     "output_type": "execute_result"
    }
   ],
   "source": [
    "k"
   ]
  },
  {
   "cell_type": "code",
   "execution_count": 110,
   "id": "ce081f5e",
   "metadata": {},
   "outputs": [
    {
     "name": "stdout",
     "output_type": "stream",
     "text": [
      "23 throw\n",
      "B 34\n",
      "c ccd\n"
     ]
    }
   ],
   "source": [
    "for x in k:\n",
    "    print(x,k[x])"
   ]
  },
  {
   "cell_type": "code",
   "execution_count": 111,
   "id": "4126e665",
   "metadata": {},
   "outputs": [],
   "source": [
    "L3 = [L,T,D,23,\"game\"]"
   ]
  },
  {
   "cell_type": "code",
   "execution_count": 112,
   "id": "c89619a8",
   "metadata": {},
   "outputs": [
    {
     "data": {
      "text/plain": [
       "dict"
      ]
     },
     "execution_count": 112,
     "metadata": {},
     "output_type": "execute_result"
    }
   ],
   "source": [
    "type(L3[2])"
   ]
  },
  {
   "cell_type": "code",
   "execution_count": 113,
   "id": "e5ddacc1",
   "metadata": {},
   "outputs": [
    {
     "data": {
      "text/plain": [
       "[[6.8, 'you', 6, 'are', 'how', 3, 'name', 3, 2, 1],\n",
       " (3, 4, 5),\n",
       " {23: 'throw', 'B': 34, 'c': 'ccd'},\n",
       " 23,\n",
       " 'game']"
      ]
     },
     "execution_count": 113,
     "metadata": {},
     "output_type": "execute_result"
    }
   ],
   "source": [
    "L3"
   ]
  },
  {
   "cell_type": "code",
   "execution_count": 114,
   "id": "e58b464c",
   "metadata": {},
   "outputs": [],
   "source": [
    "L3 = [x**2 for x in range(10)]"
   ]
  },
  {
   "cell_type": "code",
   "execution_count": 115,
   "id": "2ef25180",
   "metadata": {},
   "outputs": [
    {
     "data": {
      "text/plain": [
       "[0, 1, 4, 9, 16, 25, 36, 49, 64, 81]"
      ]
     },
     "execution_count": 115,
     "metadata": {},
     "output_type": "execute_result"
    }
   ],
   "source": [
    "L3"
   ]
  },
  {
   "cell_type": "code",
   "execution_count": 116,
   "id": "dd1bcc98",
   "metadata": {},
   "outputs": [],
   "source": [
    "S3 = {x**2 for x in range(2,20,3)}"
   ]
  },
  {
   "cell_type": "code",
   "execution_count": 117,
   "id": "28558023",
   "metadata": {},
   "outputs": [
    {
     "data": {
      "text/plain": [
       "{4, 25, 64, 121, 196, 289}"
      ]
     },
     "execution_count": 117,
     "metadata": {},
     "output_type": "execute_result"
    }
   ],
   "source": [
    "S3"
   ]
  },
  {
   "cell_type": "code",
   "execution_count": 118,
   "id": "d64d194d",
   "metadata": {},
   "outputs": [
    {
     "data": {
      "text/plain": [
       "True"
      ]
     },
     "execution_count": 118,
     "metadata": {},
     "output_type": "execute_result"
    }
   ],
   "source": [
    "23 in D"
   ]
  },
  {
   "cell_type": "code",
   "execution_count": 119,
   "id": "c81f6be9",
   "metadata": {},
   "outputs": [
    {
     "data": {
      "text/plain": [
       "False"
      ]
     },
     "execution_count": 119,
     "metadata": {},
     "output_type": "execute_result"
    }
   ],
   "source": [
    "45 in D"
   ]
  },
  {
   "cell_type": "code",
   "execution_count": 41,
   "id": "72563fa1",
   "metadata": {},
   "outputs": [],
   "source": [
    "def getDatafromUser():\n",
    "    D = {}\n",
    "    while True:\n",
    "        studentId = input(\"Enter student ID: \")\n",
    "        marksList = input(\"Enter the marks by comma separated values: \")\n",
    "        moreStudents= input(\"Enter yes /no for adding more students: \")\n",
    "        if studentId in D:\n",
    "            print(studentId, \"is already insterted\")\n",
    "        else:\n",
    "            D[studentId] = marksList.split(',')\n",
    "        if moreStudents.lower()=='no':\n",
    "            return D"
   ]
  },
  {
   "cell_type": "code",
   "execution_count": 43,
   "id": "57a4b098",
   "metadata": {},
   "outputs": [
    {
     "name": "stdout",
     "output_type": "stream",
     "text": [
      "Enter student ID: 87\n",
      "Enter the marks by comma separated values: 98,90\n",
      "Enter yes /no for adding more students: no\n"
     ]
    }
   ],
   "source": [
    "studentData = getDatafromUser()"
   ]
  },
  {
   "cell_type": "code",
   "execution_count": 122,
   "id": "4c259b04",
   "metadata": {},
   "outputs": [
    {
     "data": {
      "text/plain": [
       "{'23': ['2']}"
      ]
     },
     "execution_count": 122,
     "metadata": {},
     "output_type": "execute_result"
    }
   ],
   "source": [
    "studentData"
   ]
  },
  {
   "cell_type": "code",
   "execution_count": 123,
   "id": "32d2abd9",
   "metadata": {},
   "outputs": [],
   "source": [
    "def getAvgMarks(D):\n",
    "    avgMarks = {}\n",
    "    for x in D:\n",
    "        L = D[x]\n",
    "        S = 0\n",
    "        for marks in L:\n",
    "            S+= int(marks)\n",
    "        avgMarks[x]= S/len(L)\n",
    "    return avgMarks\n",
    "            \n",
    "    "
   ]
  },
  {
   "cell_type": "code",
   "execution_count": 124,
   "id": "169919a6",
   "metadata": {},
   "outputs": [],
   "source": [
    "avgM=getAvgMarks(studentData)"
   ]
  },
  {
   "cell_type": "code",
   "execution_count": 125,
   "id": "f8b03e5b",
   "metadata": {},
   "outputs": [
    {
     "name": "stdout",
     "output_type": "stream",
     "text": [
      "Stuudent : 23 fot avvg Marks as: 2.0\n"
     ]
    }
   ],
   "source": [
    "for x in avgM:\n",
    "    print(\"Stuudent :\", x, \"fot avvg Marks as:\",avgM[x] )"
   ]
  },
  {
   "cell_type": "code",
   "execution_count": 126,
   "id": "6ae6eca8",
   "metadata": {},
   "outputs": [],
   "source": [
    "import numpy as np"
   ]
  },
  {
   "cell_type": "code",
   "execution_count": 127,
   "id": "e977adda",
   "metadata": {},
   "outputs": [],
   "source": [
    "a= np.array([1,2,3,5,7])"
   ]
  },
  {
   "cell_type": "code",
   "execution_count": 128,
   "id": "1d3ae8ec",
   "metadata": {},
   "outputs": [],
   "source": [
    "b=np.array((2,3))"
   ]
  },
  {
   "cell_type": "code",
   "execution_count": 129,
   "id": "fb603acb",
   "metadata": {},
   "outputs": [
    {
     "name": "stdout",
     "output_type": "stream",
     "text": [
      "[1 2 3 5 7]\n"
     ]
    }
   ],
   "source": [
    "print(a)"
   ]
  },
  {
   "cell_type": "code",
   "execution_count": 130,
   "id": "2a78a976",
   "metadata": {},
   "outputs": [
    {
     "name": "stdout",
     "output_type": "stream",
     "text": [
      "[2 3]\n"
     ]
    }
   ],
   "source": [
    "print(b)"
   ]
  },
  {
   "cell_type": "code",
   "execution_count": 131,
   "id": "b3a721d3",
   "metadata": {},
   "outputs": [
    {
     "data": {
      "text/plain": [
       "numpy.ndarray"
      ]
     },
     "execution_count": 131,
     "metadata": {},
     "output_type": "execute_result"
    }
   ],
   "source": [
    "type(a)"
   ]
  },
  {
   "cell_type": "code",
   "execution_count": 132,
   "id": "93714477",
   "metadata": {},
   "outputs": [
    {
     "data": {
      "text/plain": [
       "numpy.ndarray"
      ]
     },
     "execution_count": 132,
     "metadata": {},
     "output_type": "execute_result"
    }
   ],
   "source": [
    "type(b)"
   ]
  },
  {
   "cell_type": "code",
   "execution_count": 133,
   "id": "f8f48c47",
   "metadata": {},
   "outputs": [
    {
     "data": {
      "text/plain": [
       "dtype('int32')"
      ]
     },
     "execution_count": 133,
     "metadata": {},
     "output_type": "execute_result"
    }
   ],
   "source": [
    "a.dtype"
   ]
  },
  {
   "cell_type": "code",
   "execution_count": 134,
   "id": "641eb042",
   "metadata": {},
   "outputs": [
    {
     "data": {
      "text/plain": [
       "dtype('int32')"
      ]
     },
     "execution_count": 134,
     "metadata": {},
     "output_type": "execute_result"
    }
   ],
   "source": [
    "b.dtype"
   ]
  },
  {
   "cell_type": "code",
   "execution_count": 135,
   "id": "d87b4d24",
   "metadata": {},
   "outputs": [],
   "source": [
    "a = np.array([[1,2,3],[4,5,6]])"
   ]
  },
  {
   "cell_type": "code",
   "execution_count": 136,
   "id": "e516f02b",
   "metadata": {},
   "outputs": [
    {
     "data": {
      "text/plain": [
       "2"
      ]
     },
     "execution_count": 136,
     "metadata": {},
     "output_type": "execute_result"
    }
   ],
   "source": [
    "a.ndim"
   ]
  },
  {
   "cell_type": "code",
   "execution_count": 137,
   "id": "91c12dfb",
   "metadata": {},
   "outputs": [
    {
     "data": {
      "text/plain": [
       "3"
      ]
     },
     "execution_count": 137,
     "metadata": {},
     "output_type": "execute_result"
    }
   ],
   "source": [
    "a[0,2]"
   ]
  },
  {
   "cell_type": "code",
   "execution_count": 138,
   "id": "05721964",
   "metadata": {},
   "outputs": [],
   "source": [
    "c = np.array([[[1,2,3],[4,5,6],[7,8,9]],[[-1,-2,-3],[-4,-5,-6],[0,0,2]]])"
   ]
  },
  {
   "cell_type": "code",
   "execution_count": 139,
   "id": "fa07743f",
   "metadata": {},
   "outputs": [
    {
     "data": {
      "text/plain": [
       "3"
      ]
     },
     "execution_count": 139,
     "metadata": {},
     "output_type": "execute_result"
    }
   ],
   "source": [
    "c.ndim"
   ]
  },
  {
   "cell_type": "code",
   "execution_count": 140,
   "id": "1d168064",
   "metadata": {},
   "outputs": [
    {
     "data": {
      "text/plain": [
       "-3"
      ]
     },
     "execution_count": 140,
     "metadata": {},
     "output_type": "execute_result"
    }
   ],
   "source": [
    "c[1,0,2]"
   ]
  },
  {
   "cell_type": "code",
   "execution_count": 141,
   "id": "e4731023",
   "metadata": {},
   "outputs": [
    {
     "data": {
      "text/plain": [
       "numpy.ndarray"
      ]
     },
     "execution_count": 141,
     "metadata": {},
     "output_type": "execute_result"
    }
   ],
   "source": [
    "type(c)"
   ]
  },
  {
   "cell_type": "code",
   "execution_count": 142,
   "id": "98ced66a",
   "metadata": {},
   "outputs": [
    {
     "data": {
      "text/plain": [
       "(2, 3, 3)"
      ]
     },
     "execution_count": 142,
     "metadata": {},
     "output_type": "execute_result"
    }
   ],
   "source": [
    "c.shape"
   ]
  },
  {
   "cell_type": "code",
   "execution_count": 143,
   "id": "5fa8e448",
   "metadata": {},
   "outputs": [
    {
     "data": {
      "text/plain": [
       "-3"
      ]
     },
     "execution_count": 143,
     "metadata": {},
     "output_type": "execute_result"
    }
   ],
   "source": [
    "c[1,0,2]"
   ]
  },
  {
   "cell_type": "code",
   "execution_count": 144,
   "id": "f5b2065d",
   "metadata": {},
   "outputs": [
    {
     "data": {
      "text/plain": [
       "numpy.ndarray"
      ]
     },
     "execution_count": 144,
     "metadata": {},
     "output_type": "execute_result"
    }
   ],
   "source": [
    "type(c)"
   ]
  },
  {
   "cell_type": "code",
   "execution_count": 145,
   "id": "9f9c04fb",
   "metadata": {},
   "outputs": [],
   "source": [
    "A = np.array([3])"
   ]
  },
  {
   "cell_type": "code",
   "execution_count": 146,
   "id": "5f720f6b",
   "metadata": {},
   "outputs": [],
   "source": [
    "B = np.array(3)"
   ]
  },
  {
   "cell_type": "code",
   "execution_count": 147,
   "id": "b19e93e7",
   "metadata": {},
   "outputs": [
    {
     "data": {
      "text/plain": [
       "0"
      ]
     },
     "execution_count": 147,
     "metadata": {},
     "output_type": "execute_result"
    }
   ],
   "source": [
    "B.ndim"
   ]
  },
  {
   "cell_type": "code",
   "execution_count": 148,
   "id": "e1a2ab11",
   "metadata": {},
   "outputs": [],
   "source": [
    "C = np.array([[[1,2,3],[4,5,6],[7,8,9]],[[-1,-2,-3],[-4,-5,-6],[0,0,2]]])"
   ]
  },
  {
   "cell_type": "code",
   "execution_count": 149,
   "id": "cac8d38c",
   "metadata": {},
   "outputs": [
    {
     "data": {
      "text/plain": [
       "18"
      ]
     },
     "execution_count": 149,
     "metadata": {},
     "output_type": "execute_result"
    }
   ],
   "source": [
    "C.size"
   ]
  },
  {
   "cell_type": "code",
   "execution_count": 150,
   "id": "fea9bb53",
   "metadata": {},
   "outputs": [
    {
     "data": {
      "text/plain": [
       "72"
      ]
     },
     "execution_count": 150,
     "metadata": {},
     "output_type": "execute_result"
    }
   ],
   "source": [
    "C.nbytes"
   ]
  },
  {
   "cell_type": "code",
   "execution_count": 151,
   "id": "21e7248c",
   "metadata": {},
   "outputs": [],
   "source": [
    "A = np.arange(100)"
   ]
  },
  {
   "cell_type": "code",
   "execution_count": 152,
   "id": "3fef5925",
   "metadata": {},
   "outputs": [
    {
     "name": "stdout",
     "output_type": "stream",
     "text": [
      "[ 0  1  2  3  4  5  6  7  8  9 10 11 12 13 14 15 16 17 18 19 20 21 22 23\n",
      " 24 25 26 27 28 29 30 31 32 33 34 35 36 37 38 39 40 41 42 43 44 45 46 47\n",
      " 48 49 50 51 52 53 54 55 56 57 58 59 60 61 62 63 64 65 66 67 68 69 70 71\n",
      " 72 73 74 75 76 77 78 79 80 81 82 83 84 85 86 87 88 89 90 91 92 93 94 95\n",
      " 96 97 98 99]\n"
     ]
    }
   ],
   "source": [
    "print(A)"
   ]
  },
  {
   "cell_type": "code",
   "execution_count": 153,
   "id": "3d2657c2",
   "metadata": {},
   "outputs": [
    {
     "name": "stdout",
     "output_type": "stream",
     "text": [
      "[20 23 26 29 32 35 38 41 44 47 50 53 56 59 62 65 68 71 74 77 80 83 86 89\n",
      " 92 95 98]\n"
     ]
    }
   ],
   "source": [
    "A = np.arange(20,100,3)\n",
    "print(A)"
   ]
  },
  {
   "cell_type": "code",
   "execution_count": 154,
   "id": "22bbcfa6",
   "metadata": {},
   "outputs": [
    {
     "name": "stdout",
     "output_type": "stream",
     "text": [
      "range(0, 10)\n"
     ]
    }
   ],
   "source": [
    "print(range(10))"
   ]
  },
  {
   "cell_type": "code",
   "execution_count": 155,
   "id": "4d0acc19",
   "metadata": {},
   "outputs": [
    {
     "name": "stdout",
     "output_type": "stream",
     "text": [
      "[0, 1, 2, 3, 4, 5, 6, 7, 8, 9]\n"
     ]
    }
   ],
   "source": [
    "print(list(range(10)))"
   ]
  },
  {
   "cell_type": "code",
   "execution_count": 156,
   "id": "e89b6526",
   "metadata": {},
   "outputs": [
    {
     "name": "stdout",
     "output_type": "stream",
     "text": [
      "[0 5 7 6 8 9 1 3 4 2]\n"
     ]
    }
   ],
   "source": [
    "A = np.random.permutation(np.arange(10))\n",
    "print(A)"
   ]
  },
  {
   "cell_type": "code",
   "execution_count": 157,
   "id": "9f06fa6d",
   "metadata": {},
   "outputs": [],
   "source": [
    "np.random.randint?"
   ]
  },
  {
   "cell_type": "code",
   "execution_count": 158,
   "id": "86b49a02",
   "metadata": {},
   "outputs": [],
   "source": [
    "import numpy as np"
   ]
  },
  {
   "cell_type": "code",
   "execution_count": 159,
   "id": "cd7812d1",
   "metadata": {},
   "outputs": [],
   "source": [
    "v = np.random.randint(20,300)"
   ]
  },
  {
   "cell_type": "code",
   "execution_count": 160,
   "id": "2806d54b",
   "metadata": {},
   "outputs": [
    {
     "data": {
      "text/plain": [
       "175"
      ]
     },
     "execution_count": 160,
     "metadata": {},
     "output_type": "execute_result"
    }
   ],
   "source": [
    "v"
   ]
  },
  {
   "cell_type": "code",
   "execution_count": 161,
   "id": "a21d7d86",
   "metadata": {},
   "outputs": [
    {
     "data": {
      "text/plain": [
       "int"
      ]
     },
     "execution_count": 161,
     "metadata": {},
     "output_type": "execute_result"
    }
   ],
   "source": [
    "type(v)"
   ]
  },
  {
   "cell_type": "code",
   "execution_count": 162,
   "id": "697a2f4a",
   "metadata": {},
   "outputs": [],
   "source": [
    "A = np.random.rand(1000)"
   ]
  },
  {
   "cell_type": "code",
   "execution_count": 163,
   "id": "37a92bb6",
   "metadata": {},
   "outputs": [
    {
     "data": {
      "text/plain": [
       "array([0.64352074, 0.93594859, 0.86558634, 0.55458758, 0.35679906,\n",
       "       0.22151668, 0.69670606, 0.15813091, 0.2645308 , 0.20150113,\n",
       "       0.45399905, 0.28410216, 0.08529553, 0.26136691, 0.51585547,\n",
       "       0.33185432, 0.3548651 , 0.99643231, 0.80978163, 0.13683381,\n",
       "       0.51917076, 0.32811664, 0.92388226, 0.35111897, 0.50809042,\n",
       "       0.20148492, 0.23195749, 0.11524621, 0.77681234, 0.75405519,\n",
       "       0.71521852, 0.08962292, 0.57323148, 0.59545671, 0.71269938,\n",
       "       0.51301275, 0.29081605, 0.83762789, 0.61511584, 0.55972488,\n",
       "       0.53347068, 0.49383313, 0.19585899, 0.8630161 , 0.72137618,\n",
       "       0.90365891, 0.93998548, 0.25958102, 0.6707241 , 0.48847935,\n",
       "       0.88826502, 0.78402803, 0.9362586 , 0.03796823, 0.72958655,\n",
       "       0.7485882 , 0.60547182, 0.65364816, 0.64102571, 0.72882813,\n",
       "       0.19830547, 0.39748335, 0.76709108, 0.18232913, 0.47575494,\n",
       "       0.93718102, 0.11776302, 0.31732476, 0.32009855, 0.12616769,\n",
       "       0.05649318, 0.12466829, 0.53559952, 0.23590558, 0.82668997,\n",
       "       0.50288983, 0.06639866, 0.90493963, 0.90944545, 0.90765656,\n",
       "       0.02160489, 0.83697488, 0.88236443, 0.72340151, 0.46487599,\n",
       "       0.7573865 , 0.89729653, 0.54872936, 0.34817695, 0.38136323,\n",
       "       0.4390933 , 0.0918286 , 0.43590235, 0.32451083, 0.24210421,\n",
       "       0.52524708, 0.9195473 , 0.47833887, 0.22913048, 0.81086638,\n",
       "       0.14140883, 0.21678783, 0.13869514, 0.38533442, 0.45085927,\n",
       "       0.11160926, 0.03666874, 0.08726739, 0.74697539, 0.5397456 ,\n",
       "       0.14236033, 0.19415981, 0.41638842, 0.38905349, 0.05449609,\n",
       "       0.69628691, 0.44704579, 0.50035039, 0.28557817, 0.4849736 ,\n",
       "       0.1789625 , 0.75109289, 0.24289886, 0.00277397, 0.3788842 ,\n",
       "       0.3408079 , 0.40367797, 0.51338236, 0.98149497, 0.79761225,\n",
       "       0.61004104, 0.42987976, 0.61139443, 0.89349917, 0.93638545,\n",
       "       0.92603891, 0.11404931, 0.77543197, 0.99085624, 0.26793859,\n",
       "       0.58903019, 0.03200497, 0.46092524, 0.7312992 , 0.76774992,\n",
       "       0.23373269, 0.34695973, 0.07350517, 0.24167745, 0.40502193,\n",
       "       0.20054361, 0.46345823, 0.83662541, 0.14202025, 0.10559447,\n",
       "       0.15893752, 0.99430212, 0.67098088, 0.66814288, 0.40033764,\n",
       "       0.67696802, 0.17512815, 0.0121815 , 0.34195944, 0.01717002,\n",
       "       0.77077069, 0.18427452, 0.87699777, 0.80814009, 0.46228826,\n",
       "       0.45319218, 0.04646127, 0.28002792, 0.7804217 , 0.45926829,\n",
       "       0.73721649, 0.9357357 , 0.86655403, 0.4920838 , 0.57067291,\n",
       "       0.99951017, 0.94049076, 0.26372796, 0.99082131, 0.11601226,\n",
       "       0.60821242, 0.64649985, 0.89768661, 0.5348845 , 0.00140196,\n",
       "       0.95454536, 0.29342499, 0.26514027, 0.95168196, 0.3784815 ,\n",
       "       0.03188652, 0.90682642, 0.63463913, 0.4232246 , 0.87507398,\n",
       "       0.61746039, 0.59990341, 0.46819009, 0.28200176, 0.87209463,\n",
       "       0.07352682, 0.50285808, 0.28654955, 0.32926693, 0.49682089,\n",
       "       0.0545941 , 0.05201534, 0.99637917, 0.06680803, 0.71673121,\n",
       "       0.58261199, 0.31214291, 0.17885042, 0.17720563, 0.3840354 ,\n",
       "       0.79333178, 0.13251197, 0.57896448, 0.30364446, 0.89246877,\n",
       "       0.41169189, 0.1952091 , 0.228229  , 0.42340271, 0.96546286,\n",
       "       0.13927558, 0.25452564, 0.88374188, 0.73898957, 0.02633941,\n",
       "       0.60803205, 0.56542205, 0.24319226, 0.16381595, 0.38937877,\n",
       "       0.5416545 , 0.6917216 , 0.72170291, 0.95198635, 0.05814906,\n",
       "       0.39448668, 0.15740472, 0.23739639, 0.75656282, 0.13863882,\n",
       "       0.63309787, 0.46459071, 0.76733123, 0.40825865, 0.23406637,\n",
       "       0.30222547, 0.54643683, 0.5394928 , 0.71449381, 0.4988898 ,\n",
       "       0.22206604, 0.80965513, 0.53818194, 0.29458229, 0.53913618,\n",
       "       0.35631449, 0.67798451, 0.9391655 , 0.27978633, 0.35850739,\n",
       "       0.37204819, 0.94795251, 0.73943793, 0.41632848, 0.40453772,\n",
       "       0.40786836, 0.87976534, 0.64605039, 0.00379567, 0.47868836,\n",
       "       0.18567577, 0.56912717, 0.50253072, 0.45967815, 0.87229455,\n",
       "       0.00604714, 0.06678202, 0.71219594, 0.691879  , 0.63420746,\n",
       "       0.06099892, 0.89751229, 0.68889733, 0.24322062, 0.58802842,\n",
       "       0.90378525, 0.88557008, 0.26661575, 0.38142766, 0.29891716,\n",
       "       0.25217972, 0.57569529, 0.46304938, 0.1557722 , 0.53780499,\n",
       "       0.720957  , 0.72661838, 0.79526275, 0.50586523, 0.50117624,\n",
       "       0.91488184, 0.40038485, 0.96983002, 0.35779309, 0.56308368,\n",
       "       0.56168143, 0.17194055, 0.23028969, 0.45604375, 0.68388401,\n",
       "       0.26942178, 0.56551424, 0.18685654, 0.38609105, 0.42097829,\n",
       "       0.20174784, 0.75930772, 0.64178586, 0.92212871, 0.95850092,\n",
       "       0.79162072, 0.03775634, 0.81305976, 0.09892304, 0.24638359,\n",
       "       0.61050435, 0.48858164, 0.92824705, 0.37318235, 0.04294305,\n",
       "       0.71014286, 0.9115727 , 0.40084553, 0.69240588, 0.22499642,\n",
       "       0.66976423, 0.03834346, 0.26640807, 0.80368549, 0.99287747,\n",
       "       0.98188319, 0.53753942, 0.06743104, 0.55219901, 0.47168555,\n",
       "       0.14547384, 0.55246717, 0.9577645 , 0.80125288, 0.87069682,\n",
       "       0.03264088, 0.80533016, 0.30721053, 0.80064686, 0.45093576,\n",
       "       0.48892838, 0.57499312, 0.07937679, 0.62335262, 0.03483061,\n",
       "       0.59601031, 0.51638718, 0.33658951, 0.00582831, 0.28668305,\n",
       "       0.95264639, 0.97216494, 0.3452475 , 0.46969872, 0.38212876,\n",
       "       0.98571487, 0.45493736, 0.20100681, 0.568026  , 0.95324335,\n",
       "       0.47105609, 0.63207816, 0.16622434, 0.92997526, 0.18900051,\n",
       "       0.29842053, 0.70707723, 0.48205436, 0.21586297, 0.72213436,\n",
       "       0.59151353, 0.34597028, 0.07722525, 0.13245185, 0.12239641,\n",
       "       0.65191699, 0.75476524, 0.65887611, 0.75458271, 0.47299263,\n",
       "       0.46949642, 0.17489518, 0.95925241, 0.04993861, 0.54846103,\n",
       "       0.17478616, 0.84509074, 0.09950668, 0.91702885, 0.82027945,\n",
       "       0.01939747, 0.14930112, 0.91704603, 0.56376249, 0.58116844,\n",
       "       0.09636905, 0.95726727, 0.29732311, 0.92015829, 0.12325468,\n",
       "       0.60674294, 0.87637372, 0.71191183, 0.6134008 , 0.60609693,\n",
       "       0.43440567, 0.35102229, 0.34404085, 0.15596689, 0.06960011,\n",
       "       0.63214876, 0.9068699 , 0.69230204, 0.60055601, 0.13056863,\n",
       "       0.30794774, 0.57123008, 0.80565527, 0.34703491, 0.30597282,\n",
       "       0.1170604 , 0.33660191, 0.21578457, 0.15314733, 0.08438809,\n",
       "       0.67444376, 0.98794255, 0.66250117, 0.35734985, 0.12133514,\n",
       "       0.80317779, 0.04028145, 0.65576729, 0.96555519, 0.26011148,\n",
       "       0.61020515, 0.13558545, 0.71056284, 0.04369654, 0.24006455,\n",
       "       0.10037394, 0.61765668, 0.36949164, 0.95461847, 0.39981409,\n",
       "       0.07389416, 0.29242424, 0.47065872, 0.71975443, 0.18678759,\n",
       "       0.10529663, 0.51920164, 0.33200641, 0.11340341, 0.50119197,\n",
       "       0.48190896, 0.95455618, 0.49587241, 0.05213317, 0.66639991,\n",
       "       0.86324965, 0.31462907, 0.91900241, 0.59414446, 0.34147984,\n",
       "       0.72367789, 0.06800076, 0.03143459, 0.65452499, 0.58356607,\n",
       "       0.03094191, 0.68734894, 0.6765752 , 0.35134631, 0.21874101,\n",
       "       0.77799546, 0.42228748, 0.1311409 , 0.34490641, 0.04804977,\n",
       "       0.07873383, 0.19822855, 0.87479955, 0.66313959, 0.16184257,\n",
       "       0.00500888, 0.69218373, 0.77933785, 0.57900342, 0.68305133,\n",
       "       0.63109571, 0.3624769 , 0.63402986, 0.73281201, 0.81683444,\n",
       "       0.21920805, 0.4685692 , 0.18278266, 0.22961635, 0.45881211,\n",
       "       0.49207094, 0.14141845, 0.00773052, 0.0097753 , 0.11721987,\n",
       "       0.45928855, 0.82520519, 0.57843631, 0.45147063, 0.85572968,\n",
       "       0.89413882, 0.86327226, 0.70654289, 0.15335426, 0.69172925,\n",
       "       0.3030962 , 0.14356685, 0.4032077 , 0.56637768, 0.4269586 ,\n",
       "       0.6950728 , 0.32622236, 0.55766003, 0.21761258, 0.70479532,\n",
       "       0.0419192 , 0.01906043, 0.06439219, 0.44139072, 0.85253842,\n",
       "       0.9783307 , 0.15257357, 0.98487658, 0.93279355, 0.49784371,\n",
       "       0.31102644, 0.05429724, 0.61183531, 0.22437211, 0.13120784,\n",
       "       0.5934916 , 0.20742511, 0.53530428, 0.15722072, 0.37351085,\n",
       "       0.10202811, 0.58606315, 0.72170181, 0.22084553, 0.97431156,\n",
       "       0.57441884, 0.79160345, 0.16302136, 0.86603146, 0.98349468,\n",
       "       0.14461287, 0.61705567, 0.0066907 , 0.2134124 , 0.65066212,\n",
       "       0.21735171, 0.32376949, 0.68716524, 0.50316936, 0.90005831,\n",
       "       0.25821898, 0.47234471, 0.07198117, 0.86797738, 0.46119549,\n",
       "       0.06477029, 0.85611384, 0.71059786, 0.08983953, 0.58549844,\n",
       "       0.66313076, 0.7079987 , 0.41402891, 0.46902822, 0.9845304 ,\n",
       "       0.97330005, 0.94330139, 0.28239731, 0.02348885, 0.9793176 ,\n",
       "       0.39843718, 0.75039219, 0.01869217, 0.96384424, 0.39771872,\n",
       "       0.04247065, 0.27186149, 0.26906114, 0.8613531 , 0.66253651,\n",
       "       0.96932857, 0.81217384, 0.39627775, 0.01206922, 0.85417758,\n",
       "       0.40063199, 0.4335412 , 0.35642067, 0.53216679, 0.40439153,\n",
       "       0.00709483, 0.53746298, 0.75878116, 0.22439879, 0.08433286,\n",
       "       0.6133927 , 0.96819067, 0.91970274, 0.8593369 , 0.7260621 ,\n",
       "       0.80742543, 0.78295351, 0.55955449, 0.79365076, 0.04054182,\n",
       "       0.48240531, 0.90540394, 0.35861467, 0.5732354 , 0.62928845,\n",
       "       0.58440516, 0.20261554, 0.19885758, 0.99540198, 0.08150156,\n",
       "       0.34442807, 0.59425867, 0.12692119, 0.67752901, 0.62285372,\n",
       "       0.71829913, 0.40358531, 0.51052574, 0.49663503, 0.76871945,\n",
       "       0.48107218, 0.85626586, 0.16718208, 0.30851511, 0.52977108,\n",
       "       0.04910871, 0.89401512, 0.10323062, 0.41895468, 0.5602575 ,\n",
       "       0.80174969, 0.45783467, 0.11519068, 0.63200157, 0.3035052 ,\n",
       "       0.74633248, 0.30112484, 0.19082258, 0.81890212, 0.58976081,\n",
       "       0.78801205, 0.16731084, 0.20342031, 0.50993048, 0.72160828,\n",
       "       0.38164099, 0.86311021, 0.48410728, 0.58412776, 0.33057834,\n",
       "       0.52400941, 0.22541724, 0.66589571, 0.91393152, 0.23430086,\n",
       "       0.18432871, 0.61303286, 0.9327675 , 0.28315253, 0.50236146,\n",
       "       0.7719851 , 0.19622569, 0.05229427, 0.1672016 , 0.22467748,\n",
       "       0.30597574, 0.62911922, 0.13178719, 0.04019929, 0.28005275,\n",
       "       0.55880531, 0.03540251, 0.14078822, 0.56040134, 0.28933496,\n",
       "       0.57557888, 0.12629934, 0.93690677, 0.93019542, 0.950506  ,\n",
       "       0.98553872, 0.3784597 , 0.38080114, 0.22948513, 0.23018131,\n",
       "       0.69963288, 0.9187076 , 0.73577841, 0.0366016 , 0.93880199,\n",
       "       0.25115922, 0.18293949, 0.24656099, 0.74983659, 0.43480991,\n",
       "       0.06075816, 0.89848448, 0.02871126, 0.05897268, 0.79766811,\n",
       "       0.93088805, 0.42045704, 0.3048919 , 0.87356261, 0.99655357,\n",
       "       0.30390131, 0.62086599, 0.19337211, 0.11055935, 0.30786962,\n",
       "       0.87329284, 0.71795997, 0.85040933, 0.22623815, 0.49180703,\n",
       "       0.13459975, 0.02084412, 0.75586601, 0.35282742, 0.45649393,\n",
       "       0.58098409, 0.97057265, 0.4921134 , 0.81287877, 0.69271734,\n",
       "       0.48798376, 0.57817754, 0.166315  , 0.7624708 , 0.54867672,\n",
       "       0.93718824, 0.26458107, 0.68860383, 0.04699641, 0.15048055,\n",
       "       0.85246058, 0.03583254, 0.07984533, 0.40648885, 0.67999766,\n",
       "       0.00818137, 0.36024519, 0.24209923, 0.10999676, 0.20608497,\n",
       "       0.9441827 , 0.87219561, 0.33186385, 0.70092769, 0.46977576,\n",
       "       0.9468095 , 0.10149899, 0.37168354, 0.87643732, 0.92577222,\n",
       "       0.89490805, 0.42773149, 0.39505475, 0.84990894, 0.73099349,\n",
       "       0.18681302, 0.83029643, 0.48872292, 0.87280628, 0.58546964,\n",
       "       0.57160181, 0.31667575, 0.14814722, 0.15875637, 0.28009131,\n",
       "       0.76369057, 0.9786136 , 0.63134918, 0.00761702, 0.94334839,\n",
       "       0.11635258, 0.23174243, 0.07720554, 0.16030154, 0.04247836,\n",
       "       0.03173687, 0.89079207, 0.34740727, 0.88314824, 0.92526585,\n",
       "       0.23816522, 0.89775856, 0.37006659, 0.6222843 , 0.46126987,\n",
       "       0.36830445, 0.70901983, 0.20958508, 0.36730245, 0.71490605,\n",
       "       0.33016385, 0.89506265, 0.09428079, 0.14234273, 0.78670894,\n",
       "       0.04348418, 0.12056277, 0.24598903, 0.69101272, 0.23805814,\n",
       "       0.11264779, 0.18856198, 0.26897028, 0.54507135, 0.34568096,\n",
       "       0.81975513, 0.87692428, 0.46718192, 0.55402898, 0.17684677,\n",
       "       0.09967191, 0.44110387, 0.85682082, 0.67015299, 0.7233099 ,\n",
       "       0.12278889, 0.8391225 , 0.21588438, 0.52298693, 0.43236024,\n",
       "       0.12503924, 0.71773653, 0.33391332, 0.33966544, 0.33214152,\n",
       "       0.71517553, 0.09755105, 0.85381231, 0.65984882, 0.69827859,\n",
       "       0.15094526, 0.53985929, 0.0315046 , 0.57819002, 0.78123709,\n",
       "       0.75111184, 0.0437864 , 0.57777133, 0.94275211, 0.97117343,\n",
       "       0.86512916, 0.2511629 , 0.97816708, 0.04620633, 0.94586993,\n",
       "       0.2108788 , 0.13254224, 0.24776551, 0.04438835, 0.43698533,\n",
       "       0.09411981, 0.91127209, 0.31017333, 0.08753398, 0.69889207,\n",
       "       0.98023207, 0.54710712, 0.05331675, 0.26424796, 0.11254179,\n",
       "       0.6312002 , 0.15394255, 0.62360264, 0.69846285, 0.74116474,\n",
       "       0.35254678, 0.60808128, 0.16569849, 0.95254998, 0.05017535,\n",
       "       0.95714198, 0.77781176, 0.8645747 , 0.68955959, 0.51668329,\n",
       "       0.07510406, 0.39256429, 0.21701128, 0.60670595, 0.62956526,\n",
       "       0.45087757, 0.81343505, 0.46395731, 0.32326333, 0.13289662,\n",
       "       0.41677495, 0.19178378, 0.59563518, 0.06192797, 0.74018754,\n",
       "       0.68726932, 0.81855367, 0.15045389, 0.19934121, 0.13046285,\n",
       "       0.49715796, 0.74094521, 0.61794658, 0.43398421, 0.21488347,\n",
       "       0.24502807, 0.26513801, 0.95218335, 0.98673506, 0.19577605,\n",
       "       0.69445586, 0.8458536 , 0.01771926, 0.13192049, 0.96929588,\n",
       "       0.07614214, 0.84326026, 0.61473856, 0.35645548, 0.39596794,\n",
       "       0.7629691 , 0.54528237, 0.48817483, 0.8333082 , 0.72273661,\n",
       "       0.70562616, 0.68348957, 0.41600189, 0.73724479, 0.03631546,\n",
       "       0.98607018, 0.92510369, 0.91683276, 0.32074772, 0.85243797,\n",
       "       0.78997781, 0.28885891, 0.18593782, 0.41842306, 0.448346  ,\n",
       "       0.55285353, 0.16915579, 0.26678126, 0.01328779, 0.13965094,\n",
       "       0.02992232, 0.87165048, 0.05420095, 0.68057555, 0.18003498,\n",
       "       0.60516344, 0.59688695, 0.07464023, 0.8412099 , 0.81389715])"
      ]
     },
     "execution_count": 163,
     "metadata": {},
     "output_type": "execute_result"
    }
   ],
   "source": [
    "A"
   ]
  },
  {
   "cell_type": "code",
   "execution_count": 164,
   "id": "efe8e338",
   "metadata": {},
   "outputs": [],
   "source": [
    "import matplotlib.pyplot as plt"
   ]
  },
  {
   "cell_type": "code",
   "execution_count": 165,
   "id": "f01113b8",
   "metadata": {},
   "outputs": [
    {
     "data": {
      "text/plain": [
       "(array([111., 117.,  98.,  99., 100.,  98.,  96.,  90.,  89., 102.]),\n",
       " array([0.00140196, 0.10121278, 0.2010236 , 0.30083442, 0.40064524,\n",
       "        0.50045606, 0.60026689, 0.70007771, 0.79988853, 0.89969935,\n",
       "        0.99951017]),\n",
       " <BarContainer object of 10 artists>)"
      ]
     },
     "execution_count": 165,
     "metadata": {},
     "output_type": "execute_result"
    },
    {
     "data": {
      "image/png": "[encoded data removed]",
      "text/plain": [
       "<Figure size 432x288 with 1 Axes>"
      ]
     },
     "metadata": {
      "needs_background": "light"
     },
     "output_type": "display_data"
    }
   ],
   "source": [
    "plt.hist(A)"
   ]
  },
  {
   "cell_type": "code",
   "execution_count": 166,
   "id": "55f71599",
   "metadata": {},
   "outputs": [
    {
     "data": {
      "text/plain": [
       "(array([12.,  9.,  6., 18., 15., 13.,  9., 12.,  8.,  9.,  7., 13., 12.,\n",
       "        15., 13., 12., 10.,  9., 13., 13.,  9., 12., 14., 10., 11.,  7.,\n",
       "        14.,  5., 10.,  6., 14.,  7.,  8.,  8., 13., 15.,  5.,  7., 10.,\n",
       "        12., 10.,  9.,  7.,  8.,  4., 14., 16.,  8., 12., 12., 10.,  8.,\n",
       "         4., 13.,  8., 10.,  9., 15., 12.,  9., 11., 12.,  8., 10.,  5.,\n",
       "         7.,  8.,  9., 10., 16.,  7., 15., 14.,  8.,  7., 11.,  7.,  7.,\n",
       "         6.,  8., 11., 10.,  3.,  6.,  4., 12., 11., 14.,  6., 12.,  9.,\n",
       "        10.,  9., 14.,  9., 15.,  6., 10., 11.,  9.]),\n",
       " array([0.00140196, 0.01138304, 0.02136412, 0.0313452 , 0.04132629,\n",
       "        0.05130737, 0.06128845, 0.07126953, 0.08125062, 0.0912317 ,\n",
       "        0.10121278, 0.11119386, 0.12117494, 0.13115603, 0.14113711,\n",
       "        0.15111819, 0.16109927, 0.17108035, 0.18106144, 0.19104252,\n",
       "        0.2010236 , 0.21100468, 0.22098577, 0.23096685, 0.24094793,\n",
       "        0.25092901, 0.26091009, 0.27089118, 0.28087226, 0.29085334,\n",
       "        0.30083442, 0.3108155 , 0.32079659, 0.33077767, 0.34075875,\n",
       "        0.35073983, 0.36072092, 0.370702  , 0.38068308, 0.39066416,\n",
       "        0.40064524, 0.41062633, 0.42060741, 0.43058849, 0.44056957,\n",
       "        0.45055065, 0.46053174, 0.47051282, 0.4804939 , 0.49047498,\n",
       "        0.50045606, 0.51043715, 0.52041823, 0.53039931, 0.54038039,\n",
       "        0.55036148, 0.56034256, 0.57032364, 0.58030472, 0.5902858 ,\n",
       "        0.60026689, 0.61024797, 0.62022905, 0.63021013, 0.64019121,\n",
       "        0.6501723 , 0.66015338, 0.67013446, 0.68011554, 0.69009663,\n",
       "        0.70007771, 0.71005879, 0.72003987, 0.73002095, 0.74000204,\n",
       "        0.74998312, 0.7599642 , 0.76994528, 0.77992636, 0.78990745,\n",
       "        0.79988853, 0.80986961, 0.81985069, 0.82983178, 0.83981286,\n",
       "        0.84979394, 0.85977502, 0.8697561 , 0.87973719, 0.88971827,\n",
       "        0.89969935, 0.90968043, 0.91966151, 0.9296426 , 0.93962368,\n",
       "        0.94960476, 0.95958584, 0.96956693, 0.97954801, 0.98952909,\n",
       "        0.99951017]),\n",
       " <BarContainer object of 100 artists>)"
      ]
     },
     "execution_count": 166,
     "metadata": {},
     "output_type": "execute_result"
    },
    {
     "data": {
      "image/png": "[encoded data removed]",
      "text/plain": [
       "<Figure size 432x288 with 1 Axes>"
      ]
     },
     "metadata": {
      "needs_background": "light"
     },
     "output_type": "display_data"
    }
   ],
   "source": [
    "plt.hist(A,bins=100)"
   ]
  },
  {
   "cell_type": "code",
   "execution_count": 167,
   "id": "98029500",
   "metadata": {
    "scrolled": true
   },
   "outputs": [
    {
     "data": {
      "text/plain": [
       "(array([1.000e+00, 0.000e+00, 0.000e+00, 0.000e+00, 0.000e+00, 0.000e+00,\n",
       "        0.000e+00, 0.000e+00, 0.000e+00, 0.000e+00, 0.000e+00, 0.000e+00,\n",
       "        1.000e+00, 0.000e+00, 0.000e+00, 0.000e+00, 0.000e+00, 1.000e+00,\n",
       "        1.000e+00, 0.000e+00, 0.000e+00, 0.000e+00, 0.000e+00, 1.000e+00,\n",
       "        0.000e+00, 3.000e+00, 1.000e+00, 2.000e+00, 1.000e+00, 2.000e+00,\n",
       "        1.000e+00, 2.000e+00, 6.000e+00, 4.000e+00, 5.000e+00, 8.000e+00,\n",
       "        8.000e+00, 1.000e+01, 1.800e+01, 1.500e+01, 9.000e+00, 2.300e+01,\n",
       "        1.400e+01, 2.400e+01, 3.400e+01, 3.600e+01, 3.500e+01, 4.900e+01,\n",
       "        5.300e+01, 2.500e+01, 5.900e+01, 6.900e+01, 6.700e+01, 9.600e+01,\n",
       "        1.050e+02, 1.150e+02, 1.260e+02, 1.380e+02, 1.490e+02, 1.820e+02,\n",
       "        2.090e+02, 1.940e+02, 2.420e+02, 2.450e+02, 2.870e+02, 2.810e+02,\n",
       "        3.160e+02, 3.410e+02, 3.890e+02, 4.070e+02, 4.720e+02, 5.190e+02,\n",
       "        6.060e+02, 5.480e+02, 6.020e+02, 6.440e+02, 6.810e+02, 7.380e+02,\n",
       "        8.240e+02, 8.560e+02, 9.110e+02, 9.450e+02, 1.087e+03, 1.067e+03,\n",
       "        1.071e+03, 1.153e+03, 1.191e+03, 1.317e+03, 1.326e+03, 1.457e+03,\n",
       "        1.416e+03, 1.488e+03, 1.507e+03, 1.529e+03, 1.543e+03, 1.632e+03,\n",
       "        1.675e+03, 1.824e+03, 1.755e+03, 1.690e+03, 1.818e+03, 1.872e+03,\n",
       "        1.751e+03, 1.807e+03, 1.848e+03, 1.845e+03, 1.878e+03, 1.856e+03,\n",
       "        1.854e+03, 1.862e+03, 1.787e+03, 1.788e+03, 1.749e+03, 1.753e+03,\n",
       "        1.733e+03, 1.736e+03, 1.621e+03, 1.645e+03, 1.607e+03, 1.513e+03,\n",
       "        1.523e+03, 1.488e+03, 1.359e+03, 1.330e+03, 1.312e+03, 1.259e+03,\n",
       "        1.195e+03, 1.149e+03, 1.095e+03, 1.044e+03, 9.940e+02, 9.590e+02,\n",
       "        8.510e+02, 8.240e+02, 7.190e+02, 7.160e+02, 7.370e+02, 6.400e+02,\n",
       "        6.110e+02, 5.300e+02, 5.800e+02, 4.810e+02, 4.370e+02, 3.800e+02,\n",
       "        3.720e+02, 3.930e+02, 3.110e+02, 3.010e+02, 2.690e+02, 2.220e+02,\n",
       "        2.050e+02, 2.000e+02, 1.810e+02, 1.920e+02, 1.470e+02, 1.280e+02,\n",
       "        1.330e+02, 1.120e+02, 8.600e+01, 8.900e+01, 6.200e+01, 8.700e+01,\n",
       "        6.400e+01, 5.900e+01, 5.400e+01, 3.300e+01, 4.000e+01, 4.900e+01,\n",
       "        3.600e+01, 1.900e+01, 2.100e+01, 1.700e+01, 1.100e+01, 1.400e+01,\n",
       "        1.400e+01, 8.000e+00, 5.000e+00, 8.000e+00, 7.000e+00, 6.000e+00,\n",
       "        1.000e+00, 4.000e+00, 2.000e+00, 3.000e+00, 1.000e+00, 2.000e+00,\n",
       "        4.000e+00, 0.000e+00, 0.000e+00, 1.000e+00, 2.000e+00, 0.000e+00,\n",
       "        1.000e+00, 3.000e+00, 0.000e+00, 0.000e+00, 0.000e+00, 0.000e+00,\n",
       "        0.000e+00, 1.000e+00]),\n",
       " array([-4.95855829, -4.91189173, -4.86522517, -4.81855862, -4.77189206,\n",
       "        -4.7252255 , -4.67855895, -4.63189239, -4.58522583, -4.53855928,\n",
       "        -4.49189272, -4.44522616, -4.39855961, -4.35189305, -4.30522649,\n",
       "        -4.25855994, -4.21189338, -4.16522682, -4.11856027, -4.07189371,\n",
       "        -4.02522715, -3.9785606 , -3.93189404, -3.88522748, -3.83856093,\n",
       "        -3.79189437, -3.74522781, -3.69856126, -3.6518947 , -3.60522814,\n",
       "        -3.55856159, -3.51189503, -3.46522847, -3.41856192, -3.37189536,\n",
       "        -3.3252288 , -3.27856225, -3.23189569, -3.18522913, -3.13856258,\n",
       "        -3.09189602, -3.04522946, -2.99856291, -2.95189635, -2.90522979,\n",
       "        -2.85856324, -2.81189668, -2.76523012, -2.71856357, -2.67189701,\n",
       "        -2.62523045, -2.5785639 , -2.53189734, -2.48523078, -2.43856423,\n",
       "        -2.39189767, -2.34523111, -2.29856456, -2.251898  , -2.20523144,\n",
       "        -2.15856489, -2.11189833, -2.06523177, -2.01856522, -1.97189866,\n",
       "        -1.9252321 , -1.87856555, -1.83189899, -1.78523243, -1.73856588,\n",
       "        -1.69189932, -1.64523276, -1.59856621, -1.55189965, -1.50523309,\n",
       "        -1.45856654, -1.41189998, -1.36523342, -1.31856687, -1.27190031,\n",
       "        -1.22523375, -1.1785672 , -1.13190064, -1.08523408, -1.03856753,\n",
       "        -0.99190097, -0.94523441, -0.89856786, -0.8519013 , -0.80523474,\n",
       "        -0.75856819, -0.71190163, -0.66523507, -0.61856852, -0.57190196,\n",
       "        -0.5252354 , -0.47856885, -0.43190229, -0.38523573, -0.33856918,\n",
       "        -0.29190262, -0.24523606, -0.19856951, -0.15190295, -0.10523639,\n",
       "        -0.05856984, -0.01190328,  0.03476328,  0.08142983,  0.12809639,\n",
       "         0.17476295,  0.2214295 ,  0.26809606,  0.31476262,  0.36142917,\n",
       "         0.40809573,  0.45476229,  0.50142884,  0.5480954 ,  0.59476196,\n",
       "         0.64142851,  0.68809507,  0.73476163,  0.78142818,  0.82809474,\n",
       "         0.8747613 ,  0.92142785,  0.96809441,  1.01476097,  1.06142752,\n",
       "         1.10809408,  1.15476064,  1.20142719,  1.24809375,  1.29476031,\n",
       "         1.34142686,  1.38809342,  1.43475998,  1.48142653,  1.52809309,\n",
       "         1.57475965,  1.6214262 ,  1.66809276,  1.71475932,  1.76142587,\n",
       "         1.80809243,  1.85475899,  1.90142554,  1.9480921 ,  1.99475866,\n",
       "         2.04142521,  2.08809177,  2.13475833,  2.18142488,  2.22809144,\n",
       "         2.274758  ,  2.32142455,  2.36809111,  2.41475767,  2.46142422,\n",
       "         2.50809078,  2.55475734,  2.60142389,  2.64809045,  2.69475701,\n",
       "         2.74142356,  2.78809012,  2.83475668,  2.88142323,  2.92808979,\n",
       "         2.97475635,  3.0214229 ,  3.06808946,  3.11475602,  3.16142257,\n",
       "         3.20808913,  3.25475569,  3.30142224,  3.3480888 ,  3.39475536,\n",
       "         3.44142191,  3.48808847,  3.53475503,  3.58142158,  3.62808814,\n",
       "         3.6747547 ,  3.72142125,  3.76808781,  3.81475437,  3.86142092,\n",
       "         3.90808748,  3.95475404,  4.00142059,  4.04808715,  4.09475371,\n",
       "         4.14142026,  4.18808682,  4.23475338,  4.28141993,  4.32808649,\n",
       "         4.37475305]),\n",
       " <BarContainer object of 200 artists>)"
      ]
     },
     "execution_count": 167,
     "metadata": {},
     "output_type": "execute_result"
    },
    {
     "data": {
      "image/png": "[encoded data removed]",
      "text/plain": [
       "<Figure size 432x288 with 1 Axes>"
      ]
     },
     "metadata": {
      "needs_background": "light"
     },
     "output_type": "display_data"
    }
   ],
   "source": [
    "B = np.random.randn(100000)\n",
    "plt.hist(B,bins=200)"
   ]
  },
  {
   "cell_type": "code",
   "execution_count": 168,
   "id": "66cb6547",
   "metadata": {},
   "outputs": [],
   "source": [
    "C=np.random.rand(2,3)"
   ]
  },
  {
   "cell_type": "code",
   "execution_count": 169,
   "id": "11fac850",
   "metadata": {},
   "outputs": [
    {
     "data": {
      "text/plain": [
       "array([[0.5874307 , 0.32371855, 0.0962116 ],\n",
       "       [0.67280625, 0.93219878, 0.08364515]])"
      ]
     },
     "execution_count": 169,
     "metadata": {},
     "output_type": "execute_result"
    }
   ],
   "source": [
    "C"
   ]
  },
  {
   "cell_type": "code",
   "execution_count": 170,
   "id": "ad6537f8",
   "metadata": {},
   "outputs": [
    {
     "data": {
      "text/plain": [
       "2"
      ]
     },
     "execution_count": 170,
     "metadata": {},
     "output_type": "execute_result"
    }
   ],
   "source": [
    "C.ndim"
   ]
  },
  {
   "cell_type": "code",
   "execution_count": 171,
   "id": "29680e96",
   "metadata": {},
   "outputs": [],
   "source": [
    "C = np.random.rand(2,3,4,2)"
   ]
  },
  {
   "cell_type": "code",
   "execution_count": 172,
   "id": "b6afd853",
   "metadata": {},
   "outputs": [
    {
     "data": {
      "text/plain": [
       "4"
      ]
     },
     "execution_count": 172,
     "metadata": {},
     "output_type": "execute_result"
    }
   ],
   "source": [
    "C.ndim"
   ]
  },
  {
   "cell_type": "code",
   "execution_count": 173,
   "id": "9f51d422",
   "metadata": {},
   "outputs": [],
   "source": [
    "D = np.arange(100).reshape(4,25)"
   ]
  },
  {
   "cell_type": "code",
   "execution_count": 174,
   "id": "ff58a05f",
   "metadata": {},
   "outputs": [
    {
     "data": {
      "text/plain": [
       "(4, 25)"
      ]
     },
     "execution_count": 174,
     "metadata": {},
     "output_type": "execute_result"
    }
   ],
   "source": [
    "D.shape"
   ]
  },
  {
   "cell_type": "code",
   "execution_count": 175,
   "id": "c82dee6a",
   "metadata": {},
   "outputs": [],
   "source": [
    "D = np.arange(100).reshape(4,5,5)"
   ]
  },
  {
   "cell_type": "code",
   "execution_count": 176,
   "id": "01fcfa32",
   "metadata": {},
   "outputs": [
    {
     "data": {
      "text/plain": [
       "(4, 5, 5)"
      ]
     },
     "execution_count": 176,
     "metadata": {},
     "output_type": "execute_result"
    }
   ],
   "source": [
    "D.shape"
   ]
  },
  {
   "cell_type": "code",
   "execution_count": 2,
   "id": "e88ccc36",
   "metadata": {},
   "outputs": [],
   "source": [
    "import numpy as np"
   ]
  },
  {
   "cell_type": "code",
   "execution_count": 3,
   "id": "46ea0557",
   "metadata": {},
   "outputs": [],
   "source": [
    "A = np.arange(100)"
   ]
  },
  {
   "cell_type": "code",
   "execution_count": 4,
   "id": "2598f4c6",
   "metadata": {
    "scrolled": false
   },
   "outputs": [
    {
     "data": {
      "text/plain": [
       "array([ 0,  1,  2,  3,  4,  5,  6,  7,  8,  9, 10, 11, 12, 13, 14, 15, 16,\n",
       "       17, 18, 19, 20, 21, 22, 23, 24, 25, 26, 27, 28, 29, 30, 31, 32, 33,\n",
       "       34, 35, 36, 37, 38, 39, 40, 41, 42, 43, 44, 45, 46, 47, 48, 49, 50,\n",
       "       51, 52, 53, 54, 55, 56, 57, 58, 59, 60, 61, 62, 63, 64, 65, 66, 67,\n",
       "       68, 69, 70, 71, 72, 73, 74, 75, 76, 77, 78, 79, 80, 81, 82, 83, 84,\n",
       "       85, 86, 87, 88, 89, 90, 91, 92, 93, 94, 95, 96, 97, 98, 99])"
      ]
     },
     "execution_count": 4,
     "metadata": {},
     "output_type": "execute_result"
    }
   ],
   "source": [
    "A"
   ]
  },
  {
   "cell_type": "code",
   "execution_count": 5,
   "id": "ffb5f881",
   "metadata": {},
   "outputs": [
    {
     "name": "stdout",
     "output_type": "stream",
     "text": [
      "[3 4 5 6 7 8 9]\n"
     ]
    }
   ],
   "source": [
    "b =A[3:10]\n",
    "print(b)"
   ]
  },
  {
   "cell_type": "code",
   "execution_count": 179,
   "id": "7a1798e1",
   "metadata": {},
   "outputs": [
    {
     "data": {
      "text/plain": [
       "array([3, 4, 5, 6, 7, 8, 9])"
      ]
     },
     "execution_count": 179,
     "metadata": {},
     "output_type": "execute_result"
    }
   ],
   "source": [
    "b"
   ]
  },
  {
   "cell_type": "code",
   "execution_count": 180,
   "id": "3a712557",
   "metadata": {},
   "outputs": [
    {
     "data": {
      "text/plain": [
       "3"
      ]
     },
     "execution_count": 180,
     "metadata": {},
     "output_type": "execute_result"
    }
   ],
   "source": [
    "b[0]"
   ]
  },
  {
   "cell_type": "code",
   "execution_count": 181,
   "id": "b2650374",
   "metadata": {},
   "outputs": [],
   "source": [
    "b[0]=-1200"
   ]
  },
  {
   "cell_type": "code",
   "execution_count": 182,
   "id": "be7af51a",
   "metadata": {},
   "outputs": [
    {
     "data": {
      "text/plain": [
       "array([    0,     1,     2, -1200,     4,     5,     6,     7,     8,\n",
       "           9,    10,    11,    12,    13,    14,    15,    16,    17,\n",
       "          18,    19,    20,    21,    22,    23,    24,    25,    26,\n",
       "          27,    28,    29,    30,    31,    32,    33,    34,    35,\n",
       "          36,    37,    38,    39,    40,    41,    42,    43,    44,\n",
       "          45,    46,    47,    48,    49,    50,    51,    52,    53,\n",
       "          54,    55,    56,    57,    58,    59,    60,    61,    62,\n",
       "          63,    64,    65,    66,    67,    68,    69,    70,    71,\n",
       "          72,    73,    74,    75,    76,    77,    78,    79,    80,\n",
       "          81,    82,    83,    84,    85,    86,    87,    88,    89,\n",
       "          90,    91,    92,    93,    94,    95,    96,    97,    98,\n",
       "          99])"
      ]
     },
     "execution_count": 182,
     "metadata": {},
     "output_type": "execute_result"
    }
   ],
   "source": [
    "A"
   ]
  },
  {
   "cell_type": "code",
   "execution_count": 183,
   "id": "1bab99bc",
   "metadata": {},
   "outputs": [],
   "source": [
    "b =A[3:10].copy()"
   ]
  },
  {
   "cell_type": "code",
   "execution_count": 184,
   "id": "5bd77bc9",
   "metadata": {},
   "outputs": [
    {
     "data": {
      "text/plain": [
       "array([ 0,  2,  4,  6,  8, 10, 12, 14, 16, 18, 20, 22, 24, 26, 28, 30, 32,\n",
       "       34, 36, 38, 40, 42, 44, 46, 48, 50, 52, 54, 56, 58, 60, 62, 64, 66,\n",
       "       68, 70, 72, 74, 76, 78, 80, 82, 84, 86, 88, 90, 92, 94, 96, 98])"
      ]
     },
     "execution_count": 184,
     "metadata": {},
     "output_type": "execute_result"
    }
   ],
   "source": [
    "A[::2]"
   ]
  },
  {
   "cell_type": "code",
   "execution_count": 185,
   "id": "885bd49f",
   "metadata": {},
   "outputs": [
    {
     "data": {
      "text/plain": [
       "array([99, 94, 89, 84, 79, 74, 69, 64, 59, 54, 49, 44, 39, 34, 29, 24, 19,\n",
       "       14,  9,  4])"
      ]
     },
     "execution_count": 185,
     "metadata": {},
     "output_type": "execute_result"
    }
   ],
   "source": [
    "A[::-5]"
   ]
  },
  {
   "cell_type": "code",
   "execution_count": 186,
   "id": "7e2e1235",
   "metadata": {},
   "outputs": [],
   "source": [
    "B = (A==-1200)*np.arange(A.size)"
   ]
  },
  {
   "cell_type": "code",
   "execution_count": 187,
   "id": "91fe9e08",
   "metadata": {},
   "outputs": [
    {
     "data": {
      "text/plain": [
       "array([0, 0, 0, 3, 0, 0, 0, 0, 0, 0, 0, 0, 0, 0, 0, 0, 0, 0, 0, 0, 0, 0,\n",
       "       0, 0, 0, 0, 0, 0, 0, 0, 0, 0, 0, 0, 0, 0, 0, 0, 0, 0, 0, 0, 0, 0,\n",
       "       0, 0, 0, 0, 0, 0, 0, 0, 0, 0, 0, 0, 0, 0, 0, 0, 0, 0, 0, 0, 0, 0,\n",
       "       0, 0, 0, 0, 0, 0, 0, 0, 0, 0, 0, 0, 0, 0, 0, 0, 0, 0, 0, 0, 0, 0,\n",
       "       0, 0, 0, 0, 0, 0, 0, 0, 0, 0, 0, 0])"
      ]
     },
     "execution_count": 187,
     "metadata": {},
     "output_type": "execute_result"
    }
   ],
   "source": [
    "B"
   ]
  },
  {
   "cell_type": "code",
   "execution_count": 188,
   "id": "75bf60f0",
   "metadata": {},
   "outputs": [],
   "source": [
    "# A.indices(-1200)"
   ]
  },
  {
   "cell_type": "code",
   "execution_count": 189,
   "id": "a681fee8",
   "metadata": {},
   "outputs": [
    {
     "data": {
      "text/plain": [
       "array([    0,     1,     2, -1200,     4,     5,     6,     7,     8,\n",
       "           9,    10,    11,    12,    13,    14,    15,    16,    17,\n",
       "          18,    19,    20,    21,    22,    23,    24,    25,    26,\n",
       "          27,    28,    29,    30,    31,    32,    33,    34,    35,\n",
       "          36,    37,    38,    39,    40,    41,    42,    43,    44,\n",
       "          45,    46,    47,    48,    49,    50,    51,    52,    53,\n",
       "          54,    55,    56,    57,    58,    59,    60,    61,    62,\n",
       "          63,    64,    65,    66,    67,    68,    69,    70,    71,\n",
       "          72,    73,    74,    75,    76,    77,    78,    79,    80,\n",
       "          81,    82,    83,    84,    85,    86,    87,    88,    89,\n",
       "          90,    91,    92,    93,    94,    95,    96,    97,    98,\n",
       "          99])"
      ]
     },
     "execution_count": 189,
     "metadata": {},
     "output_type": "execute_result"
    }
   ],
   "source": [
    "A"
   ]
  },
  {
   "cell_type": "code",
   "execution_count": 190,
   "id": "6d38d4b5",
   "metadata": {},
   "outputs": [
    {
     "data": {
      "text/plain": [
       "array([   99,    98,    97,    96,    95,    94,    93,    92,    91,\n",
       "          90,    89,    88,    87,    86,    85,    84,    83,    82,\n",
       "          81,    80,    79,    78,    77,    76,    75,    74,    73,\n",
       "          72,    71,    70,    69,    68,    67,    66,    65,    64,\n",
       "          63,    62,    61,    60,    59,    58,    57,    56,    55,\n",
       "          54,    53,    52,    51,    50,    49,    48,    47,    46,\n",
       "          45,    44,    43,    42,    41,    40,    39,    38,    37,\n",
       "          36,    35,    34,    33,    32,    31,    30,    29,    28,\n",
       "          27,    26,    25,    24,    23,    22,    21,    20,    19,\n",
       "          18,    17,    16,    15,    14,    13,    12,    11,    10,\n",
       "           9,     8,     7,     6,     5,     4, -1200,     2,     1,\n",
       "           0])"
      ]
     },
     "execution_count": 190,
     "metadata": {},
     "output_type": "execute_result"
    }
   ],
   "source": [
    "A[::-1]"
   ]
  },
  {
   "cell_type": "code",
   "execution_count": 191,
   "id": "a1156267",
   "metadata": {},
   "outputs": [],
   "source": [
    "idx = np.argwhere(A==-1200)[0][0]"
   ]
  },
  {
   "cell_type": "code",
   "execution_count": 192,
   "id": "ee42d2db",
   "metadata": {},
   "outputs": [
    {
     "data": {
      "text/plain": [
       "3"
      ]
     },
     "execution_count": 192,
     "metadata": {},
     "output_type": "execute_result"
    }
   ],
   "source": [
    "idx"
   ]
  },
  {
   "cell_type": "code",
   "execution_count": 193,
   "id": "31857426",
   "metadata": {},
   "outputs": [],
   "source": [
    "A[idx] = 3"
   ]
  },
  {
   "cell_type": "code",
   "execution_count": 194,
   "id": "52e6b7f1",
   "metadata": {},
   "outputs": [
    {
     "data": {
      "text/plain": [
       "array([ 0,  1,  2,  3,  4,  5,  6,  7,  8,  9, 10, 11, 12, 13, 14, 15, 16,\n",
       "       17, 18, 19, 20, 21, 22, 23, 24, 25, 26, 27, 28, 29, 30, 31, 32, 33,\n",
       "       34, 35, 36, 37, 38, 39, 40, 41, 42, 43, 44, 45, 46, 47, 48, 49, 50,\n",
       "       51, 52, 53, 54, 55, 56, 57, 58, 59, 60, 61, 62, 63, 64, 65, 66, 67,\n",
       "       68, 69, 70, 71, 72, 73, 74, 75, 76, 77, 78, 79, 80, 81, 82, 83, 84,\n",
       "       85, 86, 87, 88, 89, 90, 91, 92, 93, 94, 95, 96, 97, 98, 99])"
      ]
     },
     "execution_count": 194,
     "metadata": {},
     "output_type": "execute_result"
    }
   ],
   "source": [
    "A"
   ]
  },
  {
   "cell_type": "code",
   "execution_count": 195,
   "id": "7bdbaa8e",
   "metadata": {},
   "outputs": [],
   "source": [
    "A = np.round(10*np.random.rand(5,4))"
   ]
  },
  {
   "cell_type": "code",
   "execution_count": 196,
   "id": "0434096c",
   "metadata": {},
   "outputs": [
    {
     "data": {
      "text/plain": [
       "array([[10.,  2.,  1.,  6.],\n",
       "       [ 4.,  2.,  5.,  1.],\n",
       "       [ 0.,  1.,  1.,  4.],\n",
       "       [ 3.,  7.,  4., 10.],\n",
       "       [ 0.,  0.,  7.,  2.]])"
      ]
     },
     "execution_count": 196,
     "metadata": {},
     "output_type": "execute_result"
    }
   ],
   "source": [
    "A"
   ]
  },
  {
   "cell_type": "code",
   "execution_count": 197,
   "id": "95915a98",
   "metadata": {},
   "outputs": [
    {
     "data": {
      "text/plain": [
       "5.0"
      ]
     },
     "execution_count": 197,
     "metadata": {},
     "output_type": "execute_result"
    }
   ],
   "source": [
    "A[1,2]"
   ]
  },
  {
   "cell_type": "code",
   "execution_count": 198,
   "id": "266f0908",
   "metadata": {},
   "outputs": [
    {
     "data": {
      "text/plain": [
       "array([4., 2., 5., 1.])"
      ]
     },
     "execution_count": 198,
     "metadata": {},
     "output_type": "execute_result"
    }
   ],
   "source": [
    "A[1,:]"
   ]
  },
  {
   "cell_type": "code",
   "execution_count": 199,
   "id": "a7e2b5d1",
   "metadata": {},
   "outputs": [
    {
     "data": {
      "text/plain": [
       "array([2., 2., 1., 7., 0.])"
      ]
     },
     "execution_count": 199,
     "metadata": {},
     "output_type": "execute_result"
    }
   ],
   "source": [
    "A[:,1]"
   ]
  },
  {
   "cell_type": "code",
   "execution_count": 200,
   "id": "e527ca2d",
   "metadata": {},
   "outputs": [
    {
     "data": {
      "text/plain": [
       "array([[5., 1.],\n",
       "       [1., 4.]])"
      ]
     },
     "execution_count": 200,
     "metadata": {},
     "output_type": "execute_result"
    }
   ],
   "source": [
    "A[1:3,2:4]"
   ]
  },
  {
   "cell_type": "code",
   "execution_count": 201,
   "id": "c37ed1d4",
   "metadata": {},
   "outputs": [
    {
     "data": {
      "text/plain": [
       "array([[10.,  2.,  1.,  6.],\n",
       "       [ 4.,  2.,  5.,  1.],\n",
       "       [ 0.,  1.,  1.,  4.],\n",
       "       [ 3.,  7.,  4., 10.],\n",
       "       [ 0.,  0.,  7.,  2.]])"
      ]
     },
     "execution_count": 201,
     "metadata": {},
     "output_type": "execute_result"
    }
   ],
   "source": [
    "A"
   ]
  },
  {
   "cell_type": "code",
   "execution_count": 202,
   "id": "710fa7b3",
   "metadata": {},
   "outputs": [
    {
     "data": {
      "text/plain": [
       "array([[10.,  4.,  0.,  3.,  0.],\n",
       "       [ 2.,  2.,  1.,  7.,  0.],\n",
       "       [ 1.,  5.,  1.,  4.,  7.],\n",
       "       [ 6.,  1.,  4., 10.,  2.]])"
      ]
     },
     "execution_count": 202,
     "metadata": {},
     "output_type": "execute_result"
    }
   ],
   "source": [
    "A.T"
   ]
  },
  {
   "cell_type": "code",
   "execution_count": 203,
   "id": "34a57b72",
   "metadata": {},
   "outputs": [],
   "source": [
    "import numpy.linalg as la\n",
    "import numpy as np"
   ]
  },
  {
   "cell_type": "code",
   "execution_count": 204,
   "id": "4e387f98",
   "metadata": {},
   "outputs": [
    {
     "data": {
      "text/plain": [
       "array([[ 1.63344483, -1.09571618, -0.42656217],\n",
       "       [ 1.65947596,  0.9979943 , -2.12312717],\n",
       "       [-1.68744077,  0.95044017,  1.80901376]])"
      ]
     },
     "execution_count": 204,
     "metadata": {},
     "output_type": "execute_result"
    }
   ],
   "source": [
    "la.inv(np.random.rand(3,3))"
   ]
  },
  {
   "cell_type": "code",
   "execution_count": 205,
   "id": "5091b057",
   "metadata": {},
   "outputs": [],
   "source": [
    "A.sort(axis=0)"
   ]
  },
  {
   "cell_type": "code",
   "execution_count": 206,
   "id": "2aeeec6a",
   "metadata": {},
   "outputs": [
    {
     "data": {
      "text/plain": [
       "array([[ 0.,  0.,  1.,  1.],\n",
       "       [ 0.,  1.,  1.,  2.],\n",
       "       [ 3.,  2.,  4.,  4.],\n",
       "       [ 4.,  2.,  5.,  6.],\n",
       "       [10.,  7.,  7., 10.]])"
      ]
     },
     "execution_count": 206,
     "metadata": {},
     "output_type": "execute_result"
    }
   ],
   "source": [
    "A"
   ]
  },
  {
   "cell_type": "code",
   "execution_count": 207,
   "id": "066eb43a",
   "metadata": {},
   "outputs": [],
   "source": [
    "A.sort(axis=1)"
   ]
  },
  {
   "cell_type": "code",
   "execution_count": 208,
   "id": "048109ff",
   "metadata": {},
   "outputs": [
    {
     "data": {
      "text/plain": [
       "array([[ 0.,  0.,  1.,  1.],\n",
       "       [ 0.,  1.,  1.,  2.],\n",
       "       [ 2.,  3.,  4.,  4.],\n",
       "       [ 2.,  4.,  5.,  6.],\n",
       "       [ 7.,  7., 10., 10.]])"
      ]
     },
     "execution_count": 208,
     "metadata": {},
     "output_type": "execute_result"
    }
   ],
   "source": [
    "A"
   ]
  },
  {
   "cell_type": "code",
   "execution_count": 209,
   "id": "dab53d38",
   "metadata": {},
   "outputs": [],
   "source": [
    "A = np.arange(100)"
   ]
  },
  {
   "cell_type": "code",
   "execution_count": 210,
   "id": "59e7ae4e",
   "metadata": {},
   "outputs": [],
   "source": [
    "B = A[[3,5,6]]"
   ]
  },
  {
   "cell_type": "code",
   "execution_count": 211,
   "id": "3a0135ec",
   "metadata": {},
   "outputs": [
    {
     "data": {
      "text/plain": [
       "array([3, 5, 6])"
      ]
     },
     "execution_count": 211,
     "metadata": {},
     "output_type": "execute_result"
    }
   ],
   "source": [
    "B"
   ]
  },
  {
   "cell_type": "code",
   "execution_count": 212,
   "id": "76037373",
   "metadata": {},
   "outputs": [],
   "source": [
    "B[0] = -4"
   ]
  },
  {
   "cell_type": "code",
   "execution_count": 213,
   "id": "5326845d",
   "metadata": {},
   "outputs": [
    {
     "data": {
      "text/plain": [
       "array([-4,  5,  6])"
      ]
     },
     "execution_count": 213,
     "metadata": {},
     "output_type": "execute_result"
    }
   ],
   "source": [
    "B"
   ]
  },
  {
   "cell_type": "code",
   "execution_count": 214,
   "id": "bac772bc",
   "metadata": {},
   "outputs": [
    {
     "data": {
      "text/plain": [
       "array([ 0,  1,  2,  3,  4,  5,  6,  7,  8,  9, 10, 11, 12, 13, 14, 15, 16,\n",
       "       17, 18, 19, 20, 21, 22, 23, 24, 25, 26, 27, 28, 29, 30, 31, 32, 33,\n",
       "       34, 35, 36, 37, 38, 39, 40, 41, 42, 43, 44, 45, 46, 47, 48, 49, 50,\n",
       "       51, 52, 53, 54, 55, 56, 57, 58, 59, 60, 61, 62, 63, 64, 65, 66, 67,\n",
       "       68, 69, 70, 71, 72, 73, 74, 75, 76, 77, 78, 79, 80, 81, 82, 83, 84,\n",
       "       85, 86, 87, 88, 89, 90, 91, 92, 93, 94, 95, 96, 97, 98, 99])"
      ]
     },
     "execution_count": 214,
     "metadata": {},
     "output_type": "execute_result"
    }
   ],
   "source": [
    "A"
   ]
  },
  {
   "cell_type": "code",
   "execution_count": 215,
   "id": "077dac53",
   "metadata": {},
   "outputs": [],
   "source": [
    "B = A[A<40]"
   ]
  },
  {
   "cell_type": "code",
   "execution_count": 216,
   "id": "93faccd9",
   "metadata": {},
   "outputs": [],
   "source": [
    "B = A[(A<40) & (A>30)]"
   ]
  },
  {
   "cell_type": "code",
   "execution_count": 217,
   "id": "38d7e006",
   "metadata": {},
   "outputs": [
    {
     "data": {
      "text/plain": [
       "array([31, 32, 33, 34, 35, 36, 37, 38, 39])"
      ]
     },
     "execution_count": 217,
     "metadata": {},
     "output_type": "execute_result"
    }
   ],
   "source": [
    "B"
   ]
  },
  {
   "cell_type": "code",
   "execution_count": 218,
   "id": "d8b4db79",
   "metadata": {},
   "outputs": [],
   "source": [
    "#BROADCASTING"
   ]
  },
  {
   "cell_type": "code",
   "execution_count": 219,
   "id": "a9588287",
   "metadata": {},
   "outputs": [],
   "source": [
    "A = np.round(10*np.random.rand(2,3))"
   ]
  },
  {
   "cell_type": "code",
   "execution_count": 220,
   "id": "f845691a",
   "metadata": {},
   "outputs": [
    {
     "data": {
      "text/plain": [
       "array([[6., 1., 5.],\n",
       "       [1., 1., 2.]])"
      ]
     },
     "execution_count": 220,
     "metadata": {},
     "output_type": "execute_result"
    }
   ],
   "source": [
    "A"
   ]
  },
  {
   "cell_type": "code",
   "execution_count": 221,
   "id": "10b7c147",
   "metadata": {},
   "outputs": [
    {
     "data": {
      "text/plain": [
       "array([[9., 4., 8.],\n",
       "       [4., 4., 5.]])"
      ]
     },
     "execution_count": 221,
     "metadata": {},
     "output_type": "execute_result"
    }
   ],
   "source": [
    "A+3"
   ]
  },
  {
   "cell_type": "code",
   "execution_count": 222,
   "id": "29a1baaa",
   "metadata": {},
   "outputs": [
    {
     "data": {
      "text/plain": [
       "array([[6., 1., 5.],\n",
       "       [2., 2., 3.]])"
      ]
     },
     "execution_count": 222,
     "metadata": {},
     "output_type": "execute_result"
    }
   ],
   "source": [
    "A+np.arange(2).reshape(2,1)"
   ]
  },
  {
   "cell_type": "code",
   "execution_count": 223,
   "id": "c2cf2ba7",
   "metadata": {},
   "outputs": [
    {
     "data": {
      "text/plain": [
       "array([[6., 1., 5.],\n",
       "       [1., 1., 2.]])"
      ]
     },
     "execution_count": 223,
     "metadata": {},
     "output_type": "execute_result"
    }
   ],
   "source": [
    "A"
   ]
  },
  {
   "cell_type": "code",
   "execution_count": 224,
   "id": "233e1b51",
   "metadata": {},
   "outputs": [],
   "source": [
    "B =np.round(10*np.random.rand(2,2))"
   ]
  },
  {
   "cell_type": "code",
   "execution_count": 225,
   "id": "9ff1bffa",
   "metadata": {},
   "outputs": [
    {
     "data": {
      "text/plain": [
       "array([[6., 1., 5.],\n",
       "       [1., 1., 2.]])"
      ]
     },
     "execution_count": 225,
     "metadata": {},
     "output_type": "execute_result"
    }
   ],
   "source": [
    "A"
   ]
  },
  {
   "cell_type": "code",
   "execution_count": 226,
   "id": "88788524",
   "metadata": {},
   "outputs": [
    {
     "data": {
      "text/plain": [
       "array([[9., 4.],\n",
       "       [2., 1.]])"
      ]
     },
     "execution_count": 226,
     "metadata": {},
     "output_type": "execute_result"
    }
   ],
   "source": [
    "B"
   ]
  },
  {
   "cell_type": "code",
   "execution_count": 227,
   "id": "5dcb24a7",
   "metadata": {},
   "outputs": [],
   "source": [
    "C = np.hstack((A,B))"
   ]
  },
  {
   "cell_type": "code",
   "execution_count": 228,
   "id": "7d19f3c9",
   "metadata": {},
   "outputs": [
    {
     "data": {
      "text/plain": [
       "array([[6., 1., 5., 9., 4.],\n",
       "       [1., 1., 2., 2., 1.]])"
      ]
     },
     "execution_count": 228,
     "metadata": {},
     "output_type": "execute_result"
    }
   ],
   "source": [
    "C"
   ]
  },
  {
   "cell_type": "code",
   "execution_count": 229,
   "id": "79cd5250",
   "metadata": {},
   "outputs": [],
   "source": [
    "A = np.random.permutation(np.arange(10))"
   ]
  },
  {
   "cell_type": "code",
   "execution_count": 230,
   "id": "fb60560e",
   "metadata": {},
   "outputs": [
    {
     "data": {
      "text/plain": [
       "array([4, 2, 5, 6, 1, 7, 3, 9, 8, 0])"
      ]
     },
     "execution_count": 230,
     "metadata": {},
     "output_type": "execute_result"
    }
   ],
   "source": [
    "A"
   ]
  },
  {
   "cell_type": "code",
   "execution_count": 231,
   "id": "14b4e334",
   "metadata": {},
   "outputs": [
    {
     "data": {
      "text/plain": [
       "array([0, 1, 2, 3, 4, 5, 6, 7, 8, 9])"
      ]
     },
     "execution_count": 231,
     "metadata": {},
     "output_type": "execute_result"
    }
   ],
   "source": [
    "np.sort(A)"
   ]
  },
  {
   "cell_type": "code",
   "execution_count": 232,
   "id": "8684bd84",
   "metadata": {},
   "outputs": [],
   "source": [
    "A.sort()"
   ]
  },
  {
   "cell_type": "code",
   "execution_count": 233,
   "id": "08ddb9c2",
   "metadata": {},
   "outputs": [],
   "source": [
    "A = A[::-1]"
   ]
  },
  {
   "cell_type": "code",
   "execution_count": 234,
   "id": "15f406ed",
   "metadata": {},
   "outputs": [
    {
     "data": {
      "text/plain": [
       "array([9, 8, 7, 6, 5, 4, 3, 2, 1, 0])"
      ]
     },
     "execution_count": 234,
     "metadata": {},
     "output_type": "execute_result"
    }
   ],
   "source": [
    "A"
   ]
  },
  {
   "cell_type": "code",
   "execution_count": 235,
   "id": "7d1cc763",
   "metadata": {},
   "outputs": [],
   "source": [
    "A = np.array([\"abc\",'how are you', 'u899','13er'])"
   ]
  },
  {
   "cell_type": "code",
   "execution_count": 236,
   "id": "1f9497e7",
   "metadata": {},
   "outputs": [],
   "source": [
    "A.sort()"
   ]
  },
  {
   "cell_type": "code",
   "execution_count": 237,
   "id": "4f7991bb",
   "metadata": {},
   "outputs": [
    {
     "data": {
      "text/plain": [
       "array(['13er', 'abc', 'how are you', 'u899'], dtype='<U11')"
      ]
     },
     "execution_count": 237,
     "metadata": {},
     "output_type": "execute_result"
    }
   ],
   "source": [
    "A"
   ]
  },
  {
   "cell_type": "code",
   "execution_count": 238,
   "id": "7763794f",
   "metadata": {},
   "outputs": [
    {
     "name": "stdout",
     "output_type": "stream",
     "text": [
      "85.2 ms ± 3.67 ms per loop (mean ± std. dev. of 7 runs, 10 loops each)\n",
      "1.59 ms ± 28.9 µs per loop (mean ± std. dev. of 7 runs, 1,000 loops each)\n"
     ]
    }
   ],
   "source": [
    "B = np.random.rand(1000000)\n",
    "%timeit sum(B)\n",
    "%timeit np.sum(B)"
   ]
  },
  {
   "cell_type": "code",
   "execution_count": 239,
   "id": "fe01ce4a",
   "metadata": {},
   "outputs": [],
   "source": [
    "def mySum(G):\n",
    "    s=0\n",
    "    for x in G:\n",
    "        s+=x\n",
    "        return s"
   ]
  },
  {
   "cell_type": "code",
   "execution_count": 240,
   "id": "38b8f4e4",
   "metadata": {},
   "outputs": [],
   "source": [
    "import pandas as pd"
   ]
  },
  {
   "cell_type": "code",
   "execution_count": 241,
   "id": "e2874d4e",
   "metadata": {},
   "outputs": [],
   "source": [
    "# print(pd._version_)"
   ]
  },
  {
   "cell_type": "code",
   "execution_count": 242,
   "id": "413054f4",
   "metadata": {},
   "outputs": [],
   "source": [
    "A = pd.Series([2,3,4,5],index=['a','b','c','d'])"
   ]
  },
  {
   "cell_type": "code",
   "execution_count": 243,
   "id": "61020e31",
   "metadata": {},
   "outputs": [
    {
     "data": {
      "text/plain": [
       "array([2, 3, 4, 5], dtype=int64)"
      ]
     },
     "execution_count": 243,
     "metadata": {},
     "output_type": "execute_result"
    }
   ],
   "source": [
    "A.values"
   ]
  },
  {
   "cell_type": "code",
   "execution_count": 244,
   "id": "19c77dd4",
   "metadata": {},
   "outputs": [
    {
     "data": {
      "text/plain": [
       "numpy.ndarray"
      ]
     },
     "execution_count": 244,
     "metadata": {},
     "output_type": "execute_result"
    }
   ],
   "source": [
    "type(A.values)"
   ]
  },
  {
   "cell_type": "code",
   "execution_count": 245,
   "id": "30cbca72",
   "metadata": {},
   "outputs": [
    {
     "data": {
      "text/plain": [
       "pandas.core.series.Series"
      ]
     },
     "execution_count": 245,
     "metadata": {},
     "output_type": "execute_result"
    }
   ],
   "source": [
    "type(A)"
   ]
  },
  {
   "cell_type": "code",
   "execution_count": 246,
   "id": "84d41ae3",
   "metadata": {},
   "outputs": [
    {
     "data": {
      "text/plain": [
       "Index(['a', 'b', 'c', 'd'], dtype='object')"
      ]
     },
     "execution_count": 246,
     "metadata": {},
     "output_type": "execute_result"
    }
   ],
   "source": [
    "A.index"
   ]
  },
  {
   "cell_type": "code",
   "execution_count": 247,
   "id": "ce632a2f",
   "metadata": {},
   "outputs": [
    {
     "data": {
      "text/plain": [
       "a    2\n",
       "b    3\n",
       "c    4\n",
       "dtype: int64"
      ]
     },
     "execution_count": 247,
     "metadata": {},
     "output_type": "execute_result"
    }
   ],
   "source": [
    "A['a':'c']"
   ]
  },
  {
   "cell_type": "code",
   "execution_count": 248,
   "id": "d5979282",
   "metadata": {},
   "outputs": [],
   "source": [
    "grades_dict = {'A':4,'B':3.5,'c':3,'D':2.5}\n",
    "grades = pd.Series(grades_dict)"
   ]
  },
  {
   "cell_type": "code",
   "execution_count": 249,
   "id": "84bfd1ed",
   "metadata": {},
   "outputs": [
    {
     "data": {
      "text/plain": [
       "array([4. , 3.5, 3. , 2.5])"
      ]
     },
     "execution_count": 249,
     "metadata": {},
     "output_type": "execute_result"
    }
   ],
   "source": [
    "grades.values"
   ]
  },
  {
   "cell_type": "code",
   "execution_count": 250,
   "id": "2bbee2a1",
   "metadata": {},
   "outputs": [],
   "source": [
    "marks_dict = {'A':85,'B':75,'C':65,'D':55}\n",
    "marks = pd.Series(marks_dict)"
   ]
  },
  {
   "cell_type": "code",
   "execution_count": 251,
   "id": "3ee72930",
   "metadata": {},
   "outputs": [
    {
     "data": {
      "text/plain": [
       "A    85\n",
       "B    75\n",
       "C    65\n",
       "D    55\n",
       "dtype: int64"
      ]
     },
     "execution_count": 251,
     "metadata": {},
     "output_type": "execute_result"
    }
   ],
   "source": [
    "marks"
   ]
  },
  {
   "cell_type": "code",
   "execution_count": 252,
   "id": "9dd60849",
   "metadata": {},
   "outputs": [
    {
     "data": {
      "text/plain": [
       "85"
      ]
     },
     "execution_count": 252,
     "metadata": {},
     "output_type": "execute_result"
    }
   ],
   "source": [
    "marks['A']"
   ]
  },
  {
   "cell_type": "code",
   "execution_count": 253,
   "id": "2b6fb55c",
   "metadata": {},
   "outputs": [
    {
     "data": {
      "text/plain": [
       "A    85\n",
       "B    75\n",
       "dtype: int64"
      ]
     },
     "execution_count": 253,
     "metadata": {},
     "output_type": "execute_result"
    }
   ],
   "source": [
    "marks[0:2]"
   ]
  },
  {
   "cell_type": "code",
   "execution_count": 254,
   "id": "6cb5969c",
   "metadata": {},
   "outputs": [
    {
     "data": {
      "text/plain": [
       "A    4.0\n",
       "B    3.5\n",
       "c    3.0\n",
       "D    2.5\n",
       "dtype: float64"
      ]
     },
     "execution_count": 254,
     "metadata": {},
     "output_type": "execute_result"
    }
   ],
   "source": [
    "grades"
   ]
  },
  {
   "cell_type": "code",
   "execution_count": 255,
   "id": "ba8a2c5e",
   "metadata": {},
   "outputs": [],
   "source": [
    "D = pd.DataFrame({'Marks':marks,'Grades':grades})"
   ]
  },
  {
   "cell_type": "code",
   "execution_count": 256,
   "id": "c4015729",
   "metadata": {},
   "outputs": [
    {
     "data": {
      "text/html": [
       "<div>\n",
       "<style scoped>\n",
       "    .dataframe tbody tr th:only-of-type {\n",
       "        vertical-align: middle;\n",
       "    }\n",
       "\n",
       "    .dataframe tbody tr th {\n",
       "        vertical-align: top;\n",
       "    }\n",
       "\n",
       "    .dataframe thead th {\n",
       "        text-align: right;\n",
       "    }\n",
       "</style>\n",
       "<table border=\"1\" class=\"dataframe\">\n",
       "  <thead>\n",
       "    <tr style=\"text-align: right;\">\n",
       "      <th></th>\n",
       "      <th>Marks</th>\n",
       "      <th>Grades</th>\n",
       "    </tr>\n",
       "  </thead>\n",
       "  <tbody>\n",
       "    <tr>\n",
       "      <th>A</th>\n",
       "      <td>85.0</td>\n",
       "      <td>4.0</td>\n",
       "    </tr>\n",
       "    <tr>\n",
       "      <th>B</th>\n",
       "      <td>75.0</td>\n",
       "      <td>3.5</td>\n",
       "    </tr>\n",
       "    <tr>\n",
       "      <th>C</th>\n",
       "      <td>65.0</td>\n",
       "      <td>NaN</td>\n",
       "    </tr>\n",
       "    <tr>\n",
       "      <th>D</th>\n",
       "      <td>55.0</td>\n",
       "      <td>2.5</td>\n",
       "    </tr>\n",
       "    <tr>\n",
       "      <th>c</th>\n",
       "      <td>NaN</td>\n",
       "      <td>3.0</td>\n",
       "    </tr>\n",
       "  </tbody>\n",
       "</table>\n",
       "</div>"
      ],
      "text/plain": [
       "   Marks  Grades\n",
       "A   85.0     4.0\n",
       "B   75.0     3.5\n",
       "C   65.0     NaN\n",
       "D   55.0     2.5\n",
       "c    NaN     3.0"
      ]
     },
     "execution_count": 256,
     "metadata": {},
     "output_type": "execute_result"
    }
   ],
   "source": [
    "D"
   ]
  },
  {
   "cell_type": "code",
   "execution_count": 257,
   "id": "6368b53a",
   "metadata": {},
   "outputs": [
    {
     "data": {
      "text/html": [
       "<div>\n",
       "<style scoped>\n",
       "    .dataframe tbody tr th:only-of-type {\n",
       "        vertical-align: middle;\n",
       "    }\n",
       "\n",
       "    .dataframe tbody tr th {\n",
       "        vertical-align: top;\n",
       "    }\n",
       "\n",
       "    .dataframe thead th {\n",
       "        text-align: right;\n",
       "    }\n",
       "</style>\n",
       "<table border=\"1\" class=\"dataframe\">\n",
       "  <thead>\n",
       "    <tr style=\"text-align: right;\">\n",
       "      <th></th>\n",
       "      <th>A</th>\n",
       "      <th>B</th>\n",
       "      <th>C</th>\n",
       "      <th>D</th>\n",
       "      <th>c</th>\n",
       "    </tr>\n",
       "  </thead>\n",
       "  <tbody>\n",
       "    <tr>\n",
       "      <th>Marks</th>\n",
       "      <td>85.0</td>\n",
       "      <td>75.0</td>\n",
       "      <td>65.0</td>\n",
       "      <td>55.0</td>\n",
       "      <td>NaN</td>\n",
       "    </tr>\n",
       "    <tr>\n",
       "      <th>Grades</th>\n",
       "      <td>4.0</td>\n",
       "      <td>3.5</td>\n",
       "      <td>NaN</td>\n",
       "      <td>2.5</td>\n",
       "      <td>3.0</td>\n",
       "    </tr>\n",
       "  </tbody>\n",
       "</table>\n",
       "</div>"
      ],
      "text/plain": [
       "           A     B     C     D    c\n",
       "Marks   85.0  75.0  65.0  55.0  NaN\n",
       "Grades   4.0   3.5   NaN   2.5  3.0"
      ]
     },
     "execution_count": 257,
     "metadata": {},
     "output_type": "execute_result"
    }
   ],
   "source": [
    "D.T"
   ]
  },
  {
   "cell_type": "code",
   "execution_count": 258,
   "id": "d5426670",
   "metadata": {},
   "outputs": [
    {
     "data": {
      "text/plain": [
       "array([[85. ,  4. ],\n",
       "       [75. ,  3.5],\n",
       "       [65. ,  nan],\n",
       "       [55. ,  2.5],\n",
       "       [ nan,  3. ]])"
      ]
     },
     "execution_count": 258,
     "metadata": {},
     "output_type": "execute_result"
    }
   ],
   "source": [
    "D.values"
   ]
  },
  {
   "cell_type": "code",
   "execution_count": 259,
   "id": "a32a2151",
   "metadata": {},
   "outputs": [
    {
     "data": {
      "text/plain": [
       "65.0"
      ]
     },
     "execution_count": 259,
     "metadata": {},
     "output_type": "execute_result"
    }
   ],
   "source": [
    "D.values[2,0]"
   ]
  },
  {
   "cell_type": "code",
   "execution_count": 260,
   "id": "d34e38fb",
   "metadata": {},
   "outputs": [
    {
     "data": {
      "text/plain": [
       "Index(['Marks', 'Grades'], dtype='object')"
      ]
     },
     "execution_count": 260,
     "metadata": {},
     "output_type": "execute_result"
    }
   ],
   "source": [
    "D.columns"
   ]
  },
  {
   "cell_type": "code",
   "execution_count": 261,
   "id": "3367fed4",
   "metadata": {},
   "outputs": [
    {
     "data": {
      "text/html": [
       "<div>\n",
       "<style scoped>\n",
       "    .dataframe tbody tr th:only-of-type {\n",
       "        vertical-align: middle;\n",
       "    }\n",
       "\n",
       "    .dataframe tbody tr th {\n",
       "        vertical-align: top;\n",
       "    }\n",
       "\n",
       "    .dataframe thead th {\n",
       "        text-align: right;\n",
       "    }\n",
       "</style>\n",
       "<table border=\"1\" class=\"dataframe\">\n",
       "  <thead>\n",
       "    <tr style=\"text-align: right;\">\n",
       "      <th></th>\n",
       "      <th>Marks</th>\n",
       "      <th>Grades</th>\n",
       "    </tr>\n",
       "  </thead>\n",
       "  <tbody>\n",
       "    <tr>\n",
       "      <th>A</th>\n",
       "      <td>85.0</td>\n",
       "      <td>4.0</td>\n",
       "    </tr>\n",
       "    <tr>\n",
       "      <th>B</th>\n",
       "      <td>75.0</td>\n",
       "      <td>3.5</td>\n",
       "    </tr>\n",
       "    <tr>\n",
       "      <th>C</th>\n",
       "      <td>65.0</td>\n",
       "      <td>NaN</td>\n",
       "    </tr>\n",
       "    <tr>\n",
       "      <th>D</th>\n",
       "      <td>55.0</td>\n",
       "      <td>2.5</td>\n",
       "    </tr>\n",
       "    <tr>\n",
       "      <th>c</th>\n",
       "      <td>NaN</td>\n",
       "      <td>3.0</td>\n",
       "    </tr>\n",
       "  </tbody>\n",
       "</table>\n",
       "</div>"
      ],
      "text/plain": [
       "   Marks  Grades\n",
       "A   85.0     4.0\n",
       "B   75.0     3.5\n",
       "C   65.0     NaN\n",
       "D   55.0     2.5\n",
       "c    NaN     3.0"
      ]
     },
     "execution_count": 261,
     "metadata": {},
     "output_type": "execute_result"
    }
   ],
   "source": [
    "D"
   ]
  },
  {
   "cell_type": "code",
   "execution_count": 262,
   "id": "09a033fc",
   "metadata": {},
   "outputs": [],
   "source": [
    "D['ScaledMarks'] = 100*(D['Marks']/90)"
   ]
  },
  {
   "cell_type": "code",
   "execution_count": 263,
   "id": "e69c8cd4",
   "metadata": {},
   "outputs": [
    {
     "data": {
      "text/html": [
       "<div>\n",
       "<style scoped>\n",
       "    .dataframe tbody tr th:only-of-type {\n",
       "        vertical-align: middle;\n",
       "    }\n",
       "\n",
       "    .dataframe tbody tr th {\n",
       "        vertical-align: top;\n",
       "    }\n",
       "\n",
       "    .dataframe thead th {\n",
       "        text-align: right;\n",
       "    }\n",
       "</style>\n",
       "<table border=\"1\" class=\"dataframe\">\n",
       "  <thead>\n",
       "    <tr style=\"text-align: right;\">\n",
       "      <th></th>\n",
       "      <th>Marks</th>\n",
       "      <th>Grades</th>\n",
       "      <th>ScaledMarks</th>\n",
       "    </tr>\n",
       "  </thead>\n",
       "  <tbody>\n",
       "    <tr>\n",
       "      <th>A</th>\n",
       "      <td>85.0</td>\n",
       "      <td>4.0</td>\n",
       "      <td>94.444444</td>\n",
       "    </tr>\n",
       "    <tr>\n",
       "      <th>B</th>\n",
       "      <td>75.0</td>\n",
       "      <td>3.5</td>\n",
       "      <td>83.333333</td>\n",
       "    </tr>\n",
       "    <tr>\n",
       "      <th>C</th>\n",
       "      <td>65.0</td>\n",
       "      <td>NaN</td>\n",
       "      <td>72.222222</td>\n",
       "    </tr>\n",
       "    <tr>\n",
       "      <th>D</th>\n",
       "      <td>55.0</td>\n",
       "      <td>2.5</td>\n",
       "      <td>61.111111</td>\n",
       "    </tr>\n",
       "    <tr>\n",
       "      <th>c</th>\n",
       "      <td>NaN</td>\n",
       "      <td>3.0</td>\n",
       "      <td>NaN</td>\n",
       "    </tr>\n",
       "  </tbody>\n",
       "</table>\n",
       "</div>"
      ],
      "text/plain": [
       "   Marks  Grades  ScaledMarks\n",
       "A   85.0     4.0    94.444444\n",
       "B   75.0     3.5    83.333333\n",
       "C   65.0     NaN    72.222222\n",
       "D   55.0     2.5    61.111111\n",
       "c    NaN     3.0          NaN"
      ]
     },
     "execution_count": 263,
     "metadata": {},
     "output_type": "execute_result"
    }
   ],
   "source": [
    "D"
   ]
  },
  {
   "cell_type": "code",
   "execution_count": 264,
   "id": "6d8b2292",
   "metadata": {},
   "outputs": [],
   "source": [
    "del D['ScaledMarks']"
   ]
  },
  {
   "cell_type": "code",
   "execution_count": 265,
   "id": "76280659",
   "metadata": {},
   "outputs": [
    {
     "data": {
      "text/html": [
       "<div>\n",
       "<style scoped>\n",
       "    .dataframe tbody tr th:only-of-type {\n",
       "        vertical-align: middle;\n",
       "    }\n",
       "\n",
       "    .dataframe tbody tr th {\n",
       "        vertical-align: top;\n",
       "    }\n",
       "\n",
       "    .dataframe thead th {\n",
       "        text-align: right;\n",
       "    }\n",
       "</style>\n",
       "<table border=\"1\" class=\"dataframe\">\n",
       "  <thead>\n",
       "    <tr style=\"text-align: right;\">\n",
       "      <th></th>\n",
       "      <th>Marks</th>\n",
       "      <th>Grades</th>\n",
       "    </tr>\n",
       "  </thead>\n",
       "  <tbody>\n",
       "    <tr>\n",
       "      <th>A</th>\n",
       "      <td>85.0</td>\n",
       "      <td>4.0</td>\n",
       "    </tr>\n",
       "    <tr>\n",
       "      <th>B</th>\n",
       "      <td>75.0</td>\n",
       "      <td>3.5</td>\n",
       "    </tr>\n",
       "    <tr>\n",
       "      <th>C</th>\n",
       "      <td>65.0</td>\n",
       "      <td>NaN</td>\n",
       "    </tr>\n",
       "    <tr>\n",
       "      <th>D</th>\n",
       "      <td>55.0</td>\n",
       "      <td>2.5</td>\n",
       "    </tr>\n",
       "    <tr>\n",
       "      <th>c</th>\n",
       "      <td>NaN</td>\n",
       "      <td>3.0</td>\n",
       "    </tr>\n",
       "  </tbody>\n",
       "</table>\n",
       "</div>"
      ],
      "text/plain": [
       "   Marks  Grades\n",
       "A   85.0     4.0\n",
       "B   75.0     3.5\n",
       "C   65.0     NaN\n",
       "D   55.0     2.5\n",
       "c    NaN     3.0"
      ]
     },
     "execution_count": 265,
     "metadata": {},
     "output_type": "execute_result"
    }
   ],
   "source": [
    "D"
   ]
  },
  {
   "cell_type": "code",
   "execution_count": 266,
   "id": "e06b47aa",
   "metadata": {},
   "outputs": [],
   "source": [
    "G=D[D['Marks']>70]"
   ]
  },
  {
   "cell_type": "code",
   "execution_count": 267,
   "id": "b219e45d",
   "metadata": {},
   "outputs": [
    {
     "data": {
      "text/html": [
       "<div>\n",
       "<style scoped>\n",
       "    .dataframe tbody tr th:only-of-type {\n",
       "        vertical-align: middle;\n",
       "    }\n",
       "\n",
       "    .dataframe tbody tr th {\n",
       "        vertical-align: top;\n",
       "    }\n",
       "\n",
       "    .dataframe thead th {\n",
       "        text-align: right;\n",
       "    }\n",
       "</style>\n",
       "<table border=\"1\" class=\"dataframe\">\n",
       "  <thead>\n",
       "    <tr style=\"text-align: right;\">\n",
       "      <th></th>\n",
       "      <th>Marks</th>\n",
       "      <th>Grades</th>\n",
       "    </tr>\n",
       "  </thead>\n",
       "  <tbody>\n",
       "    <tr>\n",
       "      <th>A</th>\n",
       "      <td>85.0</td>\n",
       "      <td>4.0</td>\n",
       "    </tr>\n",
       "    <tr>\n",
       "      <th>B</th>\n",
       "      <td>75.0</td>\n",
       "      <td>3.5</td>\n",
       "    </tr>\n",
       "  </tbody>\n",
       "</table>\n",
       "</div>"
      ],
      "text/plain": [
       "   Marks  Grades\n",
       "A   85.0     4.0\n",
       "B   75.0     3.5"
      ]
     },
     "execution_count": 267,
     "metadata": {},
     "output_type": "execute_result"
    }
   ],
   "source": [
    "G"
   ]
  },
  {
   "cell_type": "code",
   "execution_count": 268,
   "id": "4659e569",
   "metadata": {},
   "outputs": [],
   "source": [
    "A = pd.DataFrame({'a':45,'b':23},{'b':-3,'c':22})"
   ]
  },
  {
   "cell_type": "code",
   "execution_count": 269,
   "id": "7d375823",
   "metadata": {},
   "outputs": [
    {
     "data": {
      "text/html": [
       "<div>\n",
       "<style scoped>\n",
       "    .dataframe tbody tr th:only-of-type {\n",
       "        vertical-align: middle;\n",
       "    }\n",
       "\n",
       "    .dataframe tbody tr th {\n",
       "        vertical-align: top;\n",
       "    }\n",
       "\n",
       "    .dataframe thead th {\n",
       "        text-align: right;\n",
       "    }\n",
       "</style>\n",
       "<table border=\"1\" class=\"dataframe\">\n",
       "  <thead>\n",
       "    <tr style=\"text-align: right;\">\n",
       "      <th></th>\n",
       "      <th>a</th>\n",
       "      <th>b</th>\n",
       "    </tr>\n",
       "  </thead>\n",
       "  <tbody>\n",
       "    <tr>\n",
       "      <th>b</th>\n",
       "      <td>45</td>\n",
       "      <td>23</td>\n",
       "    </tr>\n",
       "    <tr>\n",
       "      <th>c</th>\n",
       "      <td>45</td>\n",
       "      <td>23</td>\n",
       "    </tr>\n",
       "  </tbody>\n",
       "</table>\n",
       "</div>"
      ],
      "text/plain": [
       "    a   b\n",
       "b  45  23\n",
       "c  45  23"
      ]
     },
     "execution_count": 269,
     "metadata": {},
     "output_type": "execute_result"
    }
   ],
   "source": [
    "A"
   ]
  },
  {
   "cell_type": "code",
   "execution_count": 270,
   "id": "04b696e7",
   "metadata": {},
   "outputs": [],
   "source": [
    "A = pd.DataFrame([{'a':45,'b':23},{'b':-3,'c':22}])"
   ]
  },
  {
   "cell_type": "code",
   "execution_count": 271,
   "id": "4c897bb6",
   "metadata": {},
   "outputs": [
    {
     "data": {
      "text/html": [
       "<div>\n",
       "<style scoped>\n",
       "    .dataframe tbody tr th:only-of-type {\n",
       "        vertical-align: middle;\n",
       "    }\n",
       "\n",
       "    .dataframe tbody tr th {\n",
       "        vertical-align: top;\n",
       "    }\n",
       "\n",
       "    .dataframe thead th {\n",
       "        text-align: right;\n",
       "    }\n",
       "</style>\n",
       "<table border=\"1\" class=\"dataframe\">\n",
       "  <thead>\n",
       "    <tr style=\"text-align: right;\">\n",
       "      <th></th>\n",
       "      <th>a</th>\n",
       "      <th>b</th>\n",
       "      <th>c</th>\n",
       "    </tr>\n",
       "  </thead>\n",
       "  <tbody>\n",
       "    <tr>\n",
       "      <th>0</th>\n",
       "      <td>45.0</td>\n",
       "      <td>23</td>\n",
       "      <td>NaN</td>\n",
       "    </tr>\n",
       "    <tr>\n",
       "      <th>1</th>\n",
       "      <td>NaN</td>\n",
       "      <td>-3</td>\n",
       "      <td>22.0</td>\n",
       "    </tr>\n",
       "  </tbody>\n",
       "</table>\n",
       "</div>"
      ],
      "text/plain": [
       "      a   b     c\n",
       "0  45.0  23   NaN\n",
       "1   NaN  -3  22.0"
      ]
     },
     "execution_count": 271,
     "metadata": {},
     "output_type": "execute_result"
    }
   ],
   "source": [
    "A\n"
   ]
  },
  {
   "cell_type": "code",
   "execution_count": 272,
   "id": "7e976ba3",
   "metadata": {},
   "outputs": [
    {
     "data": {
      "text/html": [
       "<div>\n",
       "<style scoped>\n",
       "    .dataframe tbody tr th:only-of-type {\n",
       "        vertical-align: middle;\n",
       "    }\n",
       "\n",
       "    .dataframe tbody tr th {\n",
       "        vertical-align: top;\n",
       "    }\n",
       "\n",
       "    .dataframe thead th {\n",
       "        text-align: right;\n",
       "    }\n",
       "</style>\n",
       "<table border=\"1\" class=\"dataframe\">\n",
       "  <thead>\n",
       "    <tr style=\"text-align: right;\">\n",
       "      <th></th>\n",
       "      <th>a</th>\n",
       "      <th>b</th>\n",
       "      <th>c</th>\n",
       "    </tr>\n",
       "  </thead>\n",
       "  <tbody>\n",
       "    <tr>\n",
       "      <th>0</th>\n",
       "      <td>45.0</td>\n",
       "      <td>23</td>\n",
       "      <td>0.0</td>\n",
       "    </tr>\n",
       "    <tr>\n",
       "      <th>1</th>\n",
       "      <td>0.0</td>\n",
       "      <td>-3</td>\n",
       "      <td>22.0</td>\n",
       "    </tr>\n",
       "  </tbody>\n",
       "</table>\n",
       "</div>"
      ],
      "text/plain": [
       "      a   b     c\n",
       "0  45.0  23   0.0\n",
       "1   0.0  -3  22.0"
      ]
     },
     "execution_count": 272,
     "metadata": {},
     "output_type": "execute_result"
    }
   ],
   "source": [
    "A.fillna(0)"
   ]
  },
  {
   "cell_type": "code",
   "execution_count": 273,
   "id": "1840c3bb",
   "metadata": {},
   "outputs": [],
   "source": [
    "A.dropna?"
   ]
  },
  {
   "cell_type": "code",
   "execution_count": 275,
   "id": "f95ac83e",
   "metadata": {},
   "outputs": [],
   "source": [
    "A = pd.Series(['a','b','c'],index=[1,2,3])"
   ]
  },
  {
   "cell_type": "code",
   "execution_count": 276,
   "id": "169fef73",
   "metadata": {},
   "outputs": [
    {
     "data": {
      "text/plain": [
       "'a'"
      ]
     },
     "execution_count": 276,
     "metadata": {},
     "output_type": "execute_result"
    }
   ],
   "source": [
    "A[1]"
   ]
  },
  {
   "cell_type": "code",
   "execution_count": 277,
   "id": "eb843f1f",
   "metadata": {},
   "outputs": [
    {
     "data": {
      "text/plain": [
       "2    b\n",
       "3    c\n",
       "dtype: object"
      ]
     },
     "execution_count": 277,
     "metadata": {},
     "output_type": "execute_result"
    }
   ],
   "source": [
    "A[1:3]"
   ]
  },
  {
   "cell_type": "code",
   "execution_count": 281,
   "id": "9ade9a9e",
   "metadata": {},
   "outputs": [
    {
     "data": {
      "text/plain": [
       "1    a\n",
       "2    b\n",
       "3    c\n",
       "dtype: object"
      ]
     },
     "execution_count": 281,
     "metadata": {},
     "output_type": "execute_result"
    }
   ],
   "source": [
    "A[0:3]"
   ]
  },
  {
   "cell_type": "code",
   "execution_count": 279,
   "id": "480ad4ee",
   "metadata": {},
   "outputs": [
    {
     "data": {
      "text/plain": [
       "1    a\n",
       "2    b\n",
       "dtype: object"
      ]
     },
     "execution_count": 279,
     "metadata": {},
     "output_type": "execute_result"
    }
   ],
   "source": [
    "A.loc[1:2]"
   ]
  },
  {
   "cell_type": "code",
   "execution_count": 1,
   "id": "5ec77547",
   "metadata": {},
   "outputs": [
    {
     "ename": "NameError",
     "evalue": "name 'A' is not defined",
     "output_type": "error",
     "traceback": [
      "\u001b[1;31m---------------------------------------------------------------------------\u001b[0m",
      "\u001b[1;31mNameError\u001b[0m                                 Traceback (most recent call last)",
      "Input \u001b[1;32mIn [1]\u001b[0m, in \u001b[0;36m<cell line: 1>\u001b[1;34m()\u001b[0m\n\u001b[1;32m----> 1\u001b[0m \u001b[43mA\u001b[49m\u001b[38;5;241m.\u001b[39mloc[\u001b[38;5;241m1\u001b[39m:\u001b[38;5;241m3\u001b[39m]\n",
      "\u001b[1;31mNameError\u001b[0m: name 'A' is not defined"
     ]
    }
   ],
   "source": [
    "A.loc[1:3]"
   ]
  }
 ],
 "metadata": {
  "kernelspec": {
   "display_name": "Python 3 (ipykernel)",
   "language": "python",
   "name": "python3"
  },
  "language_info": {
   "codemirror_mode": {
    "name": "ipython",
    "version": 3
   },
   "file_extension": ".py",
   "mimetype": "text/x-python",
   "name": "python",
   "nbconvert_exporter": "python",
   "pygments_lexer": "ipython3",
   "version": "3.9.12"
  }
 },
 "nbformat": 4,
 "nbformat_minor": 5
}
