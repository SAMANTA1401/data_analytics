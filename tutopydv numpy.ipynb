{
 "cells": [
  {
   "cell_type": "code",
   "execution_count": 1,
   "id": "cd67a05b",
   "metadata": {},
   "outputs": [],
   "source": [
    "import numpy as np\n",
    "data=np.array([[1,4,6],[6,7,8]])"
   ]
  },
  {
   "cell_type": "code",
   "execution_count": 2,
   "id": "705e234a",
   "metadata": {},
   "outputs": [
    {
     "data": {
      "text/plain": [
       "array([[10, 40, 60],\n",
       "       [60, 70, 80]])"
      ]
     },
     "execution_count": 2,
     "metadata": {},
     "output_type": "execute_result"
    }
   ],
   "source": [
    "data*10"
   ]
  },
  {
   "cell_type": "code",
   "execution_count": 3,
   "id": "df005304",
   "metadata": {},
   "outputs": [
    {
     "data": {
      "text/plain": [
       "array([[ 2,  8, 12],\n",
       "       [12, 14, 16]])"
      ]
     },
     "execution_count": 3,
     "metadata": {},
     "output_type": "execute_result"
    }
   ],
   "source": [
    "data+data"
   ]
  },
  {
   "cell_type": "code",
   "execution_count": 4,
   "id": "dedf71c3",
   "metadata": {},
   "outputs": [
    {
     "data": {
      "text/plain": [
       "(2, 3)"
      ]
     },
     "execution_count": 4,
     "metadata": {},
     "output_type": "execute_result"
    }
   ],
   "source": [
    "# ndarray is a multidimentional container for homogeneous data\n",
    "data.shape "
   ]
  },
  {
   "cell_type": "code",
   "execution_count": 5,
   "id": "44ce248d",
   "metadata": {},
   "outputs": [
    {
     "data": {
      "text/plain": [
       "dtype('int32')"
      ]
     },
     "execution_count": 5,
     "metadata": {},
     "output_type": "execute_result"
    }
   ],
   "source": [
    "# dtype: an object describing the data type of the array\n",
    "data.dtype "
   ]
  },
  {
   "cell_type": "code",
   "execution_count": 6,
   "id": "aecbd2ca",
   "metadata": {},
   "outputs": [],
   "source": [
    "# creating ndarray\n",
    "data1=[8,4,5.6,0,3]"
   ]
  },
  {
   "cell_type": "code",
   "execution_count": 7,
   "id": "7843ba0c",
   "metadata": {},
   "outputs": [],
   "source": [
    "arr1=np.array(data1) "
   ]
  },
  {
   "cell_type": "code",
   "execution_count": 8,
   "id": "600f2639",
   "metadata": {},
   "outputs": [
    {
     "data": {
      "text/plain": [
       "array([8. , 4. , 5.6, 0. , 3. ])"
      ]
     },
     "execution_count": 8,
     "metadata": {},
     "output_type": "execute_result"
    }
   ],
   "source": [
    "arr1"
   ]
  },
  {
   "cell_type": "code",
   "execution_count": 9,
   "id": "56e18458",
   "metadata": {},
   "outputs": [],
   "source": [
    "# nested sequence a list of equal-length lists will be converted into a multidimensional array\n",
    "data2=[[1,2,3,4],[5,6,7,8]]"
   ]
  },
  {
   "cell_type": "code",
   "execution_count": 10,
   "id": "af2ec780",
   "metadata": {},
   "outputs": [],
   "source": [
    "arr2 = np.array(data2)"
   ]
  },
  {
   "cell_type": "code",
   "execution_count": 11,
   "id": "0b315e2f",
   "metadata": {},
   "outputs": [
    {
     "data": {
      "text/plain": [
       "array([[1, 2, 3, 4],\n",
       "       [5, 6, 7, 8]])"
      ]
     },
     "execution_count": 11,
     "metadata": {},
     "output_type": "execute_result"
    }
   ],
   "source": [
    "arr2"
   ]
  },
  {
   "cell_type": "code",
   "execution_count": 12,
   "id": "7884c343",
   "metadata": {},
   "outputs": [
    {
     "data": {
      "text/plain": [
       "2"
      ]
     },
     "execution_count": 12,
     "metadata": {},
     "output_type": "execute_result"
    }
   ],
   "source": [
    "# dimension\n",
    "arr2.ndim"
   ]
  },
  {
   "cell_type": "code",
   "execution_count": 13,
   "id": "00ff464b",
   "metadata": {},
   "outputs": [
    {
     "data": {
      "text/plain": [
       "(2, 4)"
      ]
     },
     "execution_count": 13,
     "metadata": {},
     "output_type": "execute_result"
    }
   ],
   "source": [
    "# passed tuple\n",
    "arr2.shape"
   ]
  },
  {
   "cell_type": "code",
   "execution_count": 14,
   "id": "2d06e76f",
   "metadata": {},
   "outputs": [
    {
     "data": {
      "text/plain": [
       "dtype('float64')"
      ]
     },
     "execution_count": 14,
     "metadata": {},
     "output_type": "execute_result"
    }
   ],
   "source": [
    "arr1.dtype"
   ]
  },
  {
   "cell_type": "code",
   "execution_count": 15,
   "id": "82d29c7d",
   "metadata": {},
   "outputs": [
    {
     "data": {
      "text/plain": [
       "dtype('int32')"
      ]
     },
     "execution_count": 15,
     "metadata": {},
     "output_type": "execute_result"
    }
   ],
   "source": [
    "arr2.dtype"
   ]
  },
  {
   "cell_type": "code",
   "execution_count": 16,
   "id": "56eda1b0",
   "metadata": {},
   "outputs": [
    {
     "data": {
      "text/plain": [
       "array([0., 0., 0., 0., 0., 0., 0., 0., 0., 0.])"
      ]
     },
     "execution_count": 16,
     "metadata": {},
     "output_type": "execute_result"
    }
   ],
   "source": [
    "# 0's\n",
    "np.zeros(10)"
   ]
  },
  {
   "cell_type": "code",
   "execution_count": 17,
   "id": "20dd7dd3",
   "metadata": {},
   "outputs": [
    {
     "data": {
      "text/plain": [
       "array([[0., 0., 0., 0., 0., 0.],\n",
       "       [0., 0., 0., 0., 0., 0.],\n",
       "       [0., 0., 0., 0., 0., 0.]])"
      ]
     },
     "execution_count": 17,
     "metadata": {},
     "output_type": "execute_result"
    }
   ],
   "source": [
    "np.zeros((3,6))"
   ]
  },
  {
   "cell_type": "code",
   "execution_count": 18,
   "id": "22a71d3c",
   "metadata": {},
   "outputs": [
    {
     "data": {
      "text/plain": [
       "array([[[1.00415202e-311, 1.00412829e-311, 1.00417260e-311,\n",
       "         1.00418173e-311, 1.00418173e-311, 1.00418173e-311],\n",
       "        [1.00418171e-311, 1.00418171e-311, 1.00417260e-311,\n",
       "         1.00417260e-311, 1.00418171e-311, 1.00418171e-311]],\n",
       "\n",
       "       [[1.00417260e-311, 1.00416804e-311, 1.00416804e-311,\n",
       "         1.00418173e-311, 1.00418173e-311, 1.00418173e-311],\n",
       "        [1.00418173e-311, 1.00418173e-311, 1.00418173e-311,\n",
       "         1.00418173e-311, 1.00418173e-311, 1.00418173e-311]],\n",
       "\n",
       "       [[1.00418174e-311, 1.00418173e-311, 1.00418173e-311,\n",
       "         1.00418173e-311, 1.00418174e-311, 1.00418174e-311],\n",
       "        [1.00418174e-311, 1.00418174e-311, 1.00418174e-311,\n",
       "         1.00418174e-311, 1.00418174e-311, 1.00418174e-311]]])"
      ]
     },
     "execution_count": 18,
     "metadata": {},
     "output_type": "execute_result"
    }
   ],
   "source": [
    "# creates an array without initializing its values to any particular value\n",
    "np.empty((3,2, 6))"
   ]
  },
  {
   "cell_type": "code",
   "execution_count": 19,
   "id": "58543626",
   "metadata": {},
   "outputs": [
    {
     "data": {
      "text/plain": [
       "array([ 0,  1,  2,  3,  4,  5,  6,  7,  8,  9, 10, 11, 12, 13, 14])"
      ]
     },
     "execution_count": 19,
     "metadata": {},
     "output_type": "execute_result"
    }
   ],
   "source": [
    "# arrange is an array valued version of the built in python range fundction\n",
    "np.arange(15)"
   ]
  },
  {
   "cell_type": "code",
   "execution_count": 20,
   "id": "24b1dc37",
   "metadata": {},
   "outputs": [],
   "source": [
    "# data types or dtypes\n",
    "# dtypes are part of what make numpy so powerful and flexible"
   ]
  },
  {
   "cell_type": "code",
   "execution_count": 21,
   "id": "eb90a8d8",
   "metadata": {},
   "outputs": [
    {
     "data": {
      "text/plain": [
       "dtype('int32')"
      ]
     },
     "execution_count": 21,
     "metadata": {},
     "output_type": "execute_result"
    }
   ],
   "source": [
    "arr = np.array([1,2,3,4,5])\n",
    "arr.dtype"
   ]
  },
  {
   "cell_type": "code",
   "execution_count": 22,
   "id": "34a83ae4",
   "metadata": {},
   "outputs": [],
   "source": [
    "# you dan explicitly convert or cast an array from one dtype to another using ndarrays astype method\n",
    "float_arr = arr.astype(np.float64)"
   ]
  },
  {
   "cell_type": "code",
   "execution_count": 23,
   "id": "76e62bb4",
   "metadata": {},
   "outputs": [
    {
     "data": {
      "text/plain": [
       "dtype('float64')"
      ]
     },
     "execution_count": 23,
     "metadata": {},
     "output_type": "execute_result"
    }
   ],
   "source": [
    "float_arr.dtype"
   ]
  },
  {
   "cell_type": "code",
   "execution_count": 24,
   "id": "c27e94b1",
   "metadata": {},
   "outputs": [
    {
     "data": {
      "text/plain": [
       "array([1, 2, 3, 4, 5])"
      ]
     },
     "execution_count": 24,
     "metadata": {},
     "output_type": "execute_result"
    }
   ],
   "source": [
    "arr"
   ]
  },
  {
   "cell_type": "code",
   "execution_count": 25,
   "id": "1314ada8",
   "metadata": {},
   "outputs": [],
   "source": [
    "arr1 =np.array([3.4,-1.4,-5.3,0.6,10.1])"
   ]
  },
  {
   "cell_type": "code",
   "execution_count": 26,
   "id": "29c80521",
   "metadata": {},
   "outputs": [
    {
     "data": {
      "text/plain": [
       "array([ 3, -1, -5,  0, 10])"
      ]
     },
     "execution_count": 26,
     "metadata": {},
     "output_type": "execute_result"
    }
   ],
   "source": [
    "arr1.astype(np.int32)"
   ]
  },
  {
   "cell_type": "code",
   "execution_count": 27,
   "id": "fe564945",
   "metadata": {},
   "outputs": [],
   "source": [
    "int_array = np.arange(10)"
   ]
  },
  {
   "cell_type": "code",
   "execution_count": 28,
   "id": "21109b18",
   "metadata": {},
   "outputs": [],
   "source": [
    "calibers = np.array([.22,.279,.357,.44], dtype=np.float64)"
   ]
  },
  {
   "cell_type": "code",
   "execution_count": 29,
   "id": "0e1b2e8a",
   "metadata": {},
   "outputs": [
    {
     "data": {
      "text/plain": [
       "array([0., 1., 2., 3., 4., 5., 6., 7., 8., 9.])"
      ]
     },
     "execution_count": 29,
     "metadata": {},
     "output_type": "execute_result"
    }
   ],
   "source": [
    "int_array.astype(calibers.dtype)"
   ]
  },
  {
   "cell_type": "code",
   "execution_count": 30,
   "id": "7a0d551f",
   "metadata": {},
   "outputs": [],
   "source": [
    "# array operation\n",
    "arr = np.array([[1,2,3],[4,5,6]])"
   ]
  },
  {
   "cell_type": "code",
   "execution_count": 31,
   "id": "c518c77c",
   "metadata": {},
   "outputs": [
    {
     "data": {
      "text/plain": [
       "array([[1, 2, 3],\n",
       "       [4, 5, 6]])"
      ]
     },
     "execution_count": 31,
     "metadata": {},
     "output_type": "execute_result"
    }
   ],
   "source": [
    "arr"
   ]
  },
  {
   "cell_type": "code",
   "execution_count": 32,
   "id": "b93350a8",
   "metadata": {},
   "outputs": [
    {
     "data": {
      "text/plain": [
       "array([[ 1,  4,  9],\n",
       "       [16, 25, 36]])"
      ]
     },
     "execution_count": 32,
     "metadata": {},
     "output_type": "execute_result"
    }
   ],
   "source": [
    "arr*arr"
   ]
  },
  {
   "cell_type": "code",
   "execution_count": 33,
   "id": "712c3238",
   "metadata": {},
   "outputs": [
    {
     "data": {
      "text/plain": [
       "array([[0, 0, 0],\n",
       "       [0, 0, 0]])"
      ]
     },
     "execution_count": 33,
     "metadata": {},
     "output_type": "execute_result"
    }
   ],
   "source": [
    "arr-arr"
   ]
  },
  {
   "cell_type": "code",
   "execution_count": 34,
   "id": "a68cd27a",
   "metadata": {},
   "outputs": [
    {
     "data": {
      "text/plain": [
       "array([[1.        , 0.5       , 0.33333333],\n",
       "       [0.25      , 0.2       , 0.16666667]])"
      ]
     },
     "execution_count": 34,
     "metadata": {},
     "output_type": "execute_result"
    }
   ],
   "source": [
    "1/arr"
   ]
  },
  {
   "cell_type": "code",
   "execution_count": 35,
   "id": "f7d49799",
   "metadata": {},
   "outputs": [
    {
     "data": {
      "text/plain": [
       "array([[1.        , 1.41421356, 1.73205081],\n",
       "       [2.        , 2.23606798, 2.44948974]])"
      ]
     },
     "execution_count": 35,
     "metadata": {},
     "output_type": "execute_result"
    }
   ],
   "source": [
    "arr**0.5"
   ]
  },
  {
   "cell_type": "code",
   "execution_count": 36,
   "id": "a267b239",
   "metadata": {},
   "outputs": [
    {
     "data": {
      "text/plain": [
       "array([0, 1, 2, 3, 4, 5, 6, 7, 8, 9])"
      ]
     },
     "execution_count": 36,
     "metadata": {},
     "output_type": "execute_result"
    }
   ],
   "source": [
    "# array indexing and slicing\n",
    "# 1 d array\n",
    "arr = np.arange(10)\n",
    "arr"
   ]
  },
  {
   "cell_type": "code",
   "execution_count": 37,
   "id": "36f8f9c7",
   "metadata": {},
   "outputs": [
    {
     "data": {
      "text/plain": [
       "5"
      ]
     },
     "execution_count": 37,
     "metadata": {},
     "output_type": "execute_result"
    }
   ],
   "source": [
    "arr[5]"
   ]
  },
  {
   "cell_type": "code",
   "execution_count": 38,
   "id": "76451f20",
   "metadata": {},
   "outputs": [
    {
     "data": {
      "text/plain": [
       "array([5, 6, 7])"
      ]
     },
     "execution_count": 38,
     "metadata": {},
     "output_type": "execute_result"
    }
   ],
   "source": [
    "# slicing\n",
    "arr[5:8]"
   ]
  },
  {
   "cell_type": "code",
   "execution_count": 39,
   "id": "6d94d671",
   "metadata": {},
   "outputs": [],
   "source": [
    "arr[5:8]=12"
   ]
  },
  {
   "cell_type": "code",
   "execution_count": 40,
   "id": "d8810af6",
   "metadata": {},
   "outputs": [
    {
     "data": {
      "text/plain": [
       "array([ 0,  1,  2,  3,  4, 12, 12, 12,  8,  9])"
      ]
     },
     "execution_count": 40,
     "metadata": {},
     "output_type": "execute_result"
    }
   ],
   "source": [
    "arr"
   ]
  },
  {
   "cell_type": "code",
   "execution_count": 41,
   "id": "851e7520",
   "metadata": {},
   "outputs": [],
   "source": [
    "arr[5:8]=12,4,5"
   ]
  },
  {
   "cell_type": "code",
   "execution_count": 42,
   "id": "f997d7c1",
   "metadata": {},
   "outputs": [
    {
     "data": {
      "text/plain": [
       "array([ 0,  1,  2,  3,  4, 12,  4,  5,  8,  9])"
      ]
     },
     "execution_count": 42,
     "metadata": {},
     "output_type": "execute_result"
    }
   ],
   "source": [
    "arr"
   ]
  },
  {
   "cell_type": "code",
   "execution_count": 43,
   "id": "059b678d",
   "metadata": {},
   "outputs": [],
   "source": [
    "arr_slice =arr[5:8]"
   ]
  },
  {
   "cell_type": "code",
   "execution_count": 44,
   "id": "67d7acf8",
   "metadata": {},
   "outputs": [],
   "source": [
    "arr_slice[1]=12345"
   ]
  },
  {
   "cell_type": "code",
   "execution_count": 45,
   "id": "5ac85f7c",
   "metadata": {},
   "outputs": [
    {
     "data": {
      "text/plain": [
       "array([    0,     1,     2,     3,     4,    12, 12345,     5,     8,\n",
       "           9])"
      ]
     },
     "execution_count": 45,
     "metadata": {},
     "output_type": "execute_result"
    }
   ],
   "source": [
    "arr"
   ]
  },
  {
   "cell_type": "code",
   "execution_count": 46,
   "id": "36fa0f25",
   "metadata": {},
   "outputs": [],
   "source": [
    "arr_slice[:]=64"
   ]
  },
  {
   "cell_type": "code",
   "execution_count": 47,
   "id": "a1038212",
   "metadata": {},
   "outputs": [
    {
     "data": {
      "text/plain": [
       "array([ 0,  1,  2,  3,  4, 64, 64, 64,  8,  9])"
      ]
     },
     "execution_count": 47,
     "metadata": {},
     "output_type": "execute_result"
    }
   ],
   "source": [
    "arr"
   ]
  },
  {
   "cell_type": "code",
   "execution_count": 48,
   "id": "94149546",
   "metadata": {},
   "outputs": [],
   "source": [
    "aer=arr[5:8].copy()"
   ]
  },
  {
   "cell_type": "code",
   "execution_count": 49,
   "id": "13ed82bf",
   "metadata": {},
   "outputs": [
    {
     "data": {
      "text/plain": [
       "array([64, 64, 64])"
      ]
     },
     "execution_count": 49,
     "metadata": {},
     "output_type": "execute_result"
    }
   ],
   "source": [
    "aer"
   ]
  },
  {
   "cell_type": "code",
   "execution_count": 50,
   "id": "0fb4d23e",
   "metadata": {},
   "outputs": [
    {
     "data": {
      "text/plain": [
       "array([ 0,  1,  2,  3,  4, 64, 64, 64,  8,  9])"
      ]
     },
     "execution_count": 50,
     "metadata": {},
     "output_type": "execute_result"
    }
   ],
   "source": [
    "arr"
   ]
  },
  {
   "cell_type": "code",
   "execution_count": 51,
   "id": "33b600d3",
   "metadata": {},
   "outputs": [],
   "source": [
    "# 2D array\n",
    "arr2d=np.array([[1,2,3],[4,5,6],[7,8,9]])"
   ]
  },
  {
   "cell_type": "code",
   "execution_count": 52,
   "id": "11e4bd64",
   "metadata": {},
   "outputs": [
    {
     "data": {
      "text/plain": [
       "array([7, 8, 9])"
      ]
     },
     "execution_count": 52,
     "metadata": {},
     "output_type": "execute_result"
    }
   ],
   "source": [
    "arr2d[2]"
   ]
  },
  {
   "cell_type": "code",
   "execution_count": 53,
   "id": "83bf5e81",
   "metadata": {},
   "outputs": [
    {
     "data": {
      "text/plain": [
       "3"
      ]
     },
     "execution_count": 53,
     "metadata": {},
     "output_type": "execute_result"
    }
   ],
   "source": [
    "arr2d[0][2]"
   ]
  },
  {
   "cell_type": "code",
   "execution_count": 54,
   "id": "fd08a4ef",
   "metadata": {},
   "outputs": [
    {
     "data": {
      "text/plain": [
       "3"
      ]
     },
     "execution_count": 54,
     "metadata": {},
     "output_type": "execute_result"
    }
   ],
   "source": [
    "arr2d[0,2]"
   ]
  },
  {
   "cell_type": "code",
   "execution_count": 55,
   "id": "92fcbe55",
   "metadata": {},
   "outputs": [
    {
     "data": {
      "text/plain": [
       "array([[1, 2, 3],\n",
       "       [4, 5, 6],\n",
       "       [7, 8, 9]])"
      ]
     },
     "execution_count": 55,
     "metadata": {},
     "output_type": "execute_result"
    }
   ],
   "source": [
    "arr2d"
   ]
  },
  {
   "cell_type": "code",
   "execution_count": 56,
   "id": "62704595",
   "metadata": {},
   "outputs": [],
   "source": [
    "# 3d array 2x2x3"
   ]
  },
  {
   "cell_type": "code",
   "execution_count": 57,
   "id": "b6ee14f1",
   "metadata": {},
   "outputs": [],
   "source": [
    "arr3d = np.array([[[1,2,3],[4,5,6]],[[7,8,9],[10,11,12]]])"
   ]
  },
  {
   "cell_type": "code",
   "execution_count": 58,
   "id": "866e0a2e",
   "metadata": {},
   "outputs": [
    {
     "data": {
      "text/plain": [
       "array([[[ 1,  2,  3],\n",
       "        [ 4,  5,  6]],\n",
       "\n",
       "       [[ 7,  8,  9],\n",
       "        [10, 11, 12]]])"
      ]
     },
     "execution_count": 58,
     "metadata": {},
     "output_type": "execute_result"
    }
   ],
   "source": [
    "arr3d\n"
   ]
  },
  {
   "cell_type": "code",
   "execution_count": 59,
   "id": "1fa1621e",
   "metadata": {},
   "outputs": [
    {
     "data": {
      "text/plain": [
       "array([[1, 2, 3],\n",
       "       [4, 5, 6]])"
      ]
     },
     "execution_count": 59,
     "metadata": {},
     "output_type": "execute_result"
    }
   ],
   "source": [
    "arr3d[0]"
   ]
  },
  {
   "cell_type": "code",
   "execution_count": 60,
   "id": "f94039d6",
   "metadata": {},
   "outputs": [
    {
     "data": {
      "text/plain": [
       "array([[ 7,  8,  9],\n",
       "       [10, 11, 12]])"
      ]
     },
     "execution_count": 60,
     "metadata": {},
     "output_type": "execute_result"
    }
   ],
   "source": [
    "arr3d[1]"
   ]
  },
  {
   "cell_type": "code",
   "execution_count": 61,
   "id": "b691e96c",
   "metadata": {},
   "outputs": [],
   "source": [
    "old_values = arr3d[0].copy"
   ]
  },
  {
   "cell_type": "code",
   "execution_count": 62,
   "id": "bea5f125",
   "metadata": {},
   "outputs": [
    {
     "data": {
      "text/plain": [
       "<function ndarray.copy>"
      ]
     },
     "execution_count": 62,
     "metadata": {},
     "output_type": "execute_result"
    }
   ],
   "source": [
    "old_values"
   ]
  },
  {
   "cell_type": "code",
   "execution_count": 63,
   "id": "499463f9",
   "metadata": {},
   "outputs": [],
   "source": [
    "arr3d[0]=42"
   ]
  },
  {
   "cell_type": "code",
   "execution_count": 64,
   "id": "7a3ae9bf",
   "metadata": {},
   "outputs": [
    {
     "data": {
      "text/plain": [
       "array([[[42, 42, 42],\n",
       "        [42, 42, 42]],\n",
       "\n",
       "       [[ 7,  8,  9],\n",
       "        [10, 11, 12]]])"
      ]
     },
     "execution_count": 64,
     "metadata": {},
     "output_type": "execute_result"
    }
   ],
   "source": [
    "arr3d"
   ]
  },
  {
   "cell_type": "code",
   "execution_count": 65,
   "id": "c166f8f0",
   "metadata": {},
   "outputs": [],
   "source": [
    "# arr3d[0] = old_values"
   ]
  },
  {
   "cell_type": "code",
   "execution_count": 66,
   "id": "fb434565",
   "metadata": {},
   "outputs": [
    {
     "data": {
      "text/plain": [
       "array([7, 8, 9])"
      ]
     },
     "execution_count": 66,
     "metadata": {},
     "output_type": "execute_result"
    }
   ],
   "source": [
    "arr3d[1,0]"
   ]
  },
  {
   "cell_type": "code",
   "execution_count": 67,
   "id": "cf22c95c",
   "metadata": {},
   "outputs": [],
   "source": [
    "# indexing and slicing"
   ]
  },
  {
   "cell_type": "code",
   "execution_count": 68,
   "id": "66920565",
   "metadata": {},
   "outputs": [
    {
     "data": {
      "text/plain": [
       "array([ 0,  1,  2,  3,  4, 64, 64, 64,  8,  9])"
      ]
     },
     "execution_count": 68,
     "metadata": {},
     "output_type": "execute_result"
    }
   ],
   "source": [
    "arr"
   ]
  },
  {
   "cell_type": "code",
   "execution_count": 69,
   "id": "4d8284df",
   "metadata": {},
   "outputs": [
    {
     "data": {
      "text/plain": [
       "array([ 1,  2,  3,  4, 64])"
      ]
     },
     "execution_count": 69,
     "metadata": {},
     "output_type": "execute_result"
    }
   ],
   "source": [
    "arr[1:6]"
   ]
  },
  {
   "cell_type": "code",
   "execution_count": 70,
   "id": "61fa8a3e",
   "metadata": {},
   "outputs": [
    {
     "data": {
      "text/plain": [
       "array([[1, 2, 3],\n",
       "       [4, 5, 6],\n",
       "       [7, 8, 9]])"
      ]
     },
     "execution_count": 70,
     "metadata": {},
     "output_type": "execute_result"
    }
   ],
   "source": [
    "arr2d"
   ]
  },
  {
   "cell_type": "code",
   "execution_count": 71,
   "id": "2f132d8e",
   "metadata": {},
   "outputs": [
    {
     "data": {
      "text/plain": [
       "array([[1, 2, 3],\n",
       "       [4, 5, 6]])"
      ]
     },
     "execution_count": 71,
     "metadata": {},
     "output_type": "execute_result"
    }
   ],
   "source": [
    "arr2d[:2]"
   ]
  },
  {
   "cell_type": "code",
   "execution_count": 72,
   "id": "e01e47d2",
   "metadata": {},
   "outputs": [
    {
     "data": {
      "text/plain": [
       "array([[2, 3],\n",
       "       [5, 6]])"
      ]
     },
     "execution_count": 72,
     "metadata": {},
     "output_type": "execute_result"
    }
   ],
   "source": [
    "# multiple slices and indexes\n",
    "arr2d[:2,1:]"
   ]
  },
  {
   "cell_type": "code",
   "execution_count": 73,
   "id": "5f42a373",
   "metadata": {},
   "outputs": [
    {
     "data": {
      "text/plain": [
       "array([4, 5])"
      ]
     },
     "execution_count": 73,
     "metadata": {},
     "output_type": "execute_result"
    }
   ],
   "source": [
    "arr2d[1,:2]"
   ]
  },
  {
   "cell_type": "code",
   "execution_count": 74,
   "id": "c3cf7cdc",
   "metadata": {},
   "outputs": [
    {
     "data": {
      "text/plain": [
       "array([7])"
      ]
     },
     "execution_count": 74,
     "metadata": {},
     "output_type": "execute_result"
    }
   ],
   "source": [
    "arr2d[2,:1]"
   ]
  },
  {
   "cell_type": "code",
   "execution_count": 75,
   "id": "edc0cad8",
   "metadata": {},
   "outputs": [
    {
     "data": {
      "text/plain": [
       "array([[1],\n",
       "       [4],\n",
       "       [7]])"
      ]
     },
     "execution_count": 75,
     "metadata": {},
     "output_type": "execute_result"
    }
   ],
   "source": [
    "arr2d[:, :1]"
   ]
  },
  {
   "cell_type": "code",
   "execution_count": 76,
   "id": "79274039",
   "metadata": {},
   "outputs": [],
   "source": [
    "arr2d[:2, 1:] = 0"
   ]
  },
  {
   "cell_type": "code",
   "execution_count": 77,
   "id": "259dec03",
   "metadata": {},
   "outputs": [],
   "source": [
    "# boolean indexing\n",
    "from numpy.random import randn \n"
   ]
  },
  {
   "cell_type": "code",
   "execution_count": 78,
   "id": "d16b56cc",
   "metadata": {},
   "outputs": [],
   "source": [
    "names = np.array(['Bob','Joe','Will','Bob','Will','Joe','Joe'])"
   ]
  },
  {
   "cell_type": "code",
   "execution_count": 79,
   "id": "d644a5bf",
   "metadata": {},
   "outputs": [],
   "source": [
    "data = randn(7,4)"
   ]
  },
  {
   "cell_type": "code",
   "execution_count": 80,
   "id": "ec2231a2",
   "metadata": {},
   "outputs": [
    {
     "data": {
      "text/plain": [
       "array(['Bob', 'Joe', 'Will', 'Bob', 'Will', 'Joe', 'Joe'], dtype='<U4')"
      ]
     },
     "execution_count": 80,
     "metadata": {},
     "output_type": "execute_result"
    }
   ],
   "source": [
    "names"
   ]
  },
  {
   "cell_type": "code",
   "execution_count": 81,
   "id": "d4c88448",
   "metadata": {},
   "outputs": [
    {
     "data": {
      "text/plain": [
       "array([[ 1.34654141,  0.10625765, -1.15880268,  1.37746844],\n",
       "       [ 1.30549815, -0.91182733,  0.27353471,  0.24152009],\n",
       "       [-0.49552695, -2.46724457, -0.20720818, -0.52853485],\n",
       "       [ 0.36053072, -0.30635444,  0.05333175,  0.09638441],\n",
       "       [-0.0756309 ,  0.20669966, -0.73799447, -0.85661465],\n",
       "       [ 0.10416359,  0.99619439,  0.69216228,  0.89858256],\n",
       "       [-1.10013127, -0.57293934,  0.37459525,  0.64340608]])"
      ]
     },
     "execution_count": 81,
     "metadata": {},
     "output_type": "execute_result"
    }
   ],
   "source": [
    "data"
   ]
  },
  {
   "cell_type": "code",
   "execution_count": 82,
   "id": "a28f73e0",
   "metadata": {},
   "outputs": [],
   "source": [
    "# 3x3 matrix\n",
    "# arr[:2,1:]  (2,2)\n",
    "# arr[2]      (3,)\n",
    "# arr[2,:]    (1,3)\n",
    "# arr[:,:2]    (3,2)\n",
    "# arr[1,:2]    (2,)\n",
    "# arr[1:2, :2]  (1,2)"
   ]
  },
  {
   "cell_type": "code",
   "execution_count": 83,
   "id": "5848f58c",
   "metadata": {},
   "outputs": [],
   "source": [
    "# suppose each name corresponds to a row in the data array , if we wanted to select all the rows with corresponding name 'bob' such as ==asign with arrays are also vectorized \n",
    "# thus comparing names with the string 'bob' yields a boolean array"
   ]
  },
  {
   "cell_type": "code",
   "execution_count": 84,
   "id": "938b4d77",
   "metadata": {},
   "outputs": [
    {
     "data": {
      "text/plain": [
       "array([ True, False, False,  True, False, False, False])"
      ]
     },
     "execution_count": 84,
     "metadata": {},
     "output_type": "execute_result"
    }
   ],
   "source": [
    "names == 'Bob'\n"
   ]
  },
  {
   "cell_type": "code",
   "execution_count": 85,
   "id": "e85e9043",
   "metadata": {},
   "outputs": [
    {
     "data": {
      "text/plain": [
       "array([[ 1.34654141,  0.10625765, -1.15880268,  1.37746844],\n",
       "       [ 0.36053072, -0.30635444,  0.05333175,  0.09638441]])"
      ]
     },
     "execution_count": 85,
     "metadata": {},
     "output_type": "execute_result"
    }
   ],
   "source": [
    "# this boolean array can passed when indexing the array \n",
    "data[names == 'Bob']"
   ]
  },
  {
   "cell_type": "code",
   "execution_count": 86,
   "id": "d6f0a11b",
   "metadata": {},
   "outputs": [],
   "source": [
    "# the boolean array must be the same length as the axis its indexing here 7 indexing and 7 rowsd\n",
    "# you can mix and match boolean arrays with slicers or integers"
   ]
  },
  {
   "cell_type": "code",
   "execution_count": 87,
   "id": "495180c2",
   "metadata": {},
   "outputs": [
    {
     "data": {
      "text/plain": [
       "array([[-1.15880268,  1.37746844],\n",
       "       [ 0.05333175,  0.09638441]])"
      ]
     },
     "execution_count": 87,
     "metadata": {},
     "output_type": "execute_result"
    }
   ],
   "source": [
    "data[names == 'Bob', 2:]"
   ]
  },
  {
   "cell_type": "code",
   "execution_count": 88,
   "id": "5e540c51",
   "metadata": {},
   "outputs": [
    {
     "data": {
      "text/plain": [
       "array([1.37746844, 0.09638441])"
      ]
     },
     "execution_count": 88,
     "metadata": {},
     "output_type": "execute_result"
    }
   ],
   "source": [
    "data[names == 'Bob', 3]"
   ]
  },
  {
   "cell_type": "code",
   "execution_count": 89,
   "id": "4560de0a",
   "metadata": {},
   "outputs": [
    {
     "data": {
      "text/plain": [
       "array([False,  True,  True, False,  True,  True,  True])"
      ]
     },
     "execution_count": 89,
     "metadata": {},
     "output_type": "execute_result"
    }
   ],
   "source": [
    "# to select everything but 'Bob', you can either use != or negate the condition using\n",
    "names != 'Bob'\n"
   ]
  },
  {
   "cell_type": "code",
   "execution_count": 90,
   "id": "313e5f79",
   "metadata": {},
   "outputs": [
    {
     "data": {
      "text/plain": [
       "array([[ 1.30549815, -0.91182733,  0.27353471,  0.24152009],\n",
       "       [-0.49552695, -2.46724457, -0.20720818, -0.52853485],\n",
       "       [-0.0756309 ,  0.20669966, -0.73799447, -0.85661465],\n",
       "       [ 0.10416359,  0.99619439,  0.69216228,  0.89858256],\n",
       "       [-1.10013127, -0.57293934,  0.37459525,  0.64340608]])"
      ]
     },
     "execution_count": 90,
     "metadata": {},
     "output_type": "execute_result"
    }
   ],
   "source": [
    "data[~(names == 'Bob')]"
   ]
  },
  {
   "cell_type": "code",
   "execution_count": 91,
   "id": "3c9ffd40",
   "metadata": {},
   "outputs": [],
   "source": [
    "# selecting two of the three names to combine multiple boolean conditions, use boolean arithmetic operators like &(and) and | (or)"
   ]
  },
  {
   "cell_type": "code",
   "execution_count": 92,
   "id": "dcb9cae5",
   "metadata": {},
   "outputs": [],
   "source": [
    "mask = (names == 'Bob') | (names =='Will')"
   ]
  },
  {
   "cell_type": "code",
   "execution_count": 93,
   "id": "d278a70e",
   "metadata": {},
   "outputs": [
    {
     "data": {
      "text/plain": [
       "array([ True, False,  True,  True,  True, False, False])"
      ]
     },
     "execution_count": 93,
     "metadata": {},
     "output_type": "execute_result"
    }
   ],
   "source": [
    "mask"
   ]
  },
  {
   "cell_type": "code",
   "execution_count": 94,
   "id": "00a86d1c",
   "metadata": {},
   "outputs": [
    {
     "data": {
      "text/plain": [
       "array([[ 1.34654141,  0.10625765, -1.15880268,  1.37746844],\n",
       "       [-0.49552695, -2.46724457, -0.20720818, -0.52853485],\n",
       "       [ 0.36053072, -0.30635444,  0.05333175,  0.09638441],\n",
       "       [-0.0756309 ,  0.20669966, -0.73799447, -0.85661465]])"
      ]
     },
     "execution_count": 94,
     "metadata": {},
     "output_type": "execute_result"
    }
   ],
   "source": [
    "data[mask]"
   ]
  },
  {
   "cell_type": "code",
   "execution_count": 95,
   "id": "713dacb6",
   "metadata": {},
   "outputs": [
    {
     "data": {
      "text/plain": [
       "array([[ 1.34654141,  0.10625765, -1.15880268,  1.37746844],\n",
       "       [ 1.30549815, -0.91182733,  0.27353471,  0.24152009],\n",
       "       [-0.49552695, -2.46724457, -0.20720818, -0.52853485],\n",
       "       [ 0.36053072, -0.30635444,  0.05333175,  0.09638441],\n",
       "       [-0.0756309 ,  0.20669966, -0.73799447, -0.85661465],\n",
       "       [ 0.10416359,  0.99619439,  0.69216228,  0.89858256],\n",
       "       [-1.10013127, -0.57293934,  0.37459525,  0.64340608]])"
      ]
     },
     "execution_count": 95,
     "metadata": {},
     "output_type": "execute_result"
    }
   ],
   "source": [
    "# selecting data from an array by boolean indexing always creates a copy of the data, even if the returned arrays is unchanged\n",
    "data"
   ]
  },
  {
   "cell_type": "code",
   "execution_count": 96,
   "id": "d5335704",
   "metadata": {},
   "outputs": [],
   "source": [
    "# to set all of the negative values in data to 0 we need only\n",
    "data[data< 0]= 0"
   ]
  },
  {
   "cell_type": "code",
   "execution_count": 97,
   "id": "e68efe36",
   "metadata": {},
   "outputs": [
    {
     "data": {
      "text/plain": [
       "array([[1.34654141, 0.10625765, 0.        , 1.37746844],\n",
       "       [1.30549815, 0.        , 0.27353471, 0.24152009],\n",
       "       [0.        , 0.        , 0.        , 0.        ],\n",
       "       [0.36053072, 0.        , 0.05333175, 0.09638441],\n",
       "       [0.        , 0.20669966, 0.        , 0.        ],\n",
       "       [0.10416359, 0.99619439, 0.69216228, 0.89858256],\n",
       "       [0.        , 0.        , 0.37459525, 0.64340608]])"
      ]
     },
     "execution_count": 97,
     "metadata": {},
     "output_type": "execute_result"
    }
   ],
   "source": [
    "data"
   ]
  },
  {
   "cell_type": "code",
   "execution_count": 98,
   "id": "477e2289",
   "metadata": {},
   "outputs": [],
   "source": [
    "data[data>0]= 0"
   ]
  },
  {
   "cell_type": "code",
   "execution_count": 99,
   "id": "f9838559",
   "metadata": {},
   "outputs": [
    {
     "data": {
      "text/plain": [
       "array([[0., 0., 0., 0.],\n",
       "       [0., 0., 0., 0.],\n",
       "       [0., 0., 0., 0.],\n",
       "       [0., 0., 0., 0.],\n",
       "       [0., 0., 0., 0.],\n",
       "       [0., 0., 0., 0.],\n",
       "       [0., 0., 0., 0.]])"
      ]
     },
     "execution_count": 99,
     "metadata": {},
     "output_type": "execute_result"
    }
   ],
   "source": [
    "data"
   ]
  },
  {
   "cell_type": "code",
   "execution_count": 100,
   "id": "e710537d",
   "metadata": {},
   "outputs": [],
   "source": [
    "# setting whole rows or columns using a 1d boolean array "
   ]
  },
  {
   "cell_type": "code",
   "execution_count": 101,
   "id": "ecf2193a",
   "metadata": {},
   "outputs": [],
   "source": [
    "data[names != 'Joe'] = 7"
   ]
  },
  {
   "cell_type": "code",
   "execution_count": 102,
   "id": "9b9fccbe",
   "metadata": {},
   "outputs": [
    {
     "data": {
      "text/plain": [
       "array([[7., 7., 7., 7.],\n",
       "       [0., 0., 0., 0.],\n",
       "       [7., 7., 7., 7.],\n",
       "       [7., 7., 7., 7.],\n",
       "       [7., 7., 7., 7.],\n",
       "       [0., 0., 0., 0.],\n",
       "       [0., 0., 0., 0.]])"
      ]
     },
     "execution_count": 102,
     "metadata": {},
     "output_type": "execute_result"
    }
   ],
   "source": [
    "data"
   ]
  },
  {
   "cell_type": "code",
   "execution_count": 103,
   "id": "f91bea40",
   "metadata": {},
   "outputs": [],
   "source": [
    "# fancy indexing\n",
    "# indexing using integer arrays\n"
   ]
  },
  {
   "cell_type": "code",
   "execution_count": 104,
   "id": "577315dd",
   "metadata": {},
   "outputs": [],
   "source": [
    "arr = np.empty((8,4))"
   ]
  },
  {
   "cell_type": "code",
   "execution_count": 105,
   "id": "41ccbd96",
   "metadata": {},
   "outputs": [
    {
     "data": {
      "text/plain": [
       "array([[1.00413539e-311, 1.03259720e-321, 0.00000000e+000,\n",
       "        0.00000000e+000],\n",
       "       [2.33419537e-312, 5.02034658e+175, 2.10621009e-076,\n",
       "        1.79493860e-052],\n",
       "       [2.27285048e+184, 8.98498477e-067, 3.92349220e-033,\n",
       "        2.16385130e+190],\n",
       "       [1.94918964e-153, 5.30581644e+180, 4.32453723e-096,\n",
       "        2.14027814e+161],\n",
       "       [1.47762371e+248, 4.30625279e-096, 4.82337723e+228,\n",
       "        4.55883645e-037],\n",
       "       [9.72163473e-072, 1.78636863e-051, 7.40813538e-038,\n",
       "        4.26399447e-096],\n",
       "       [1.16097020e-028, 1.26071127e-076, 2.54818287e-028,\n",
       "        3.69286170e-057],\n",
       "       [1.04917184e-153, 9.08366791e+223, 6.14415221e-144,\n",
       "        2.41907536e-312]])"
      ]
     },
     "execution_count": 105,
     "metadata": {},
     "output_type": "execute_result"
    }
   ],
   "source": [
    "arr"
   ]
  },
  {
   "cell_type": "code",
   "execution_count": 106,
   "id": "7dca018e",
   "metadata": {},
   "outputs": [],
   "source": [
    "for i in range(8):\n",
    "    arr[i] = i"
   ]
  },
  {
   "cell_type": "code",
   "execution_count": 107,
   "id": "c8f6c6dc",
   "metadata": {},
   "outputs": [
    {
     "data": {
      "text/plain": [
       "array([[0., 0., 0., 0.],\n",
       "       [1., 1., 1., 1.],\n",
       "       [2., 2., 2., 2.],\n",
       "       [3., 3., 3., 3.],\n",
       "       [4., 4., 4., 4.],\n",
       "       [5., 5., 5., 5.],\n",
       "       [6., 6., 6., 6.],\n",
       "       [7., 7., 7., 7.]])"
      ]
     },
     "execution_count": 107,
     "metadata": {},
     "output_type": "execute_result"
    }
   ],
   "source": [
    "arr"
   ]
  },
  {
   "cell_type": "code",
   "execution_count": 108,
   "id": "ff9164e2",
   "metadata": {},
   "outputs": [
    {
     "data": {
      "text/plain": [
       "array([[4., 4., 4., 4.],\n",
       "       [3., 3., 3., 3.],\n",
       "       [0., 0., 0., 0.],\n",
       "       [6., 6., 6., 6.]])"
      ]
     },
     "execution_count": 108,
     "metadata": {},
     "output_type": "execute_result"
    }
   ],
   "source": [
    "# to select out a subset of the rows in a particular order you can simply pass a list or ndarray of integers specifying the desired order\n",
    "arr[[4,3,0,6]]"
   ]
  },
  {
   "cell_type": "code",
   "execution_count": 109,
   "id": "ab1c616a",
   "metadata": {},
   "outputs": [
    {
     "data": {
      "text/plain": [
       "array([[5., 5., 5., 5.],\n",
       "       [3., 3., 3., 3.],\n",
       "       [1., 1., 1., 1.]])"
      ]
     },
     "execution_count": 109,
     "metadata": {},
     "output_type": "execute_result"
    }
   ],
   "source": [
    "# Using negative indices select rows from the end \n",
    "arr[[-3,-5,-7]]"
   ]
  },
  {
   "cell_type": "code",
   "execution_count": 110,
   "id": "5065dcb1",
   "metadata": {},
   "outputs": [],
   "source": [
    "# passing multiple index arrays does something slightly different it selects a 1d array of element corresponding to each tuple of indices \n",
    "arr = np.arange(32).reshape((8,4))"
   ]
  },
  {
   "cell_type": "code",
   "execution_count": 111,
   "id": "bae4182b",
   "metadata": {},
   "outputs": [
    {
     "data": {
      "text/plain": [
       "array([[ 0,  1,  2,  3],\n",
       "       [ 4,  5,  6,  7],\n",
       "       [ 8,  9, 10, 11],\n",
       "       [12, 13, 14, 15],\n",
       "       [16, 17, 18, 19],\n",
       "       [20, 21, 22, 23],\n",
       "       [24, 25, 26, 27],\n",
       "       [28, 29, 30, 31]])"
      ]
     },
     "execution_count": 111,
     "metadata": {},
     "output_type": "execute_result"
    }
   ],
   "source": [
    "arr"
   ]
  },
  {
   "cell_type": "code",
   "execution_count": 112,
   "id": "ab5a307d",
   "metadata": {},
   "outputs": [
    {
     "data": {
      "text/plain": [
       "array([ 4, 14, 19, 27])"
      ]
     },
     "execution_count": 112,
     "metadata": {},
     "output_type": "execute_result"
    }
   ],
   "source": [
    "# location of element [columns],[rows] index (1,0),(3,2), ....\n",
    "arr[[1,3,4,6],[0,2,3,3]]"
   ]
  },
  {
   "cell_type": "code",
   "execution_count": 113,
   "id": "c3db4165",
   "metadata": {},
   "outputs": [],
   "source": [
    "# the rectangular region formed by selecting a subset of the matrix rows and columns "
   ]
  },
  {
   "cell_type": "code",
   "execution_count": 114,
   "id": "cc00ab26",
   "metadata": {},
   "outputs": [
    {
     "data": {
      "text/plain": [
       "array([[ 4,  5,  6,  7],\n",
       "       [ 8,  9, 10, 11],\n",
       "       [20, 21, 22, 23],\n",
       "       [28, 29, 30, 31]])"
      ]
     },
     "execution_count": 114,
     "metadata": {},
     "output_type": "execute_result"
    }
   ],
   "source": [
    "arr[[1,5,7,2]][[0,3,1,2]]"
   ]
  },
  {
   "cell_type": "markdown",
   "id": "6752d38d",
   "metadata": {},
   "source": [
    "<!-- or -->\n"
   ]
  },
  {
   "cell_type": "code",
   "execution_count": 115,
   "id": "08f6d3bc",
   "metadata": {},
   "outputs": [
    {
     "data": {
      "text/plain": [
       "array([[ 4,  7,  5,  6],\n",
       "       [20, 23, 21, 22],\n",
       "       [28, 31, 29, 30],\n",
       "       [ 8, 11,  9, 10]])"
      ]
     },
     "execution_count": 115,
     "metadata": {},
     "output_type": "execute_result"
    }
   ],
   "source": [
    "# or\n",
    "arr[np.ix_([1,5,7,2],[0,3,1,2])]"
   ]
  },
  {
   "cell_type": "code",
   "execution_count": 116,
   "id": "78fdd835",
   "metadata": {},
   "outputs": [],
   "source": [
    "# in fancy indexing unlike slicing always copies the data into a new array"
   ]
  },
  {
   "cell_type": "code",
   "execution_count": 117,
   "id": "eec2158f",
   "metadata": {},
   "outputs": [],
   "source": [
    "# transporting Arrays and swapping axes"
   ]
  },
  {
   "cell_type": "code",
   "execution_count": 118,
   "id": "57453f30",
   "metadata": {},
   "outputs": [],
   "source": [
    "# tranposing is a special form of reshaping which similarly returns a view on the underlying data without copying anything \n",
    "# arrays have the transpose method and also the special T atribute\n"
   ]
  },
  {
   "cell_type": "code",
   "execution_count": 119,
   "id": "0319f286",
   "metadata": {},
   "outputs": [],
   "source": [
    "arr = np.arange(15).reshape((3,5))"
   ]
  },
  {
   "cell_type": "code",
   "execution_count": 120,
   "id": "c9ce8a4c",
   "metadata": {},
   "outputs": [
    {
     "data": {
      "text/plain": [
       "array([[ 0,  1,  2,  3,  4],\n",
       "       [ 5,  6,  7,  8,  9],\n",
       "       [10, 11, 12, 13, 14]])"
      ]
     },
     "execution_count": 120,
     "metadata": {},
     "output_type": "execute_result"
    }
   ],
   "source": [
    "arr     "
   ]
  },
  {
   "cell_type": "code",
   "execution_count": 121,
   "id": "75970aeb",
   "metadata": {},
   "outputs": [
    {
     "data": {
      "text/plain": [
       "array([[ 0,  5, 10],\n",
       "       [ 1,  6, 11],\n",
       "       [ 2,  7, 12],\n",
       "       [ 3,  8, 13],\n",
       "       [ 4,  9, 14]])"
      ]
     },
     "execution_count": 121,
     "metadata": {},
     "output_type": "execute_result"
    }
   ],
   "source": [
    "arr.T"
   ]
  },
  {
   "cell_type": "code",
   "execution_count": 122,
   "id": "68fdcb59",
   "metadata": {},
   "outputs": [],
   "source": [
    "# inner matrix products xtx using np.dot"
   ]
  },
  {
   "cell_type": "code",
   "execution_count": 123,
   "id": "1d1efa35",
   "metadata": {
    "scrolled": true
   },
   "outputs": [],
   "source": [
    "arr = np.random.randn(6,3)"
   ]
  },
  {
   "cell_type": "code",
   "execution_count": 124,
   "id": "4a80e766",
   "metadata": {},
   "outputs": [
    {
     "data": {
      "text/plain": [
       "array([[ 0.93435686, -0.99706656, -1.23871079],\n",
       "       [-0.97839472,  0.67531932,  0.21637967],\n",
       "       [ 0.89992297, -1.57887584, -0.1793979 ],\n",
       "       [ 0.21673803,  0.37076489,  1.50157113],\n",
       "       [-0.53168349, -1.40855582, -0.30396791],\n",
       "       [ 0.51830423,  0.51979397, -0.31217571]])"
      ]
     },
     "execution_count": 124,
     "metadata": {},
     "output_type": "execute_result"
    }
   ],
   "source": [
    "arr"
   ]
  },
  {
   "cell_type": "code",
   "execution_count": 125,
   "id": "57606351",
   "metadata": {},
   "outputs": [
    {
     "data": {
      "text/plain": [
       "array([[ 3.23844228, -1.91453533, -1.20528664],\n",
       "       [-1.91453533,  6.33472869,  2.48706806],\n",
       "       [-1.20528664,  2.48706806,  4.05797422]])"
      ]
     },
     "execution_count": 125,
     "metadata": {},
     "output_type": "execute_result"
    }
   ],
   "source": [
    "np.dot(arr.T, arr)"
   ]
  },
  {
   "cell_type": "code",
   "execution_count": 126,
   "id": "63f779fc",
   "metadata": {},
   "outputs": [],
   "source": [
    "# transpose will accept a tuple of axis numbers to permute the axes "
   ]
  },
  {
   "cell_type": "code",
   "execution_count": 127,
   "id": "b84e9e29",
   "metadata": {},
   "outputs": [],
   "source": [
    "arr = np.arange(16).reshape((2,2,4))"
   ]
  },
  {
   "cell_type": "code",
   "execution_count": 128,
   "id": "1f57b24f",
   "metadata": {},
   "outputs": [
    {
     "data": {
      "text/plain": [
       "array([[[ 0,  1,  2,  3],\n",
       "        [ 4,  5,  6,  7]],\n",
       "\n",
       "       [[ 8,  9, 10, 11],\n",
       "        [12, 13, 14, 15]]])"
      ]
     },
     "execution_count": 128,
     "metadata": {},
     "output_type": "execute_result"
    }
   ],
   "source": [
    "arr"
   ]
  },
  {
   "cell_type": "code",
   "execution_count": 129,
   "id": "229f6eaf",
   "metadata": {},
   "outputs": [
    {
     "data": {
      "text/plain": [
       "array([[[ 0,  1,  2,  3],\n",
       "        [ 8,  9, 10, 11]],\n",
       "\n",
       "       [[ 4,  5,  6,  7],\n",
       "        [12, 13, 14, 15]]])"
      ]
     },
     "execution_count": 129,
     "metadata": {},
     "output_type": "execute_result"
    }
   ],
   "source": [
    "arr.transpose((1,0,2))"
   ]
  },
  {
   "cell_type": "code",
   "execution_count": 130,
   "id": "16d1e093",
   "metadata": {},
   "outputs": [
    {
     "data": {
      "text/plain": [
       "array([[[ 0,  1,  2,  3],\n",
       "        [ 4,  5,  6,  7]],\n",
       "\n",
       "       [[ 8,  9, 10, 11],\n",
       "        [12, 13, 14, 15]]])"
      ]
     },
     "execution_count": 130,
     "metadata": {},
     "output_type": "execute_result"
    }
   ],
   "source": [
    "arr"
   ]
  },
  {
   "cell_type": "code",
   "execution_count": 131,
   "id": "815ed7fe",
   "metadata": {},
   "outputs": [
    {
     "data": {
      "text/plain": [
       "array([[[ 0,  4],\n",
       "        [ 1,  5],\n",
       "        [ 2,  6],\n",
       "        [ 3,  7]],\n",
       "\n",
       "       [[ 8, 12],\n",
       "        [ 9, 13],\n",
       "        [10, 14],\n",
       "        [11, 15]]])"
      ]
     },
     "execution_count": 131,
     "metadata": {},
     "output_type": "execute_result"
    }
   ],
   "source": [
    "# .T is just a special case of swaping axes ndarray has the method swapaxes which takes a pair of axis numbers\n",
    "# swapaxes similarly return a view on the data without making a copy\n",
    "arr.swapaxes(1,2)"
   ]
  },
  {
   "cell_type": "code",
   "execution_count": 132,
   "id": "57608dea",
   "metadata": {},
   "outputs": [],
   "source": [
    "# universal functions : Fast element-wise Array functions\n",
    "# ufunc is  a function that performs elementwise operations on data in ndarrays"
   ]
  },
  {
   "cell_type": "code",
   "execution_count": 133,
   "id": "912af529",
   "metadata": {},
   "outputs": [],
   "source": [
    "arr = np.arange(10)"
   ]
  },
  {
   "cell_type": "code",
   "execution_count": 134,
   "id": "cf624b78",
   "metadata": {},
   "outputs": [
    {
     "data": {
      "text/plain": [
       "array([0, 1, 2, 3, 4, 5, 6, 7, 8, 9])"
      ]
     },
     "execution_count": 134,
     "metadata": {},
     "output_type": "execute_result"
    }
   ],
   "source": [
    "arr"
   ]
  },
  {
   "cell_type": "code",
   "execution_count": 135,
   "id": "885dbdfd",
   "metadata": {},
   "outputs": [
    {
     "data": {
      "text/plain": [
       "array([0.        , 1.        , 1.41421356, 1.73205081, 2.        ,\n",
       "       2.23606798, 2.44948974, 2.64575131, 2.82842712, 3.        ])"
      ]
     },
     "execution_count": 135,
     "metadata": {},
     "output_type": "execute_result"
    }
   ],
   "source": [
    "np.sqrt(arr)"
   ]
  },
  {
   "cell_type": "code",
   "execution_count": 136,
   "id": "939ed6ff",
   "metadata": {},
   "outputs": [
    {
     "data": {
      "text/plain": [
       "array([1.00000000e+00, 2.71828183e+00, 7.38905610e+00, 2.00855369e+01,\n",
       "       5.45981500e+01, 1.48413159e+02, 4.03428793e+02, 1.09663316e+03,\n",
       "       2.98095799e+03, 8.10308393e+03])"
      ]
     },
     "execution_count": 136,
     "metadata": {},
     "output_type": "execute_result"
    }
   ],
   "source": [
    "np.exp(arr)"
   ]
  },
  {
   "cell_type": "code",
   "execution_count": 137,
   "id": "2f34001f",
   "metadata": {},
   "outputs": [],
   "source": [
    "# unary ufunction such as add maximum take 2 arrays and return a single array as the result\n",
    "x=randn(8)"
   ]
  },
  {
   "cell_type": "code",
   "execution_count": 138,
   "id": "b9252ed8",
   "metadata": {},
   "outputs": [
    {
     "data": {
      "text/plain": [
       "array([-0.59844361, -0.48701756,  1.48601028, -0.8629624 , -0.35369033,\n",
       "        2.22029508,  0.72600179, -0.20260129])"
      ]
     },
     "execution_count": 138,
     "metadata": {},
     "output_type": "execute_result"
    }
   ],
   "source": [
    "x"
   ]
  },
  {
   "cell_type": "code",
   "execution_count": 139,
   "id": "3dda7b01",
   "metadata": {},
   "outputs": [],
   "source": [
    "y=randn(8)"
   ]
  },
  {
   "cell_type": "code",
   "execution_count": 140,
   "id": "5199a167",
   "metadata": {},
   "outputs": [
    {
     "data": {
      "text/plain": [
       "array([ 0.62005848,  0.07943536, -1.09385828, -0.81443393, -0.50572431,\n",
       "        1.17783367,  1.65083902,  1.69769289])"
      ]
     },
     "execution_count": 140,
     "metadata": {},
     "output_type": "execute_result"
    }
   ],
   "source": [
    "y"
   ]
  },
  {
   "cell_type": "code",
   "execution_count": 141,
   "id": "f1dd650c",
   "metadata": {},
   "outputs": [
    {
     "data": {
      "text/plain": [
       "array([ 0.62005848,  0.07943536,  1.48601028, -0.81443393, -0.35369033,\n",
       "        2.22029508,  1.65083902,  1.69769289])"
      ]
     },
     "execution_count": 141,
     "metadata": {},
     "output_type": "execute_result"
    }
   ],
   "source": [
    "np.maximum(x,y)"
   ]
  },
  {
   "cell_type": "code",
   "execution_count": 142,
   "id": "b4e181f8",
   "metadata": {},
   "outputs": [],
   "source": [
    "# while not common a ufunc can returnmultiple  arrays , avector version of the built in python divmod\n",
    "arr = randn(7)*5"
   ]
  },
  {
   "cell_type": "code",
   "execution_count": 143,
   "id": "e011f3c5",
   "metadata": {},
   "outputs": [
    {
     "data": {
      "text/plain": [
       "array([  8.08870268, -12.25944217,  -0.57314095,  -2.24393352,\n",
       "         0.98859989,  -3.29923503,   4.25354954])"
      ]
     },
     "execution_count": 143,
     "metadata": {},
     "output_type": "execute_result"
    }
   ],
   "source": [
    "arr"
   ]
  },
  {
   "cell_type": "code",
   "execution_count": 144,
   "id": "5c2ed9d9",
   "metadata": {},
   "outputs": [
    {
     "data": {
      "text/plain": [
       "(array([ 0.08870268, -0.25944217, -0.57314095, -0.24393352,  0.98859989,\n",
       "        -0.29923503,  0.25354954]),\n",
       " array([  8., -12.,  -0.,  -2.,   0.,  -3.,   4.]))"
      ]
     },
     "execution_count": 144,
     "metadata": {},
     "output_type": "execute_result"
    }
   ],
   "source": [
    "np.modf(arr)"
   ]
  },
  {
   "cell_type": "code",
   "execution_count": 145,
   "id": "f1d1db03",
   "metadata": {},
   "outputs": [
    {
     "ename": "SyntaxError",
     "evalue": "invalid syntax (2130815648.py, line 2)",
     "output_type": "error",
     "traceback": [
      "\u001b[1;36m  Input \u001b[1;32mIn [145]\u001b[1;36m\u001b[0m\n\u001b[1;33m    the practice of replacing explit loop with array ex\u001b[0m\n\u001b[1;37m        ^\u001b[0m\n\u001b[1;31mSyntaxError\u001b[0m\u001b[1;31m:\u001b[0m invalid syntax\n"
     ]
    }
   ],
   "source": [
    "# using numpy arrays enables you to express many kinds of data processing tasks as concise array expressions that might otherwise require writing loops\n",
    "the practice of replacing explit loop with array ex"
   ]
  }
 ],
 "metadata": {
  "kernelspec": {
   "display_name": "Python 3 (ipykernel)",
   "language": "python",
   "name": "python3"
  },
  "language_info": {
   "codemirror_mode": {
    "name": "ipython",
    "version": 3
   },
   "file_extension": ".py",
   "mimetype": "text/x-python",
   "name": "python",
   "nbconvert_exporter": "python",
   "pygments_lexer": "ipython3",
   "version": "3.9.12"
  }
 },
 "nbformat": 4,
 "nbformat_minor": 5
}
