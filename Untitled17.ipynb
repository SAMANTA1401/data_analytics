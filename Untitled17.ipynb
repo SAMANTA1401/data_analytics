{
 "cells": [
  {
   "cell_type": "code",
   "execution_count": 1,
   "id": "e1946862",
   "metadata": {},
   "outputs": [],
   "source": [
    "# data problem\n",
    "# inconsistent column names \n",
    "# Missing data\n",
    "# Outliers\n",
    "# Duplicate rows\n",
    "# Udity\n",
    "# Need to process columns\n",
    "# Column types can signal unexpected data values"
   ]
  },
  {
   "cell_type": "code",
   "execution_count": 2,
   "id": "e30644ba",
   "metadata": {},
   "outputs": [],
   "source": [
    "import pandas as pd\n",
    "df = pd.read_csv(r\"C:\\Users\\lenovo\\Downloads\\birth.csv\")\n",
    "# df = pd.read_csv(\"C:/Users/lenovo/Downloads/birth.csv\")"
   ]
  },
  {
   "cell_type": "code",
   "execution_count": 3,
   "id": "a0d94bbe",
   "metadata": {},
   "outputs": [
    {
     "data": {
      "text/html": [
       "<div>\n",
       "<style scoped>\n",
       "    .dataframe tbody tr th:only-of-type {\n",
       "        vertical-align: middle;\n",
       "    }\n",
       "\n",
       "    .dataframe tbody tr th {\n",
       "        vertical-align: top;\n",
       "    }\n",
       "\n",
       "    .dataframe thead th {\n",
       "        text-align: right;\n",
       "    }\n",
       "</style>\n",
       "<table border=\"1\" class=\"dataframe\">\n",
       "  <thead>\n",
       "    <tr style=\"text-align: right;\">\n",
       "      <th></th>\n",
       "      <th>Continent</th>\n",
       "      <th>Country</th>\n",
       "      <th>female literacy</th>\n",
       "      <th>fertility</th>\n",
       "      <th>population</th>\n",
       "    </tr>\n",
       "  </thead>\n",
       "  <tbody>\n",
       "    <tr>\n",
       "      <th>0</th>\n",
       "      <td>ASI</td>\n",
       "      <td>Chine</td>\n",
       "      <td>90.5</td>\n",
       "      <td>1.769</td>\n",
       "      <td>4.346760e+13</td>\n",
       "    </tr>\n",
       "    <tr>\n",
       "      <th>1</th>\n",
       "      <td>ASI</td>\n",
       "      <td>Inde</td>\n",
       "      <td>50.8</td>\n",
       "      <td>2.692</td>\n",
       "      <td>4.678880e+13</td>\n",
       "    </tr>\n",
       "    <tr>\n",
       "      <th>2</th>\n",
       "      <td>NAM</td>\n",
       "      <td>USA</td>\n",
       "      <td>99.0</td>\n",
       "      <td>2.077</td>\n",
       "      <td>6.476870e+14</td>\n",
       "    </tr>\n",
       "    <tr>\n",
       "      <th>3</th>\n",
       "      <td>ASI</td>\n",
       "      <td>Indonesie</td>\n",
       "      <td>88.8</td>\n",
       "      <td>2.132</td>\n",
       "      <td>9.674620e+15</td>\n",
       "    </tr>\n",
       "    <tr>\n",
       "      <th>4</th>\n",
       "      <td>Lat</td>\n",
       "      <td>Bresil</td>\n",
       "      <td>90.2</td>\n",
       "      <td>1.827</td>\n",
       "      <td>NaN</td>\n",
       "    </tr>\n",
       "  </tbody>\n",
       "</table>\n",
       "</div>"
      ],
      "text/plain": [
       "  Continent    Country  female literacy  fertility    population\n",
       "0       ASI      Chine             90.5      1.769  4.346760e+13\n",
       "1       ASI       Inde             50.8      2.692  4.678880e+13\n",
       "2       NAM        USA             99.0      2.077  6.476870e+14\n",
       "3       ASI  Indonesie             88.8      2.132  9.674620e+15\n",
       "4       Lat     Bresil             90.2      1.827           NaN"
      ]
     },
     "execution_count": 3,
     "metadata": {},
     "output_type": "execute_result"
    }
   ],
   "source": [
    "df"
   ]
  },
  {
   "cell_type": "code",
   "execution_count": 4,
   "id": "46b03d74",
   "metadata": {},
   "outputs": [],
   "source": [
    "# column name incondidtencies (small capital\n",
    "# missing data( NaN)"
   ]
  },
  {
   "cell_type": "code",
   "execution_count": 5,
   "id": "5079120d",
   "metadata": {},
   "outputs": [
    {
     "data": {
      "text/html": [
       "<div>\n",
       "<style scoped>\n",
       "    .dataframe tbody tr th:only-of-type {\n",
       "        vertical-align: middle;\n",
       "    }\n",
       "\n",
       "    .dataframe tbody tr th {\n",
       "        vertical-align: top;\n",
       "    }\n",
       "\n",
       "    .dataframe thead th {\n",
       "        text-align: right;\n",
       "    }\n",
       "</style>\n",
       "<table border=\"1\" class=\"dataframe\">\n",
       "  <thead>\n",
       "    <tr style=\"text-align: right;\">\n",
       "      <th></th>\n",
       "      <th>Continent</th>\n",
       "      <th>Country</th>\n",
       "      <th>female literacy</th>\n",
       "      <th>fertility</th>\n",
       "      <th>population</th>\n",
       "    </tr>\n",
       "  </thead>\n",
       "  <tbody>\n",
       "    <tr>\n",
       "      <th>0</th>\n",
       "      <td>ASI</td>\n",
       "      <td>Chine</td>\n",
       "      <td>90.5</td>\n",
       "      <td>1.769</td>\n",
       "      <td>4.346760e+13</td>\n",
       "    </tr>\n",
       "    <tr>\n",
       "      <th>1</th>\n",
       "      <td>ASI</td>\n",
       "      <td>Inde</td>\n",
       "      <td>50.8</td>\n",
       "      <td>2.692</td>\n",
       "      <td>4.678880e+13</td>\n",
       "    </tr>\n",
       "    <tr>\n",
       "      <th>2</th>\n",
       "      <td>NAM</td>\n",
       "      <td>USA</td>\n",
       "      <td>99.0</td>\n",
       "      <td>2.077</td>\n",
       "      <td>6.476870e+14</td>\n",
       "    </tr>\n",
       "    <tr>\n",
       "      <th>3</th>\n",
       "      <td>ASI</td>\n",
       "      <td>Indonesie</td>\n",
       "      <td>88.8</td>\n",
       "      <td>2.132</td>\n",
       "      <td>9.674620e+15</td>\n",
       "    </tr>\n",
       "    <tr>\n",
       "      <th>4</th>\n",
       "      <td>Lat</td>\n",
       "      <td>Bresil</td>\n",
       "      <td>90.2</td>\n",
       "      <td>1.827</td>\n",
       "      <td>NaN</td>\n",
       "    </tr>\n",
       "  </tbody>\n",
       "</table>\n",
       "</div>"
      ],
      "text/plain": [
       "  Continent    Country  female literacy  fertility    population\n",
       "0       ASI      Chine             90.5      1.769  4.346760e+13\n",
       "1       ASI       Inde             50.8      2.692  4.678880e+13\n",
       "2       NAM        USA             99.0      2.077  6.476870e+14\n",
       "3       ASI  Indonesie             88.8      2.132  9.674620e+15\n",
       "4       Lat     Bresil             90.2      1.827           NaN"
      ]
     },
     "execution_count": 5,
     "metadata": {},
     "output_type": "execute_result"
    }
   ],
   "source": [
    "df.head()"
   ]
  },
  {
   "cell_type": "code",
   "execution_count": 6,
   "id": "c2f133d6",
   "metadata": {},
   "outputs": [
    {
     "data": {
      "text/html": [
       "<div>\n",
       "<style scoped>\n",
       "    .dataframe tbody tr th:only-of-type {\n",
       "        vertical-align: middle;\n",
       "    }\n",
       "\n",
       "    .dataframe tbody tr th {\n",
       "        vertical-align: top;\n",
       "    }\n",
       "\n",
       "    .dataframe thead th {\n",
       "        text-align: right;\n",
       "    }\n",
       "</style>\n",
       "<table border=\"1\" class=\"dataframe\">\n",
       "  <thead>\n",
       "    <tr style=\"text-align: right;\">\n",
       "      <th></th>\n",
       "      <th>Continent</th>\n",
       "      <th>Country</th>\n",
       "      <th>female literacy</th>\n",
       "      <th>fertility</th>\n",
       "      <th>population</th>\n",
       "    </tr>\n",
       "  </thead>\n",
       "  <tbody>\n",
       "    <tr>\n",
       "      <th>0</th>\n",
       "      <td>ASI</td>\n",
       "      <td>Chine</td>\n",
       "      <td>90.5</td>\n",
       "      <td>1.769</td>\n",
       "      <td>4.346760e+13</td>\n",
       "    </tr>\n",
       "    <tr>\n",
       "      <th>1</th>\n",
       "      <td>ASI</td>\n",
       "      <td>Inde</td>\n",
       "      <td>50.8</td>\n",
       "      <td>2.692</td>\n",
       "      <td>4.678880e+13</td>\n",
       "    </tr>\n",
       "    <tr>\n",
       "      <th>2</th>\n",
       "      <td>NAM</td>\n",
       "      <td>USA</td>\n",
       "      <td>99.0</td>\n",
       "      <td>2.077</td>\n",
       "      <td>6.476870e+14</td>\n",
       "    </tr>\n",
       "    <tr>\n",
       "      <th>3</th>\n",
       "      <td>ASI</td>\n",
       "      <td>Indonesie</td>\n",
       "      <td>88.8</td>\n",
       "      <td>2.132</td>\n",
       "      <td>9.674620e+15</td>\n",
       "    </tr>\n",
       "    <tr>\n",
       "      <th>4</th>\n",
       "      <td>Lat</td>\n",
       "      <td>Bresil</td>\n",
       "      <td>90.2</td>\n",
       "      <td>1.827</td>\n",
       "      <td>NaN</td>\n",
       "    </tr>\n",
       "  </tbody>\n",
       "</table>\n",
       "</div>"
      ],
      "text/plain": [
       "  Continent    Country  female literacy  fertility    population\n",
       "0       ASI      Chine             90.5      1.769  4.346760e+13\n",
       "1       ASI       Inde             50.8      2.692  4.678880e+13\n",
       "2       NAM        USA             99.0      2.077  6.476870e+14\n",
       "3       ASI  Indonesie             88.8      2.132  9.674620e+15\n",
       "4       Lat     Bresil             90.2      1.827           NaN"
      ]
     },
     "execution_count": 6,
     "metadata": {},
     "output_type": "execute_result"
    }
   ],
   "source": [
    "df.tail()"
   ]
  },
  {
   "cell_type": "code",
   "execution_count": 7,
   "id": "685ff9ee",
   "metadata": {},
   "outputs": [
    {
     "data": {
      "text/plain": [
       "Index(['Continent', 'Country', 'female literacy', 'fertility', 'population'], dtype='object')"
      ]
     },
     "execution_count": 7,
     "metadata": {},
     "output_type": "execute_result"
    }
   ],
   "source": [
    "df.columns"
   ]
  },
  {
   "cell_type": "code",
   "execution_count": 8,
   "id": "32f7c690",
   "metadata": {},
   "outputs": [
    {
     "data": {
      "text/plain": [
       "(5, 5)"
      ]
     },
     "execution_count": 8,
     "metadata": {},
     "output_type": "execute_result"
    }
   ],
   "source": [
    "df.shape"
   ]
  },
  {
   "cell_type": "code",
   "execution_count": 9,
   "id": "595b013e",
   "metadata": {},
   "outputs": [
    {
     "data": {
      "text/plain": [
       "<bound method DataFrame.info of   Continent    Country  female literacy  fertility    population\n",
       "0       ASI      Chine             90.5      1.769  4.346760e+13\n",
       "1       ASI       Inde             50.8      2.692  4.678880e+13\n",
       "2       NAM        USA             99.0      2.077  6.476870e+14\n",
       "3       ASI  Indonesie             88.8      2.132  9.674620e+15\n",
       "4       Lat     Bresil             90.2      1.827           NaN>"
      ]
     },
     "execution_count": 9,
     "metadata": {},
     "output_type": "execute_result"
    }
   ],
   "source": [
    "df.info"
   ]
  },
  {
   "cell_type": "code",
   "execution_count": 10,
   "id": "48145d21",
   "metadata": {},
   "outputs": [
    {
     "name": "stdout",
     "output_type": "stream",
     "text": [
      "<class 'pandas.core.frame.DataFrame'>\n",
      "RangeIndex: 5 entries, 0 to 4\n",
      "Data columns (total 5 columns):\n",
      " #   Column           Non-Null Count  Dtype  \n",
      "---  ------           --------------  -----  \n",
      " 0   Continent        5 non-null      object \n",
      " 1   Country          5 non-null      object \n",
      " 2   female literacy  5 non-null      float64\n",
      " 3   fertility        5 non-null      float64\n",
      " 4   population       4 non-null      float64\n",
      "dtypes: float64(3), object(2)\n",
      "memory usage: 328.0+ bytes\n"
     ]
    }
   ],
   "source": [
    "# Count the number of unique values in our data\n",
    "df.info()"
   ]
  },
  {
   "cell_type": "code",
   "execution_count": 11,
   "id": "1354a0df",
   "metadata": {},
   "outputs": [
    {
     "data": {
      "text/plain": [
       "ASI    3\n",
       "NAM    1\n",
       "Lat    1\n",
       "Name: Continent, dtype: int64"
      ]
     },
     "execution_count": 11,
     "metadata": {},
     "output_type": "execute_result"
    }
   ],
   "source": [
    "# frequency count : continent\n",
    "df.Continent.value_counts(dropna=False)"
   ]
  },
  {
   "cell_type": "code",
   "execution_count": 12,
   "id": "14172618",
   "metadata": {},
   "outputs": [
    {
     "data": {
      "text/plain": [
       "ASI    3\n",
       "NAM    1\n",
       "Lat    1\n",
       "Name: Continent, dtype: int64"
      ]
     },
     "execution_count": 12,
     "metadata": {},
     "output_type": "execute_result"
    }
   ],
   "source": [
    "df.Continent.value_counts(dropna=True)"
   ]
  },
  {
   "cell_type": "code",
   "execution_count": 13,
   "id": "29070b0a",
   "metadata": {},
   "outputs": [
    {
     "data": {
      "text/plain": [
       "ASI    3\n",
       "NAM    1\n",
       "Lat    1\n",
       "Name: Continent, dtype: int64"
      ]
     },
     "execution_count": 13,
     "metadata": {},
     "output_type": "execute_result"
    }
   ],
   "source": [
    "# or\n",
    "df['Continent'].value_counts(dropna=False)"
   ]
  },
  {
   "cell_type": "code",
   "execution_count": 14,
   "id": "99935b4d",
   "metadata": {},
   "outputs": [
    {
     "data": {
      "text/plain": [
       "Chine        1\n",
       "Inde         1\n",
       "USA          1\n",
       "Indonesie    1\n",
       "Bresil       1\n",
       "Name: Country, dtype: int64"
      ]
     },
     "execution_count": 14,
     "metadata": {},
     "output_type": "execute_result"
    }
   ],
   "source": [
    "df.Country.value_counts(dropna=False).head()"
   ]
  },
  {
   "cell_type": "code",
   "execution_count": 15,
   "id": "eeab9243",
   "metadata": {},
   "outputs": [
    {
     "data": {
      "text/plain": [
       "1.769    1\n",
       "2.692    1\n",
       "2.077    1\n",
       "2.132    1\n",
       "1.827    1\n",
       "Name: fertility, dtype: int64"
      ]
     },
     "execution_count": 15,
     "metadata": {},
     "output_type": "execute_result"
    }
   ],
   "source": [
    "df.fertility.value_counts(dropna=False)"
   ]
  },
  {
   "cell_type": "code",
   "execution_count": 16,
   "id": "60534a27",
   "metadata": {},
   "outputs": [
    {
     "data": {
      "text/plain": [
       "4.346760e+13    1\n",
       "4.678880e+13    1\n",
       "6.476870e+14    1\n",
       "9.674620e+15    1\n",
       "NaN             1\n",
       "Name: population, dtype: int64"
      ]
     },
     "execution_count": 16,
     "metadata": {},
     "output_type": "execute_result"
    }
   ],
   "source": [
    "df.population.value_counts(dropna=False)"
   ]
  },
  {
   "cell_type": "code",
   "execution_count": 17,
   "id": "d9c13d18",
   "metadata": {},
   "outputs": [],
   "source": [
    "# summary statistics\n",
    "# Numeric columns \n",
    "# outliers\n",
    "#   considerably higher or lower\n",
    "#     require further investigation"
   ]
  },
  {
   "cell_type": "code",
   "execution_count": 18,
   "id": "3cce909a",
   "metadata": {},
   "outputs": [
    {
     "data": {
      "text/html": [
       "<div>\n",
       "<style scoped>\n",
       "    .dataframe tbody tr th:only-of-type {\n",
       "        vertical-align: middle;\n",
       "    }\n",
       "\n",
       "    .dataframe tbody tr th {\n",
       "        vertical-align: top;\n",
       "    }\n",
       "\n",
       "    .dataframe thead th {\n",
       "        text-align: right;\n",
       "    }\n",
       "</style>\n",
       "<table border=\"1\" class=\"dataframe\">\n",
       "  <thead>\n",
       "    <tr style=\"text-align: right;\">\n",
       "      <th></th>\n",
       "      <th>female literacy</th>\n",
       "      <th>fertility</th>\n",
       "      <th>population</th>\n",
       "    </tr>\n",
       "  </thead>\n",
       "  <tbody>\n",
       "    <tr>\n",
       "      <th>count</th>\n",
       "      <td>5.000000</td>\n",
       "      <td>5.000000</td>\n",
       "      <td>4.000000e+00</td>\n",
       "    </tr>\n",
       "    <tr>\n",
       "      <th>mean</th>\n",
       "      <td>83.860000</td>\n",
       "      <td>2.099400</td>\n",
       "      <td>2.603141e+15</td>\n",
       "    </tr>\n",
       "    <tr>\n",
       "      <th>std</th>\n",
       "      <td>18.913434</td>\n",
       "      <td>0.366096</td>\n",
       "      <td>4.722869e+15</td>\n",
       "    </tr>\n",
       "    <tr>\n",
       "      <th>min</th>\n",
       "      <td>50.800000</td>\n",
       "      <td>1.769000</td>\n",
       "      <td>4.346760e+13</td>\n",
       "    </tr>\n",
       "    <tr>\n",
       "      <th>25%</th>\n",
       "      <td>88.800000</td>\n",
       "      <td>1.827000</td>\n",
       "      <td>4.595850e+13</td>\n",
       "    </tr>\n",
       "    <tr>\n",
       "      <th>50%</th>\n",
       "      <td>90.200000</td>\n",
       "      <td>2.077000</td>\n",
       "      <td>3.472379e+14</td>\n",
       "    </tr>\n",
       "    <tr>\n",
       "      <th>75%</th>\n",
       "      <td>90.500000</td>\n",
       "      <td>2.132000</td>\n",
       "      <td>2.904420e+15</td>\n",
       "    </tr>\n",
       "    <tr>\n",
       "      <th>max</th>\n",
       "      <td>99.000000</td>\n",
       "      <td>2.692000</td>\n",
       "      <td>9.674620e+15</td>\n",
       "    </tr>\n",
       "  </tbody>\n",
       "</table>\n",
       "</div>"
      ],
      "text/plain": [
       "       female literacy  fertility    population\n",
       "count         5.000000   5.000000  4.000000e+00\n",
       "mean         83.860000   2.099400  2.603141e+15\n",
       "std          18.913434   0.366096  4.722869e+15\n",
       "min          50.800000   1.769000  4.346760e+13\n",
       "25%          88.800000   1.827000  4.595850e+13\n",
       "50%          90.200000   2.077000  3.472379e+14\n",
       "75%          90.500000   2.132000  2.904420e+15\n",
       "max          99.000000   2.692000  9.674620e+15"
      ]
     },
     "execution_count": 18,
     "metadata": {},
     "output_type": "execute_result"
    }
   ],
   "source": [
    "# numeric data\n",
    "df.describe()"
   ]
  },
  {
   "cell_type": "code",
   "execution_count": 19,
   "id": "5b24b3a8",
   "metadata": {},
   "outputs": [],
   "source": [
    "# data visualization\n",
    "# great way to spot outlier and obvious errors\n",
    "# more than just looking for patterns\n",
    "# plan data cleaning steps"
   ]
  },
  {
   "cell_type": "code",
   "execution_count": 20,
   "id": "8afdf687",
   "metadata": {},
   "outputs": [],
   "source": [
    "# # bar plot and histogram\n",
    "# bar plot for discreate data counts\n",
    "# histogram for continous data counts\n",
    "# look at frequencies"
   ]
  },
  {
   "cell_type": "code",
   "execution_count": 21,
   "id": "8c0dacf7",
   "metadata": {},
   "outputs": [],
   "source": [
    "import matplotlib.pyplot as plt"
   ]
  },
  {
   "cell_type": "code",
   "execution_count": 26,
   "id": "b1d6c2c2",
   "metadata": {},
   "outputs": [],
   "source": [
    "# df.population.plot('hist')\n",
    "# plt.hist(x)\n",
    "# plt.show()"
   ]
  },
  {
   "cell_type": "code",
   "execution_count": null,
   "id": "d59545b8",
   "metadata": {},
   "outputs": [],
   "source": []
  }
 ],
 "metadata": {
  "kernelspec": {
   "display_name": "Python 3 (ipykernel)",
   "language": "python",
   "name": "python3"
  },
  "language_info": {
   "codemirror_mode": {
    "name": "ipython",
    "version": 3
   },
   "file_extension": ".py",
   "mimetype": "text/x-python",
   "name": "python",
   "nbconvert_exporter": "python",
   "pygments_lexer": "ipython3",
   "version": "3.9.12"
  }
 },
 "nbformat": 4,
 "nbformat_minor": 5
}
