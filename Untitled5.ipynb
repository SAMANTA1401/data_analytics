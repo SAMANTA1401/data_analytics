{
 "cells": [
  {
   "cell_type": "code",
   "execution_count": 1,
   "id": "e9217b9b",
   "metadata": {},
   "outputs": [
    {
     "name": "stdout",
     "output_type": "stream",
     "text": [
      "[1 2 3]\n"
     ]
    }
   ],
   "source": [
    "import numpy as np\n",
    "\n",
    "arr1 = np.array([1,2,3])\n",
    "\n",
    "print(arr1)"
   ]
  },
  {
   "cell_type": "code",
   "execution_count": 2,
   "id": "f274e9b6",
   "metadata": {},
   "outputs": [
    {
     "name": "stdout",
     "output_type": "stream",
     "text": [
      "<class 'numpy.ndarray'>\n"
     ]
    }
   ],
   "source": [
    "print(type(arr1))"
   ]
  },
  {
   "cell_type": "code",
   "execution_count": 3,
   "id": "3581612d",
   "metadata": {},
   "outputs": [
    {
     "name": "stdout",
     "output_type": "stream",
     "text": [
      "(3,)\n"
     ]
    }
   ],
   "source": [
    "print(arr1.shape)"
   ]
  },
  {
   "cell_type": "code",
   "execution_count": 4,
   "id": "65f8f6ca",
   "metadata": {},
   "outputs": [
    {
     "data": {
      "text/plain": [
       "array([1, 2, 4])"
      ]
     },
     "execution_count": 4,
     "metadata": {},
     "output_type": "execute_result"
    }
   ],
   "source": [
    "arr1[2]=4\n",
    "arr1"
   ]
  },
  {
   "cell_type": "code",
   "execution_count": 5,
   "id": "fe8875d2",
   "metadata": {},
   "outputs": [
    {
     "data": {
      "text/plain": [
       "array([[1, 2, 3],\n",
       "       [3, 4, 5]])"
      ]
     },
     "execution_count": 5,
     "metadata": {},
     "output_type": "execute_result"
    }
   ],
   "source": [
    "arr2 = np.array([[1,2,3],[3,4,5]])\n",
    "arr2"
   ]
  },
  {
   "cell_type": "code",
   "execution_count": 6,
   "id": "291d51d1",
   "metadata": {},
   "outputs": [
    {
     "data": {
      "text/plain": [
       "5"
      ]
     },
     "execution_count": 6,
     "metadata": {},
     "output_type": "execute_result"
    }
   ],
   "source": [
    "arr2[1][2]"
   ]
  },
  {
   "cell_type": "code",
   "execution_count": 7,
   "id": "8005d46b",
   "metadata": {},
   "outputs": [
    {
     "name": "stdout",
     "output_type": "stream",
     "text": [
      "(2, 3)\n"
     ]
    }
   ],
   "source": [
    "print(arr2.shape)"
   ]
  },
  {
   "cell_type": "code",
   "execution_count": 8,
   "id": "3f712a97",
   "metadata": {},
   "outputs": [
    {
     "data": {
      "text/plain": [
       "5"
      ]
     },
     "execution_count": 8,
     "metadata": {},
     "output_type": "execute_result"
    }
   ],
   "source": [
    "arr2[1,2]"
   ]
  },
  {
   "cell_type": "code",
   "execution_count": 9,
   "id": "dcac4b4e",
   "metadata": {},
   "outputs": [
    {
     "data": {
      "text/plain": [
       "4"
      ]
     },
     "execution_count": 9,
     "metadata": {},
     "output_type": "execute_result"
    }
   ],
   "source": [
    "arr2[1][-2]"
   ]
  },
  {
   "cell_type": "code",
   "execution_count": 10,
   "id": "ac474b37",
   "metadata": {},
   "outputs": [
    {
     "data": {
      "text/plain": [
       "array(['china', 'india', 'USA', 'mexico'], dtype='<U6')"
      ]
     },
     "execution_count": 10,
     "metadata": {},
     "output_type": "execute_result"
    }
   ],
   "source": [
    "arr5 = np.array(['china','india','USA','mexico'])\n",
    "arr5"
   ]
  },
  {
   "cell_type": "code",
   "execution_count": 11,
   "id": "2b470fd5",
   "metadata": {},
   "outputs": [],
   "source": [
    "arrR = np.arange(0,20,2)"
   ]
  },
  {
   "cell_type": "code",
   "execution_count": 12,
   "id": "441a523f",
   "metadata": {},
   "outputs": [
    {
     "data": {
      "text/plain": [
       "array([ 0,  2,  4,  6,  8, 10, 12, 14, 16, 18])"
      ]
     },
     "execution_count": 12,
     "metadata": {},
     "output_type": "execute_result"
    }
   ],
   "source": [
    "arrR"
   ]
  },
  {
   "cell_type": "code",
   "execution_count": 13,
   "id": "234f9a62",
   "metadata": {},
   "outputs": [
    {
     "data": {
      "text/plain": [
       "array([ 0.        ,  0.52631579,  1.05263158,  1.57894737,  2.10526316,\n",
       "        2.63157895,  3.15789474,  3.68421053,  4.21052632,  4.73684211,\n",
       "        5.26315789,  5.78947368,  6.31578947,  6.84210526,  7.36842105,\n",
       "        7.89473684,  8.42105263,  8.94736842,  9.47368421, 10.        ])"
      ]
     },
     "execution_count": 13,
     "metadata": {},
     "output_type": "execute_result"
    }
   ],
   "source": [
    "arrL = np.linspace(0,10,20)\n",
    "arrL"
   ]
  },
  {
   "cell_type": "code",
   "execution_count": 14,
   "id": "0440f48e",
   "metadata": {},
   "outputs": [
    {
     "data": {
      "text/plain": [
       "array([9.40393817e-01, 5.02489860e-01, 7.47233725e-01, 8.73748693e-04,\n",
       "       9.62042368e-03, 3.11075907e-01, 4.54865922e-02, 3.16496786e-01,\n",
       "       6.39648764e-02, 6.73897268e-01])"
      ]
     },
     "execution_count": 14,
     "metadata": {},
     "output_type": "execute_result"
    }
   ],
   "source": [
    "arr = np.random.rand(10)\n",
    "arr"
   ]
  },
  {
   "cell_type": "code",
   "execution_count": 15,
   "id": "16743914",
   "metadata": {},
   "outputs": [],
   "source": [
    "arr = np.random.rand(3,4)"
   ]
  },
  {
   "cell_type": "code",
   "execution_count": 16,
   "id": "d2cb778d",
   "metadata": {
    "scrolled": true
   },
   "outputs": [
    {
     "data": {
      "text/plain": [
       "array([[0.67053064, 0.57566535, 0.06737641, 0.05009461],\n",
       "       [0.76112837, 0.57443308, 0.47268519, 0.15520698],\n",
       "       [0.90995387, 0.29336444, 0.54887913, 0.30107984]])"
      ]
     },
     "execution_count": 16,
     "metadata": {},
     "output_type": "execute_result"
    }
   ],
   "source": [
    "arr"
   ]
  },
  {
   "cell_type": "code",
   "execution_count": 17,
   "id": "4ff6af55",
   "metadata": {
    "scrolled": false
   },
   "outputs": [
    {
     "name": "stdout",
     "output_type": "stream",
     "text": [
      "[0. 0. 0. 0. 0. 0. 0. 0. 0. 0.]\n",
      "/n\n",
      "[[0. 0. 0.]\n",
      " [0. 0. 0.]]\n"
     ]
    }
   ],
   "source": [
    "print(np.zeros(10))\n",
    "print('/n')\n",
    "print(np.zeros((2,3)))"
   ]
  },
  {
   "cell_type": "code",
   "execution_count": 18,
   "id": "cfec2b9b",
   "metadata": {
    "scrolled": true
   },
   "outputs": [
    {
     "name": "stdout",
     "output_type": "stream",
     "text": [
      "[[[1. 1. 1.]\n",
      "  [1. 1. 1.]\n",
      "  [1. 1. 1.]\n",
      "  [1. 1. 1.]\n",
      "  [1. 1. 1.]\n",
      "  [1. 1. 1.]\n",
      "  [1. 1. 1.]\n",
      "  [1. 1. 1.]\n",
      "  [1. 1. 1.]\n",
      "  [1. 1. 1.]]\n",
      "\n",
      " [[1. 1. 1.]\n",
      "  [1. 1. 1.]\n",
      "  [1. 1. 1.]\n",
      "  [1. 1. 1.]\n",
      "  [1. 1. 1.]\n",
      "  [1. 1. 1.]\n",
      "  [1. 1. 1.]\n",
      "  [1. 1. 1.]\n",
      "  [1. 1. 1.]\n",
      "  [1. 1. 1.]]\n",
      "\n",
      " [[1. 1. 1.]\n",
      "  [1. 1. 1.]\n",
      "  [1. 1. 1.]\n",
      "  [1. 1. 1.]\n",
      "  [1. 1. 1.]\n",
      "  [1. 1. 1.]\n",
      "  [1. 1. 1.]\n",
      "  [1. 1. 1.]\n",
      "  [1. 1. 1.]\n",
      "  [1. 1. 1.]]]\n"
     ]
    }
   ],
   "source": [
    "print(np.ones((3,10,3)))"
   ]
  },
  {
   "cell_type": "code",
   "execution_count": 19,
   "id": "75fc8b36",
   "metadata": {},
   "outputs": [
    {
     "name": "stdout",
     "output_type": "stream",
     "text": [
      "[[1. 1. 1. 1. 1. 1. 1. 1. 1. 1.]\n",
      " [1. 1. 1. 1. 1. 1. 1. 1. 1. 1.]\n",
      " [1. 1. 1. 1. 1. 1. 1. 1. 1. 1.]\n",
      " [1. 1. 1. 1. 1. 1. 1. 1. 1. 1.]\n",
      " [1. 1. 1. 1. 1. 1. 1. 1. 1. 1.]\n",
      " [1. 1. 1. 1. 1. 1. 1. 1. 1. 1.]\n",
      " [1. 1. 1. 1. 1. 1. 1. 1. 1. 1.]\n",
      " [1. 1. 1. 1. 1. 1. 1. 1. 1. 1.]\n",
      " [1. 1. 1. 1. 1. 1. 1. 1. 1. 1.]\n",
      " [1. 1. 1. 1. 1. 1. 1. 1. 1. 1.]]\n"
     ]
    }
   ],
   "source": [
    "print(np.ones((10,10)))"
   ]
  },
  {
   "cell_type": "code",
   "execution_count": 20,
   "id": "9a1e59f8",
   "metadata": {},
   "outputs": [
    {
     "name": "stdout",
     "output_type": "stream",
     "text": [
      "[0 0 0 1 1 1 2 2 2]\n"
     ]
    }
   ],
   "source": [
    "arr = [0,1,2]\n",
    "print(np.repeat(arr, 3))"
   ]
  },
  {
   "cell_type": "code",
   "execution_count": 21,
   "id": "cde34130",
   "metadata": {},
   "outputs": [
    {
     "name": "stdout",
     "output_type": "stream",
     "text": [
      "[0 1 2 0 1 2 0 1 2]\n"
     ]
    }
   ],
   "source": [
    "print(np.tile(arr, 3))"
   ]
  },
  {
   "cell_type": "code",
   "execution_count": 22,
   "id": "8b4ebd99",
   "metadata": {},
   "outputs": [
    {
     "data": {
      "text/plain": [
       "array([[1., 0., 0.],\n",
       "       [0., 1., 0.],\n",
       "       [0., 0., 1.]])"
      ]
     },
     "execution_count": 22,
     "metadata": {},
     "output_type": "execute_result"
    }
   ],
   "source": [
    "identity_matrix = np.eye(3)\n",
    "identity_matrix"
   ]
  },
  {
   "cell_type": "code",
   "execution_count": 23,
   "id": "e798db21",
   "metadata": {},
   "outputs": [
    {
     "data": {
      "text/plain": [
       "array([[1, 0, 0, 0, 0],\n",
       "       [0, 2, 0, 0, 0],\n",
       "       [0, 0, 3, 0, 0],\n",
       "       [0, 0, 0, 4, 0],\n",
       "       [0, 0, 0, 0, 5]])"
      ]
     },
     "execution_count": 23,
     "metadata": {},
     "output_type": "execute_result"
    }
   ],
   "source": [
    "np.diag([1,2,3,4,5])"
   ]
  },
  {
   "cell_type": "code",
   "execution_count": 24,
   "id": "ac02c91a",
   "metadata": {},
   "outputs": [],
   "source": [
    "arr = np.random.rand(5,5)"
   ]
  },
  {
   "cell_type": "code",
   "execution_count": 25,
   "id": "0c29c376",
   "metadata": {},
   "outputs": [
    {
     "data": {
      "text/plain": [
       "array([[0.25221131, 0.53458916, 0.8890024 , 0.27016437, 0.22453401],\n",
       "       [0.53210563, 0.20069466, 0.49639359, 0.62809094, 0.69991305],\n",
       "       [0.22528725, 0.62111014, 0.53321459, 0.41220574, 0.61061222],\n",
       "       [0.36681153, 0.39475417, 0.40247422, 0.93336935, 0.1518257 ],\n",
       "       [0.03496733, 0.81614941, 0.55244891, 0.37814005, 0.52316403]])"
      ]
     },
     "execution_count": 25,
     "metadata": {},
     "output_type": "execute_result"
    }
   ],
   "source": [
    "arr"
   ]
  },
  {
   "cell_type": "code",
   "execution_count": 26,
   "id": "7c882c9a",
   "metadata": {},
   "outputs": [
    {
     "data": {
      "text/plain": [
       "array([0.25221131, 0.20069466, 0.53321459, 0.93336935, 0.52316403])"
      ]
     },
     "execution_count": 26,
     "metadata": {},
     "output_type": "execute_result"
    }
   ],
   "source": [
    "np.diag(arr)"
   ]
  },
  {
   "cell_type": "code",
   "execution_count": 27,
   "id": "e0f1ad01",
   "metadata": {},
   "outputs": [
    {
     "data": {
      "text/plain": [
       "2"
      ]
     },
     "execution_count": 27,
     "metadata": {},
     "output_type": "execute_result"
    }
   ],
   "source": [
    "arr.ndim//"
   ]
  },
  {
   "cell_type": "code",
   "execution_count": 28,
   "id": "ac649da6",
   "metadata": {},
   "outputs": [
    {
     "data": {
      "text/plain": [
       "(5, 5)"
      ]
     },
     "execution_count": 28,
     "metadata": {},
     "output_type": "execute_result"
    }
   ],
   "source": [
    "arr.shape"
   ]
  },
  {
   "cell_type": "code",
   "execution_count": 29,
   "id": "37cadfd7",
   "metadata": {},
   "outputs": [
    {
     "data": {
      "text/plain": [
       "array([ 7, -4,  8,  2])"
      ]
     },
     "execution_count": 29,
     "metadata": {},
     "output_type": "execute_result"
    }
   ],
   "source": [
    "np.random.randint(-10,10,4)"
   ]
  },
  {
   "cell_type": "code",
   "execution_count": 30,
   "id": "79b9f364",
   "metadata": {},
   "outputs": [
    {
     "data": {
      "text/plain": [
       "array([[10.25221131, 10.53458916, 10.8890024 , 10.27016437, 10.22453401],\n",
       "       [10.53210563, 10.20069466, 10.49639359, 10.62809094, 10.69991305],\n",
       "       [10.22528725, 10.62111014, 10.53321459, 10.41220574, 10.61061222],\n",
       "       [10.36681153, 10.39475417, 10.40247422, 10.93336935, 10.1518257 ],\n",
       "       [10.03496733, 10.81614941, 10.55244891, 10.37814005, 10.52316403]])"
      ]
     },
     "execution_count": 30,
     "metadata": {},
     "output_type": "execute_result"
    }
   ],
   "source": [
    "arr+10"
   ]
  },
  {
   "cell_type": "code",
   "execution_count": 31,
   "id": "811f2a2a",
   "metadata": {},
   "outputs": [
    {
     "data": {
      "text/plain": [
       "array([[1.28686794, 1.7067469 , 2.43270157, 1.31017978, 1.25173929],\n",
       "       [1.7025134 , 1.22225152, 1.64278602, 1.87402952, 2.01357762],\n",
       "       [1.25268249, 1.86099286, 1.70440246, 1.5101451 , 1.84155848],\n",
       "       [1.44312591, 1.48401932, 1.49552037, 2.54306322, 1.16395735],\n",
       "       [1.03558588, 2.26177388, 1.7375028 , 1.45956734, 1.68735807]])"
      ]
     },
     "execution_count": 31,
     "metadata": {},
     "output_type": "execute_result"
    }
   ],
   "source": [
    "np.exp(arr)"
   ]
  },
  {
   "cell_type": "code",
   "execution_count": 32,
   "id": "ae47c2d3",
   "metadata": {},
   "outputs": [
    {
     "data": {
      "text/plain": [
       "array([[-1.377488  , -0.62625675, -0.11765535, -1.30872474, -1.49372808],\n",
       "       [-0.63091326, -1.60597061, -0.70038614, -0.46507032, -0.35679916],\n",
       "       [-1.49037904, -0.47624685, -0.62883133, -0.88623268, -0.49329319],\n",
       "       [-1.0029071 , -0.92949207, -0.91012423, -0.06895428, -1.8850221 ],\n",
       "       [-3.3533411 , -0.20315784, -0.59339432, -0.97249066, -0.64786022]])"
      ]
     },
     "execution_count": 32,
     "metadata": {},
     "output_type": "execute_result"
    }
   ],
   "source": [
    "np.log(arr)"
   ]
  },
  {
   "cell_type": "code",
   "execution_count": 33,
   "id": "48259573",
   "metadata": {},
   "outputs": [
    {
     "data": {
      "text/plain": [
       "array([[-1.98729511, -0.9034975 , -0.16974079, -1.8880907 , -2.15499409],\n",
       "       [-0.91021543, -2.31692583, -1.01044361, -0.67095464, -0.51475238],\n",
       "       [-2.15016245, -0.68707897, -0.90721184, -1.27856349, -0.71167164],\n",
       "       [-1.44688909, -1.3409736 , -1.31303171, -0.09948   , -2.71951204],\n",
       "       [-4.83784857, -0.29309482, -0.85608704, -1.40300745, -0.93466473]])"
      ]
     },
     "execution_count": 33,
     "metadata": {},
     "output_type": "execute_result"
    }
   ],
   "source": [
    "np.log2(arr)"
   ]
  },
  {
   "cell_type": "code",
   "execution_count": 34,
   "id": "78894983",
   "metadata": {},
   "outputs": [
    {
     "data": {
      "text/plain": [
       "array([[-0.59823544, -0.27197985, -0.05109707, -0.56837193, -0.64871786],\n",
       "       [-0.27400215, -0.69746417, -0.30417383, -0.20197747, -0.15495591],\n",
       "       [-0.64726339, -0.20683138, -0.27309798, -0.38488596, -0.21423451],\n",
       "       [-0.43555702, -0.40367328, -0.39526193, -0.02994647, -0.8186547 ],\n",
       "       [-1.45633753, -0.08823033, -0.25770788, -0.42234733, -0.28136212]])"
      ]
     },
     "execution_count": 34,
     "metadata": {},
     "output_type": "execute_result"
    }
   ],
   "source": [
    "np.log10(arr)"
   ]
  },
  {
   "cell_type": "code",
   "execution_count": 35,
   "id": "5cb31a4f",
   "metadata": {},
   "outputs": [
    {
     "data": {
      "text/plain": [
       "array([[0.24954592, 0.50948757, 0.77644346, 0.26688984, 0.2226521 ],\n",
       "       [0.50734897, 0.1993501 , 0.47625751, 0.58760111, 0.64415118],\n",
       "       [0.22338636, 0.58193832, 0.50830429, 0.40063129, 0.57336915],\n",
       "       [0.3586409 , 0.38458127, 0.39169606, 0.8036297 , 0.15124309],\n",
       "       [0.0349602 , 0.72851346, 0.52477342, 0.36919256, 0.49962346]])"
      ]
     },
     "execution_count": 35,
     "metadata": {},
     "output_type": "execute_result"
    }
   ],
   "source": [
    "np.sin(arr)"
   ]
  },
  {
   "cell_type": "code",
   "execution_count": 36,
   "id": "9b7c91b6",
   "metadata": {},
   "outputs": [
    {
     "data": {
      "text/plain": [
       "array([[0.96836297, 0.86047802, 0.63018692, 0.96372704, 0.97489797],\n",
       "       [0.86174069, 0.97992833, 0.87930586, 0.80915075, 0.7648982 ],\n",
       "       [0.97472998, 0.81323292, 0.86117753, 0.91623936, 0.81929715],\n",
       "       [0.9334756 , 0.92309114, 0.92009467, 0.59512966, 0.9884966 ],\n",
       "       [0.99938871, 0.68503149, 0.85124195, 0.92935292, 0.86624269]])"
      ]
     },
     "execution_count": 36,
     "metadata": {},
     "output_type": "execute_result"
    }
   ],
   "source": [
    "np.cos(arr)"
   ]
  },
  {
   "cell_type": "code",
   "execution_count": 37,
   "id": "24df9a73",
   "metadata": {},
   "outputs": [
    {
     "data": {
      "text/plain": [
       "array([[0.25769875, 0.59209829, 1.23208437, 0.2769351 , 0.22838503],\n",
       "       [0.588749  , 0.20343335, 0.54162895, 0.72619485, 0.84213976],\n",
       "       [0.22917768, 0.71558628, 0.59024333, 0.43725614, 0.69983053],\n",
       "       [0.38419955, 0.4166233 , 0.42571278, 1.35034389, 0.15300314],\n",
       "       [0.03498159, 1.06347441, 0.61647974, 0.39725765, 0.57677076]])"
      ]
     },
     "execution_count": 37,
     "metadata": {},
     "output_type": "execute_result"
    }
   ],
   "source": [
    "np.tan(arr)"
   ]
  },
  {
   "cell_type": "code",
   "execution_count": 38,
   "id": "07bd8868",
   "metadata": {},
   "outputs": [
    {
     "data": {
      "text/plain": [
       "array([[0.25221131, 0.53458916, 0.8890024 , 0.27016437, 0.22453401],\n",
       "       [0.53210563, 0.20069466, 0.49639359, 0.62809094, 0.69991305],\n",
       "       [0.22528725, 0.62111014, 0.53321459, 0.41220574, 0.61061222],\n",
       "       [0.36681153, 0.39475417, 0.40247422, 0.93336935, 0.1518257 ],\n",
       "       [0.03496733, 0.81614941, 0.55244891, 0.37814005, 0.52316403]])"
      ]
     },
     "execution_count": 38,
     "metadata": {},
     "output_type": "execute_result"
    }
   ],
   "source": [
    "arr"
   ]
  },
  {
   "cell_type": "code",
   "execution_count": 39,
   "id": "9054b6f2",
   "metadata": {},
   "outputs": [
    {
     "data": {
      "text/plain": [
       "array([2.17050125, 2.55719787, 2.40242993, 2.24923497, 2.30486973])"
      ]
     },
     "execution_count": 39,
     "metadata": {},
     "output_type": "execute_result"
    }
   ],
   "source": [
    "np.sum(arr, axis=1)"
   ]
  },
  {
   "cell_type": "code",
   "execution_count": 40,
   "id": "2c422c0a",
   "metadata": {},
   "outputs": [
    {
     "data": {
      "text/plain": [
       "array([1.41138305, 2.56729754, 2.87353371, 2.62197044, 2.21004902])"
      ]
     },
     "execution_count": 40,
     "metadata": {},
     "output_type": "execute_result"
    }
   ],
   "source": [
    "np.sum(arr, axis=0)"
   ]
  },
  {
   "cell_type": "code",
   "execution_count": 41,
   "id": "bd54e51d",
   "metadata": {},
   "outputs": [
    {
     "data": {
      "text/plain": [
       "0.22413307678524425"
      ]
     },
     "execution_count": 41,
     "metadata": {},
     "output_type": "execute_result"
    }
   ],
   "source": [
    "np.std(arr)"
   ]
  },
  {
   "cell_type": "code",
   "execution_count": 42,
   "id": "3cf38826",
   "metadata": {},
   "outputs": [
    {
     "data": {
      "text/plain": [
       "0.05023563610922019"
      ]
     },
     "execution_count": 42,
     "metadata": {},
     "output_type": "execute_result"
    }
   ],
   "source": [
    "np.var(arr)"
   ]
  },
  {
   "cell_type": "code",
   "execution_count": 45,
   "id": "363980a3",
   "metadata": {},
   "outputs": [
    {
     "data": {
      "text/plain": [
       "array([[0.49639359, 0.62809094, 0.69991305],\n",
       "       [0.53321459, 0.41220574, 0.61061222],\n",
       "       [0.40247422, 0.93336935, 0.1518257 ],\n",
       "       [0.55244891, 0.37814005, 0.52316403]])"
      ]
     },
     "execution_count": 45,
     "metadata": {},
     "output_type": "execute_result"
    }
   ],
   "source": [
    "arr[1:,2:5]#"
   ]
  },
  {
   "cell_type": "code",
   "execution_count": 47,
   "id": "1c26980f",
   "metadata": {},
   "outputs": [
    {
     "data": {
      "text/plain": [
       "array([[0.49639359, 0.62809094],\n",
       "       [0.53321459, 0.41220574],\n",
       "       [0.40247422, 0.93336935],\n",
       "       [0.55244891, 0.37814005]])"
      ]
     },
     "execution_count": 47,
     "metadata": {},
     "output_type": "execute_result"
    }
   ],
   "source": [
    "arr[1:,2:-1]#"
   ]
  },
  {
   "cell_type": "code",
   "execution_count": 48,
   "id": "4ea39337",
   "metadata": {},
   "outputs": [
    {
     "data": {
      "text/plain": [
       "array([[0.22453401, 0.25221131, 0.27016437, 0.53458916, 0.8890024 ],\n",
       "       [0.20069466, 0.49639359, 0.53210563, 0.62809094, 0.69991305],\n",
       "       [0.22528725, 0.41220574, 0.53321459, 0.61061222, 0.62111014],\n",
       "       [0.1518257 , 0.36681153, 0.39475417, 0.40247422, 0.93336935],\n",
       "       [0.03496733, 0.37814005, 0.52316403, 0.55244891, 0.81614941]])"
      ]
     },
     "execution_count": 48,
     "metadata": {},
     "output_type": "execute_result"
    }
   ],
   "source": [
    "np.sort(arr)"
   ]
  },
  {
   "cell_type": "code",
   "execution_count": 49,
   "id": "03bd4ead",
   "metadata": {},
   "outputs": [
    {
     "data": {
      "text/plain": [
       "array([[0.25221131, 0.53210563, 0.22528725, 0.36681153, 0.03496733],\n",
       "       [0.53458916, 0.20069466, 0.62111014, 0.39475417, 0.81614941],\n",
       "       [0.8890024 , 0.49639359, 0.53321459, 0.40247422, 0.55244891],\n",
       "       [0.27016437, 0.62809094, 0.41220574, 0.93336935, 0.37814005],\n",
       "       [0.22453401, 0.69991305, 0.61061222, 0.1518257 , 0.52316403]])"
      ]
     },
     "execution_count": 49,
     "metadata": {},
     "output_type": "execute_result"
    }
   ],
   "source": [
    "arr.T"
   ]
  },
  {
   "cell_type": "code",
   "execution_count": 50,
   "id": "05e8f025",
   "metadata": {},
   "outputs": [
    {
     "data": {
      "text/plain": [
       "array([[0.25221131, 0.53210563, 0.22528725],\n",
       "       [0.53458916, 0.20069466, 0.62111014],\n",
       "       [0.8890024 , 0.49639359, 0.53321459],\n",
       "       [0.27016437, 0.62809094, 0.41220574],\n",
       "       [0.22453401, 0.69991305, 0.61061222]])"
      ]
     },
     "execution_count": 50,
     "metadata": {},
     "output_type": "execute_result"
    }
   ],
   "source": [
    "arr[:3,:].T"
   ]
  },
  {
   "cell_type": "code",
   "execution_count": 51,
   "id": "2c54cfce",
   "metadata": {},
   "outputs": [
    {
     "data": {
      "text/plain": [
       "array([ 4,  5,  6, 78])"
      ]
     },
     "execution_count": 51,
     "metadata": {},
     "output_type": "execute_result"
    }
   ],
   "source": [
    "arr = np.array([4,5,6,78])\n",
    "arr"
   ]
  },
  {
   "cell_type": "code",
   "execution_count": 52,
   "id": "eab20d66",
   "metadata": {},
   "outputs": [],
   "source": [
    "arr1= np.append(arr,8)"
   ]
  },
  {
   "cell_type": "code",
   "execution_count": 53,
   "id": "6572836f",
   "metadata": {},
   "outputs": [
    {
     "data": {
      "text/plain": [
       "array([ 4,  5,  6, 78,  8])"
      ]
     },
     "execution_count": 53,
     "metadata": {},
     "output_type": "execute_result"
    }
   ],
   "source": [
    "arr1"
   ]
  },
  {
   "cell_type": "code",
   "execution_count": 56,
   "id": "09279231",
   "metadata": {},
   "outputs": [],
   "source": [
    "arr2 = np.insert(arr, 3, [1,2,3])"
   ]
  },
  {
   "cell_type": "code",
   "execution_count": 57,
   "id": "ea0c1e74",
   "metadata": {},
   "outputs": [
    {
     "data": {
      "text/plain": [
       "array([ 4,  5,  6,  1,  2,  3, 78])"
      ]
     },
     "execution_count": 57,
     "metadata": {},
     "output_type": "execute_result"
    }
   ],
   "source": [
    "arr2"
   ]
  },
  {
   "cell_type": "code",
   "execution_count": 64,
   "id": "985679ca",
   "metadata": {},
   "outputs": [],
   "source": [
    "arr2 = np.insert(arr, -2, [1,2,3])"
   ]
  },
  {
   "cell_type": "code",
   "execution_count": 65,
   "id": "6afab7ba",
   "metadata": {},
   "outputs": [
    {
     "data": {
      "text/plain": [
       "array([ 4,  5,  1,  2,  3,  6, 78])"
      ]
     },
     "execution_count": 65,
     "metadata": {},
     "output_type": "execute_result"
    }
   ],
   "source": [
    "arr2"
   ]
  },
  {
   "cell_type": "code",
   "execution_count": 66,
   "id": "bef0cd80",
   "metadata": {},
   "outputs": [],
   "source": [
    "arr3 = np.delete(arr2, [1,3])"
   ]
  },
  {
   "cell_type": "code",
   "execution_count": 67,
   "id": "aef1184c",
   "metadata": {},
   "outputs": [
    {
     "data": {
      "text/plain": [
       "array([ 4,  1,  3,  6, 78])"
      ]
     },
     "execution_count": 67,
     "metadata": {},
     "output_type": "execute_result"
    }
   ],
   "source": [
    "arr3"
   ]
  },
  {
   "cell_type": "code",
   "execution_count": 68,
   "id": "1f51ed16",
   "metadata": {},
   "outputs": [],
   "source": [
    "arrC = arr3.copy()"
   ]
  },
  {
   "cell_type": "code",
   "execution_count": 69,
   "id": "d9187128",
   "metadata": {},
   "outputs": [
    {
     "data": {
      "text/plain": [
       "array([ 4,  1,  3,  6, 78])"
      ]
     },
     "execution_count": 69,
     "metadata": {},
     "output_type": "execute_result"
    }
   ],
   "source": [
    "arrC"
   ]
  },
  {
   "cell_type": "code",
   "execution_count": 70,
   "id": "10a270cb",
   "metadata": {},
   "outputs": [],
   "source": [
    "arr_cat = np.concatenate((arr1,arr2), axis = 0)"
   ]
  },
  {
   "cell_type": "code",
   "execution_count": 71,
   "id": "97ae2156",
   "metadata": {},
   "outputs": [
    {
     "data": {
      "text/plain": [
       "array([ 4,  5,  6, 78,  8,  4,  5,  1,  2,  3,  6, 78])"
      ]
     },
     "execution_count": 71,
     "metadata": {},
     "output_type": "execute_result"
    }
   ],
   "source": [
    "arr_cat"
   ]
  },
  {
   "cell_type": "code",
   "execution_count": 77,
   "id": "7ff12a7e",
   "metadata": {},
   "outputs": [],
   "source": [
    "arr9 = np.array([[1,2,3],[4,5,6]])\n",
    "arr8 = np.array([[1,2,3],[4,5,6]])"
   ]
  },
  {
   "cell_type": "code",
   "execution_count": 78,
   "id": "dea286bb",
   "metadata": {},
   "outputs": [],
   "source": [
    "arr_cat2 = np.concatenate((arr9,arr8), axis = 1)"
   ]
  },
  {
   "cell_type": "code",
   "execution_count": 79,
   "id": "c22c83c7",
   "metadata": {},
   "outputs": [
    {
     "data": {
      "text/plain": [
       "array([[1, 2, 3, 1, 2, 3],\n",
       "       [4, 5, 6, 4, 5, 6]])"
      ]
     },
     "execution_count": 79,
     "metadata": {},
     "output_type": "execute_result"
    }
   ],
   "source": [
    "arr_cat2"
   ]
  },
  {
   "cell_type": "code",
   "execution_count": 80,
   "id": "02b3f8a8",
   "metadata": {},
   "outputs": [],
   "source": [
    "arr_cat2 = np.concatenate((arr9,arr8), axis = 0)"
   ]
  },
  {
   "cell_type": "code",
   "execution_count": 81,
   "id": "371d01c4",
   "metadata": {},
   "outputs": [
    {
     "data": {
      "text/plain": [
       "array([[1, 2, 3],\n",
       "       [4, 5, 6],\n",
       "       [1, 2, 3],\n",
       "       [4, 5, 6]])"
      ]
     },
     "execution_count": 81,
     "metadata": {},
     "output_type": "execute_result"
    }
   ],
   "source": [
    "arr_cat2 "
   ]
  },
  {
   "cell_type": "code",
   "execution_count": 83,
   "id": "a1830377",
   "metadata": {},
   "outputs": [],
   "source": [
    "arr_cat2 = np.vstack((arr9,arr8))"
   ]
  },
  {
   "cell_type": "code",
   "execution_count": 85,
   "id": "6cebeefa",
   "metadata": {},
   "outputs": [
    {
     "data": {
      "text/plain": [
       "array([[1, 2, 3],\n",
       "       [4, 5, 6],\n",
       "       [1, 2, 3],\n",
       "       [4, 5, 6]])"
      ]
     },
     "execution_count": 85,
     "metadata": {},
     "output_type": "execute_result"
    }
   ],
   "source": [
    "arr_cat2 "
   ]
  },
  {
   "cell_type": "code",
   "execution_count": 86,
   "id": "5684c14c",
   "metadata": {},
   "outputs": [
    {
     "data": {
      "text/plain": [
       "array([[1, 2, 3, 1, 2, 3],\n",
       "       [4, 5, 6, 4, 5, 6]])"
      ]
     },
     "execution_count": 86,
     "metadata": {},
     "output_type": "execute_result"
    }
   ],
   "source": [
    "arr_cat2 = np.hstack((arr9,arr8))\n",
    "arr_cat2"
   ]
  },
  {
   "cell_type": "code",
   "execution_count": 87,
   "id": "880b7466",
   "metadata": {},
   "outputs": [
    {
     "data": {
      "text/plain": [
       "array([ 1,  2,  3,  6,  7, 34])"
      ]
     },
     "execution_count": 87,
     "metadata": {},
     "output_type": "execute_result"
    }
   ],
   "source": [
    "arr = np.array([1,2,3,34,6,6,7])\n",
    "np.unique(arr)"
   ]
  },
  {
   "cell_type": "code",
   "execution_count": 88,
   "id": "3387db92",
   "metadata": {},
   "outputs": [
    {
     "name": "stdout",
     "output_type": "stream",
     "text": [
      "[ 1  2  3  6  7 34]\n",
      "[1 1 1 2 1 1]\n"
     ]
    }
   ],
   "source": [
    "uniques, counts = np.unique(arr, return_counts=True)\n",
    "print(uniques)\n",
    "print(counts)"
   ]
  },
  {
   "cell_type": "code",
   "execution_count": 95,
   "id": "716e290f",
   "metadata": {},
   "outputs": [
    {
     "name": "stdout",
     "output_type": "stream",
     "text": [
      "[1 3 4 6]\n",
      "[1 2 3 4 5 6 7 9]\n",
      "[5 9]\n",
      "[2 5 7 9]\n"
     ]
    }
   ],
   "source": [
    "arr9 = np.array([[1,9,3],[4,5,6]])\n",
    "arr8 = np.array([[1,2,3],[4,7,6]])\n",
    "print(np.intersect1d(arr9, arr8))\n",
    "print(np.union1d(arr9, arr8))\n",
    "print(np.setdiff1d(arr9, arr8))\n",
    "print(np.setxor1d(arr9, arr8))"
   ]
  },
  {
   "cell_type": "code",
   "execution_count": null,
   "id": "d73d49fa",
   "metadata": {},
   "outputs": [],
   "source": []
  }
 ],
 "metadata": {
  "kernelspec": {
   "display_name": "Python 3 (ipykernel)",
   "language": "python",
   "name": "python3"
  },
  "language_info": {
   "codemirror_mode": {
    "name": "ipython",
    "version": 3
   },
   "file_extension": ".py",
   "mimetype": "text/x-python",
   "name": "python",
   "nbconvert_exporter": "python",
   "pygments_lexer": "ipython3",
   "version": "3.9.12"
  }
 },
 "nbformat": 4,
 "nbformat_minor": 5
}
