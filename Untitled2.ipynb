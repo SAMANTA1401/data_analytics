{
 "cells": [
  {
   "cell_type": "code",
   "execution_count": 1,
   "id": "df8c7048",
   "metadata": {},
   "outputs": [],
   "source": [
    "import json"
   ]
  },
  {
   "cell_type": "code",
   "execution_count": 4,
   "id": "6aa3a1e5",
   "metadata": {},
   "outputs": [],
   "source": [
    "json_data = '{\"a\":1, \"b\":2, \"c\":3}'"
   ]
  },
  {
   "cell_type": "code",
   "execution_count": 5,
   "id": "894196be",
   "metadata": {},
   "outputs": [],
   "source": [
    "x= json.loads(json_data)"
   ]
  },
  {
   "cell_type": "code",
   "execution_count": 6,
   "id": "84b92756",
   "metadata": {},
   "outputs": [
    {
     "data": {
      "text/plain": [
       "{'a': 1, 'b': 2, 'c': 3}"
      ]
     },
     "execution_count": 6,
     "metadata": {},
     "output_type": "execute_result"
    }
   ],
   "source": [
    "x"
   ]
  },
  {
   "cell_type": "code",
   "execution_count": 7,
   "id": "838d99da",
   "metadata": {},
   "outputs": [],
   "source": [
    "json_data2 = '''{  \n",
    "    \"employee\": {  \n",
    "        \"name\":       \"sonoo\",   \n",
    "        \"salary\":      56000,   \n",
    "        \"married\":    true  \n",
    "    }  \n",
    "}  '''"
   ]
  },
  {
   "cell_type": "code",
   "execution_count": 14,
   "id": "1afa7295",
   "metadata": {},
   "outputs": [],
   "source": [
    "with open('2.json', 'w') as f:\n",
    "    json.dump(json_data2,f)"
   ]
  },
  {
   "cell_type": "code",
   "execution_count": 13,
   "id": "069689d0",
   "metadata": {},
   "outputs": [
    {
     "data": {
      "text/plain": [
       "'\\n'"
      ]
     },
     "execution_count": 13,
     "metadata": {},
     "output_type": "execute_result"
    }
   ],
   "source": [
    "json_data2[3]"
   ]
  },
  {
   "cell_type": "code",
   "execution_count": null,
   "id": "fc914c99",
   "metadata": {},
   "outputs": [],
   "source": []
  }
 ],
 "metadata": {
  "kernelspec": {
   "display_name": "Python 3 (ipykernel)",
   "language": "python",
   "name": "python3"
  },
  "language_info": {
   "codemirror_mode": {
    "name": "ipython",
    "version": 3
   },
   "file_extension": ".py",
   "mimetype": "text/x-python",
   "name": "python",
   "nbconvert_exporter": "python",
   "pygments_lexer": "ipython3",
   "version": "3.9.12"
  }
 },
 "nbformat": 4,
 "nbformat_minor": 5
}
